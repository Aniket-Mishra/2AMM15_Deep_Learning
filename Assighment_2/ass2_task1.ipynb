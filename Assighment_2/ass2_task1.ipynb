{
  "cells": [
    {
      "cell_type": "markdown",
      "metadata": {
        "id": "7wv9q_pcGshE"
      },
      "source": [
        "# Assignment 2 2AMM10 2023-2024\n",
        "\n",
        "## Group: [Fill in your group name]\n",
        "### Member 1: [Fill in your name]\n",
        "### Member 2: [Fill in your name]\n",
        "### Member 3: [Fill in your name]"
      ]
    },
    {
      "cell_type": "markdown",
      "metadata": {
        "id": "cQzvuDWw_Eyw"
      },
      "source": [
        "We need to install some specific libraries. The cell below installs torch_geometric for torch 2.6.0+cu124. In case the current version of torch is different, check [here](https://pytorch-geometric.readthedocs.io/en/latest/install/installation.html) to see which versions (of both libraries) you should install. You might also need to install an old version of torch from [here](https://pytorch.org/get-started/previous-versions/)\n",
        "\n",
        "**Note:** Do not install pyg_lib from the optional dependencies"
      ]
    },
    {
      "cell_type": "code",
      "execution_count": 19,
      "metadata": {
        "id": "ibC2lMHfD67H"
      },
      "outputs": [
        {
          "name": "stdout",
          "output_type": "stream",
          "text": [
            "Name: torch\n",
            "Version: 2.7.0\n",
            "Summary: Tensors and Dynamic neural networks in Python with strong GPU acceleration\n",
            "Home-page: https://pytorch.org/\n",
            "Author: PyTorch Team\n",
            "Author-email: packages@pytorch.org\n",
            "License: BSD-3-Clause\n",
            "Location: C:\\Users\\anind\\AppData\\Roaming\\Python\\Python312\\site-packages\n",
            "Requires: filelock, fsspec, jinja2, networkx, setuptools, sympy, typing-extensions\n",
            "Required-by: torchvision\n"
          ]
        }
      ],
      "source": [
        "!pip show torch"
      ]
    },
    {
      "cell_type": "code",
      "execution_count": 20,
      "metadata": {},
      "outputs": [],
      "source": [
        "retrain = False #set it to True, if you wanna train your models fresh"
      ]
    },
    {
      "cell_type": "code",
      "execution_count": 21,
      "metadata": {},
      "outputs": [],
      "source": [
        "# print("
      ]
    },
    {
      "cell_type": "code",
      "execution_count": 22,
      "metadata": {
        "id": "8qrPQFNe_AJu"
      },
      "outputs": [
        {
          "name": "stdout",
          "output_type": "stream",
          "text": [
            "Defaulting to user installation because normal site-packages is not writeable\n",
            "Requirement already satisfied: rdkit in c:\\users\\anind\\appdata\\roaming\\python\\python312\\site-packages (2025.3.3)\n",
            "Requirement already satisfied: numpy in c:\\users\\anind\\appdata\\roaming\\python\\python312\\site-packages (from rdkit) (2.1.3)\n",
            "Requirement already satisfied: Pillow in c:\\users\\anind\\appdata\\roaming\\python\\python312\\site-packages (from rdkit) (11.0.0)\n"
          ]
        },
        {
          "name": "stderr",
          "output_type": "stream",
          "text": [
            "\n",
            "[notice] A new release of pip is available: 25.0.1 -> 25.1.1\n",
            "[notice] To update, run: python.exe -m pip install --upgrade pip\n"
          ]
        },
        {
          "name": "stdout",
          "output_type": "stream",
          "text": [
            "Defaulting to user installation because normal site-packages is not writeable\n",
            "Requirement already satisfied: torch_geometric in c:\\users\\anind\\appdata\\roaming\\python\\python312\\site-packages (2.6.1)\n",
            "Requirement already satisfied: aiohttp in c:\\users\\anind\\appdata\\roaming\\python\\python312\\site-packages (from torch_geometric) (3.12.13)\n",
            "Requirement already satisfied: fsspec in c:\\users\\anind\\appdata\\roaming\\python\\python312\\site-packages (from torch_geometric) (2024.12.0)\n",
            "Requirement already satisfied: jinja2 in c:\\users\\anind\\appdata\\roaming\\python\\python312\\site-packages (from torch_geometric) (3.1.5)\n",
            "Requirement already satisfied: numpy in c:\\users\\anind\\appdata\\roaming\\python\\python312\\site-packages (from torch_geometric) (2.1.3)\n",
            "Requirement already satisfied: psutil>=5.8.0 in c:\\users\\anind\\appdata\\roaming\\python\\python312\\site-packages (from torch_geometric) (6.1.0)\n",
            "Requirement already satisfied: pyparsing in c:\\users\\anind\\appdata\\roaming\\python\\python312\\site-packages (from torch_geometric) (3.2.0)\n",
            "Requirement already satisfied: requests in c:\\program files\\python312\\lib\\site-packages (from torch_geometric) (2.32.3)\n",
            "Requirement already satisfied: tqdm in c:\\users\\anind\\appdata\\roaming\\python\\python312\\site-packages (from torch_geometric) (4.67.1)\n",
            "Requirement already satisfied: aiohappyeyeballs>=2.5.0 in c:\\users\\anind\\appdata\\roaming\\python\\python312\\site-packages (from aiohttp->torch_geometric) (2.6.1)\n",
            "Requirement already satisfied: aiosignal>=1.1.2 in c:\\users\\anind\\appdata\\roaming\\python\\python312\\site-packages (from aiohttp->torch_geometric) (1.3.2)\n",
            "Requirement already satisfied: attrs>=17.3.0 in c:\\users\\anind\\appdata\\roaming\\python\\python312\\site-packages (from aiohttp->torch_geometric) (25.3.0)\n",
            "Requirement already satisfied: frozenlist>=1.1.1 in c:\\users\\anind\\appdata\\roaming\\python\\python312\\site-packages (from aiohttp->torch_geometric) (1.7.0)\n",
            "Requirement already satisfied: multidict<7.0,>=4.5 in c:\\users\\anind\\appdata\\roaming\\python\\python312\\site-packages (from aiohttp->torch_geometric) (6.4.4)\n",
            "Requirement already satisfied: propcache>=0.2.0 in c:\\users\\anind\\appdata\\roaming\\python\\python312\\site-packages (from aiohttp->torch_geometric) (0.3.2)\n",
            "Requirement already satisfied: yarl<2.0,>=1.17.0 in c:\\users\\anind\\appdata\\roaming\\python\\python312\\site-packages (from aiohttp->torch_geometric) (1.20.1)\n",
            "Requirement already satisfied: MarkupSafe>=2.0 in c:\\users\\anind\\appdata\\roaming\\python\\python312\\site-packages (from jinja2->torch_geometric) (3.0.2)\n",
            "Requirement already satisfied: charset-normalizer<4,>=2 in c:\\program files\\python312\\lib\\site-packages (from requests->torch_geometric) (3.4.1)\n",
            "Requirement already satisfied: idna<4,>=2.5 in c:\\program files\\python312\\lib\\site-packages (from requests->torch_geometric) (3.10)\n",
            "Requirement already satisfied: urllib3<3,>=1.21.1 in c:\\program files\\python312\\lib\\site-packages (from requests->torch_geometric) (2.3.0)\n",
            "Requirement already satisfied: certifi>=2017.4.17 in c:\\users\\anind\\appdata\\roaming\\python\\python312\\site-packages (from requests->torch_geometric) (2025.1.31)\n",
            "Requirement already satisfied: colorama in c:\\users\\anind\\appdata\\roaming\\python\\python312\\site-packages (from tqdm->torch_geometric) (0.4.6)\n"
          ]
        },
        {
          "name": "stderr",
          "output_type": "stream",
          "text": [
            "\n",
            "[notice] A new release of pip is available: 25.0.1 -> 25.1.1\n",
            "[notice] To update, run: python.exe -m pip install --upgrade pip\n"
          ]
        },
        {
          "name": "stdout",
          "output_type": "stream",
          "text": [
            "Defaulting to user installation because normal site-packages is not writeable\n",
            "Looking in links: https://data.pyg.org/whl/torch-2.6.0+cu124.html\n",
            "Requirement already satisfied: torch_scatter in c:\\users\\anind\\appdata\\roaming\\python\\python312\\site-packages (2.1.2+pt26cu124)\n",
            "Requirement already satisfied: torch_sparse in c:\\users\\anind\\appdata\\roaming\\python\\python312\\site-packages (0.6.18+pt26cu124)\n",
            "Requirement already satisfied: torch_cluster in c:\\users\\anind\\appdata\\roaming\\python\\python312\\site-packages (1.6.3+pt26cu124)\n",
            "Requirement already satisfied: torch_spline_conv in c:\\users\\anind\\appdata\\roaming\\python\\python312\\site-packages (1.2.2+pt26cu124)\n",
            "Requirement already satisfied: scipy in c:\\users\\anind\\appdata\\roaming\\python\\python312\\site-packages (from torch_sparse) (1.14.1)\n",
            "Requirement already satisfied: numpy<2.3,>=1.23.5 in c:\\users\\anind\\appdata\\roaming\\python\\python312\\site-packages (from scipy->torch_sparse) (2.1.3)\n"
          ]
        },
        {
          "name": "stderr",
          "output_type": "stream",
          "text": [
            "\n",
            "[notice] A new release of pip is available: 25.0.1 -> 25.1.1\n",
            "[notice] To update, run: python.exe -m pip install --upgrade pip\n"
          ]
        }
      ],
      "source": [
        "!pip install rdkit\n",
        "!pip install torch_geometric\n",
        "!pip install torch_scatter torch_sparse torch_cluster torch_spline_conv -f https://data.pyg.org/whl/torch-2.6.0+cu124.html"
      ]
    },
    {
      "cell_type": "code",
      "execution_count": 23,
      "metadata": {
        "id": "WVL2eo0g_Iuv"
      },
      "outputs": [],
      "source": [
        "import pickle\n",
        "import numpy as np\n",
        "from rdkit import Chem\n",
        "from rdkit.Chem import Draw, AllChem\n",
        "from rdkit import RDLogger\n",
        "RDLogger.DisableLog('rdApp.*')\n",
        "import matplotlib.pyplot as plt"
      ]
    },
    {
      "cell_type": "code",
      "execution_count": 24,
      "metadata": {},
      "outputs": [],
      "source": [
        "import torch\n",
        "from torch.utils.data import Dataset, DataLoader\n",
        "from torch.nn.utils.rnn import pad_sequence\n",
        "import torch.nn as nn\n",
        "import torch.nn.functional as F\n",
        "import numpy as np\n",
        "import matplotlib.pyplot as plt\n"
      ]
    },
    {
      "cell_type": "code",
      "execution_count": 25,
      "metadata": {
        "id": "H8rvaK56_iQ7"
      },
      "outputs": [],
      "source": [
        "with open('pos_data.pkl', 'rb') as f:\n",
        "    pos_data = pickle.load(f)\n",
        "\n",
        "with open('type_data.pkl', 'rb') as f:\n",
        "    type_data = pickle.load(f)\n",
        "\n",
        "with open('smiles.pkl', 'rb') as f:\n",
        "    smiles_data = pickle.load(f)\n",
        "\n",
        "data_split = np.load('data_split.npz')\n",
        "\n",
        "train_idxes = data_split['train_idx']\n",
        "test_idxes = data_split['test_idx']\n",
        "\n",
        "formation_energy = np.load('formation_energy.npz')\n",
        "\n",
        "fe = formation_energy['y'] # normalized formation energy\n",
        "mu = formation_energy['mu']\n",
        "std = formation_energy['sigma']"
      ]
    },
    {
      "cell_type": "code",
      "execution_count": null,
      "metadata": {
        "id": "Bt4tiz7OF74p"
      },
      "outputs": [],
      "source": []
    },
    {
      "cell_type": "code",
      "execution_count": 26,
      "metadata": {
        "id": "DIsGRQcxA_4Q"
      },
      "outputs": [
        {
          "name": "stdout",
          "output_type": "stream",
          "text": [
            "Length of data\n",
            "pos_data: 129012, type_data: 129012, smiles: 129012\n",
            "Idxes\n",
            "train: 119012, test: 10000, sum: 129012\n"
          ]
        }
      ],
      "source": [
        "# shapes of lists\n",
        "print(\"Length of data\")\n",
        "print(f\"pos_data: {len(pos_data)}, type_data: {len(type_data)}, smiles: {len(smiles_data)}\")\n",
        "print(\"Idxes\")\n",
        "print(f\"train: {len(train_idxes)}, test: {len(test_idxes)}, sum: {len(train_idxes) + len(test_idxes)}\")"
      ]
    },
    {
      "cell_type": "code",
      "execution_count": 27,
      "metadata": {},
      "outputs": [
        {
          "name": "stdout",
          "output_type": "stream",
          "text": [
            "Atom Types: [6 1 1 1 1]\n",
            "Positions:\n",
            " [[-1.2700e-02  1.0858e+00  8.0000e-03]\n",
            " [ 2.2000e-03 -6.0000e-03  2.0000e-03]\n",
            " [ 1.0117e+00  1.4638e+00  3.0000e-04]\n",
            " [-5.4080e-01  1.4475e+00 -8.7660e-01]\n",
            " [-5.2380e-01  1.4379e+00  9.0640e-01]]\n"
          ]
        }
      ],
      "source": [
        "# Example molecule at index 0\n",
        "positions = pos_data[0]\n",
        "atom_types = type_data[0]\n",
        "\n",
        "print(\"Atom Types:\", atom_types)\n",
        "print(\"Positions:\\n\", positions)"
      ]
    },
    {
      "cell_type": "code",
      "execution_count": 28,
      "metadata": {
        "id": "bVDJF7I3BFa2"
      },
      "outputs": [],
      "source": [
        "def at_number_to_atom_name(at_number):\n",
        "    if at_number == 6:\n",
        "        return 'C'\n",
        "    elif at_number == 1:\n",
        "        return 'H'\n",
        "    elif at_number == 7:\n",
        "        return 'N'\n",
        "    elif at_number == 8:\n",
        "        return 'O'\n",
        "    elif at_number == 9:\n",
        "        return 'F'\n",
        "    elif at_number == 16:\n",
        "        return 'S'\n",
        "    else:\n",
        "        return 'Unknown'\n",
        "\n",
        "def inspect_structure(idx):\n",
        "    smile = smiles_data[idx]\n",
        "    pos = pos_data[idx]\n",
        "    typ = type_data[idx]\n",
        "\n",
        "    header = f\"{'Atom':^5}│{'Number':^6}│{'x':^10}│{'y':^10}│{'z':^10}\"\n",
        "    line   = \"─────┼──────┼──────────┼──────────┼──────────\"\n",
        "    print(header)\n",
        "    print(line)\n",
        "\n",
        "    for atom_num, (x, y, z) in zip(typ, pos):\n",
        "        atom_sym = at_number_to_atom_name(atom_num)\n",
        "        print(f\"{atom_sym:^5}│{atom_num:^6}│{x:>10.3f}│{y:>10.3f}│{z:>10.3f}\")\n",
        "    print(\"\")\n",
        "    print(\"\")\n",
        "    print(f'SMILE: {smile}')\n",
        "    print(\"\")\n",
        "    print(\"\")\n",
        "    print(f'Formation Energy: {fe[idx]*std + mu:.3f}')\n",
        "    print(f'Formation Energy (normalized): {fe[idx]:.5f}')\n",
        "    mol = Chem.MolFromSmiles(smile)\n",
        "    if mol:\n",
        "        # RDKit prefers 2‑D coordinates for nice depictions\n",
        "        Chem.AllChem.Compute2DCoords(mol)\n",
        "        img = Draw.MolToImage(mol, size=(300, 300))\n",
        "\n",
        "        # Display with matplotlib (works both in notebooks and scripts)\n",
        "        plt.figure(figsize=(3, 3))\n",
        "        plt.axis('off')\n",
        "        plt.imshow(img)\n",
        "        plt.show()"
      ]
    },
    {
      "cell_type": "code",
      "execution_count": 29,
      "metadata": {
        "id": "K1rs7hhCC4oq"
      },
      "outputs": [
        {
          "name": "stdout",
          "output_type": "stream",
          "text": [
            "Atom │Number│    x     │    y     │    z     \n",
            "─────┼──────┼──────────┼──────────┼──────────\n",
            "  C  │  6   │    -0.013│     1.086│     0.008\n",
            "  H  │  1   │     0.002│    -0.006│     0.002\n",
            "  H  │  1   │     1.012│     1.464│     0.000\n",
            "  H  │  1   │    -0.541│     1.447│    -0.877\n",
            "  H  │  1   │    -0.524│     1.438│     0.906\n",
            "\n",
            "\n",
            "SMILE: C\n",
            "\n",
            "\n",
            "Formation Energy: -17.172\n",
            "Formation Energy (normalized): 5.72327\n"
          ]
        },
        {
          "data": {
            "image/png": "[encoded data removed]",
            "text/plain": [
              "<Figure size 300x300 with 1 Axes>"
            ]
          },
          "metadata": {},
          "output_type": "display_data"
        }
      ],
      "source": [
        "# methane\n",
        "# Note how methane has a relatively high formation energy (compared to QM9)\n",
        "# This correlates with lower thermodynamic stability and higher reactivity\n",
        "# For example, methane readily burns in oxygen (CH₄ + 2O₂ → CO₂ + 2H₂O)\n",
        "inspect_structure(0)"
      ]
    },
    {
      "cell_type": "code",
      "execution_count": 30,
      "metadata": {
        "id": "vo8hYLuQCeBR"
      },
      "outputs": [
        {
          "name": "stdout",
          "output_type": "stream",
          "text": [
            "Atom │Number│    x     │    y     │    z     \n",
            "─────┼──────┼──────────┼──────────┼──────────\n",
            "  C  │  6   │    -0.100│     1.524│    -0.027\n",
            "  C  │  6   │     0.114│     0.035│    -0.003\n",
            "  C  │  6   │     0.427│    -0.681│    -1.319\n",
            "  N  │  7   │     1.185│    -1.845│    -0.894\n",
            "  C  │  6   │     1.460│    -1.921│     0.443\n",
            "  O  │  8   │     2.132│    -2.763│     0.999\n",
            "  C  │  6   │     0.777│    -0.728│     1.090\n",
            "  C  │  6   │     1.354│    -0.201│     2.372\n",
            "  N  │  7   │    -0.698│    -0.835│     0.873\n",
            "  H  │  1   │     0.749│     2.040│    -0.488\n",
            "  H  │  1   │    -0.997│     1.780│    -0.603\n",
            "  H  │  1   │    -0.229│     1.924│     0.983\n",
            "  H  │  1   │    -0.496│    -0.963│    -1.841\n",
            "  H  │  1   │     1.019│    -0.037│    -1.983\n",
            "  H  │  1   │     1.454│    -2.591│    -1.515\n",
            "  H  │  1   │     2.391│     0.120│     2.233\n",
            "  H  │  1   │     0.780│     0.647│     2.756\n",
            "  H  │  1   │     1.357│    -0.993│     3.127\n",
            "  H  │  1   │    -1.155│    -0.250│     1.573\n",
            "\n",
            "\n",
            "SMILE: C[C@@]12CNC(=O)[C@]1(C)N2\n",
            "\n",
            "\n",
            "Formation Energy: -79.547\n",
            "Formation Energy (normalized): -0.32617\n"
          ]
        },
        {
          "data": {
            "image/png": "[encoded data removed]",
            "text/plain": [
              "<Figure size 300x300 with 1 Axes>"
            ]
          },
          "metadata": {},
          "output_type": "display_data"
        }
      ],
      "source": [
        "# random structure\n",
        "inspect_structure(np.random.choice(range(len(smiles_data))))"
      ]
    },
    {
      "cell_type": "markdown",
      "metadata": {
        "id": "76MeHNQ_Gd9t"
      },
      "source": [
        "## Task 1"
      ]
    },
    {
      "cell_type": "markdown",
      "metadata": {},
      "source": [
        "## Task 1 - Building a model for geometric molecular representations\n",
        "\n",
        "a. Converting Geometric representation of data (type_data and pos_data) into PyG-compatible Data objects"
      ]
    },
    {
      "cell_type": "code",
      "execution_count": 31,
      "metadata": {
        "id": "Lv736iffCez4"
      },
      "outputs": [],
      "source": [
        "import torch\n",
        "from torch_geometric.data import Dataset, Data\n",
        "import numpy as np\n",
        "from sklearn.preprocessing import OneHotEncoder\n",
        "from scipy.spatial import cKDTree \n",
        "\n",
        "class MoleculeGraphDataset(Dataset):\n",
        "    def __init__(self, pos_data, type_data, fe_targets, idxes, radius=3.0):\n",
        "        super().__init__()\n",
        "        self.pos_data = pos_data\n",
        "        self.type_data = type_data\n",
        "        self.targets = fe_targets\n",
        "        self.idxes = idxes\n",
        "        self.radius = radius\n",
        "        # self.encoder = OneHotEncoder(sparse=False)\n",
        "        self.encoder = OneHotEncoder(sparse_output=False)\n",
        "        self.encoder.fit(np.array([[1], [6], [7], [8], [9], [16]])) \n",
        "\n",
        "    def len(self):\n",
        "        return len(self.idxes)\n",
        "\n",
        "    def get(self, idx):\n",
        "        real_idx = self.idxes[idx]\n",
        "        pos = self.pos_data[real_idx]\n",
        "        atom_types = self.type_data[real_idx].reshape(-1, 1)\n",
        "        x = torch.tensor(self.encoder.transform(atom_types), dtype=torch.float) \n",
        "        pos = torch.tensor(pos, dtype=torch.float)\n",
        "\n",
        "        tree = cKDTree(pos)\n",
        "        # edge_index = torch.tensor(tree.query_pairs(r=self.radius), dtype=torch.long).T\n",
        "        \n",
        "        #fixing set to integer issue\n",
        "        pairs = list(tree.query_pairs(r=self.radius))\n",
        "        if len(pairs) > 0:\n",
        "            edge_index = torch.tensor(pairs, dtype=torch.long).T\n",
        "            edge_index = torch.cat([edge_index, edge_index.flip(0)], dim=1)  # make bidirectional\n",
        "        else:\n",
        "            edge_index = torch.empty((2, 0), dtype=torch.long)\n",
        "\n",
        "        # if edge_index.numel() > 0:\n",
        "        #     edge_index = torch.cat([edge_index, edge_index.flip(0)], dim=1)\n",
        "        # else:\n",
        "        #     edge_index = torch.empty((2, 0), dtype=torch.long)\n",
        "\n",
        "        y = torch.tensor(self.targets[real_idx], dtype=torch.float).view(1)\n",
        "\n",
        "        return Data(x=x, edge_index=edge_index, pos=pos, y=y)\n"
      ]
    },
    {
      "cell_type": "code",
      "execution_count": 32,
      "metadata": {},
      "outputs": [],
      "source": [
        "train_dataset = MoleculeGraphDataset(pos_data, type_data, fe, train_idxes)\n",
        "test_dataset = MoleculeGraphDataset(pos_data, type_data, fe, test_idxes)\n",
        "\n",
        "from torch_geometric.loader import DataLoader\n",
        "train_loader = DataLoader(train_dataset, batch_size=32, shuffle=True)\n",
        "test_loader = DataLoader(test_dataset, batch_size=64)\n"
      ]
    },
    {
      "cell_type": "markdown",
      "metadata": {},
      "source": [
        "Buildin GNN Model"
      ]
    },
    {
      "cell_type": "code",
      "execution_count": 33,
      "metadata": {},
      "outputs": [],
      "source": [
        "\n",
        "from torch_geometric.nn import GCNConv, global_mean_pool\n",
        "\n",
        "class GCNModel(torch.nn.Module):\n",
        "    def __init__(self, in_channels, hidden_channels):\n",
        "        super().__init__()\n",
        "        self.conv1 = GCNConv(in_channels, hidden_channels)\n",
        "        self.conv2 = GCNConv(hidden_channels, hidden_channels)\n",
        "        self.lin1 = torch.nn.Linear(hidden_channels, hidden_channels)\n",
        "        self.lin2 = torch.nn.Linear(hidden_channels, 1)\n",
        "\n",
        "    def forward(self, x, edge_index, batch):\n",
        "        x = self.conv1(x, edge_index)\n",
        "        x = F.relu(x)\n",
        "        x = self.conv2(x, edge_index)\n",
        "        x = F.relu(x)\n",
        "        x = global_mean_pool(x, batch) \n",
        "        x = self.lin1(x)\n",
        "        x = F.relu(x)\n",
        "        x = self.lin2(x)\n",
        "        return x.view(-1) \n"
      ]
    },
    {
      "cell_type": "markdown",
      "metadata": {},
      "source": [
        "Training the model"
      ]
    },
    {
      "cell_type": "code",
      "execution_count": 34,
      "metadata": {},
      "outputs": [],
      "source": [
        "# model = GCNModel(in_channels=6, hidden_channels=64) "
      ]
    },
    {
      "cell_type": "code",
      "execution_count": 35,
      "metadata": {},
      "outputs": [],
      "source": [
        "# #optimizer and loss function\n",
        "# import torch\n",
        "# from torch_geometric.data import DataLoader\n",
        "\n",
        "# device = torch.device('cuda' if torch.cuda.is_available() else 'cpu')\n",
        "# model = model.to(device)\n",
        "\n",
        "# optimizer = torch.optim.Adam(model.parameters(), lr=1e-3)\n",
        "# criterion = torch.nn.MSELoss()  #regression\n"
      ]
    },
    {
      "cell_type": "code",
      "execution_count": 36,
      "metadata": {},
      "outputs": [],
      "source": [
        "#training and evaluating\n",
        "\n",
        "def train():\n",
        "    model.train()\n",
        "    total_loss = 0\n",
        "    for batch in train_loader:\n",
        "        batch = batch.to(device)\n",
        "        optimizer.zero_grad()\n",
        "        out = model(batch.x, batch.edge_index, batch.batch)\n",
        "        loss = criterion(out, batch.y.view(-1))\n",
        "        loss.backward()\n",
        "        optimizer.step()\n",
        "        total_loss += loss.item() * batch.num_graphs\n",
        "    return total_loss / len(train_loader.dataset)\n",
        "\n",
        "# @torch.no_grad()\n",
        "# def test(loader):\n",
        "#     model.eval()\n",
        "#     total_loss = 0\n",
        "#     for batch in loader:\n",
        "#         batch = batch.to(device)\n",
        "#         out = model(batch.x, batch.edge_index, batch.batch)\n",
        "#         loss = criterion(out, batch.y.view(-1))\n",
        "#         total_loss += loss.item() * batch.num_graphs\n",
        "#     return total_loss / len(loader.dataset)\n",
        "\n",
        "@torch.no_grad()\n",
        "def evaluate(loader):\n",
        "    model.eval()\n",
        "    total_loss = 0\n",
        "    preds, targets = [], []\n",
        "    for batch in loader:\n",
        "        batch = batch.to(device)\n",
        "        out = model(batch.x, batch.edge_index, batch.batch)\n",
        "        loss = criterion(out, batch.y.view(-1))\n",
        "        total_loss += loss.item() * batch.num_graphs\n",
        "        preds.extend(out.cpu().numpy())\n",
        "        targets.extend(batch.y.view(-1).cpu().numpy())\n",
        "    avg_loss = total_loss / len(loader.dataset)\n",
        "    return avg_loss, preds, targets\n"
      ]
    },
    {
      "cell_type": "code",
      "execution_count": 37,
      "metadata": {},
      "outputs": [],
      "source": [
        "# if retrain:\n",
        "\n",
        "#     for epoch in range(1, 21):\n",
        "#         train_loss = train()\n",
        "#         test_loss, preds_x, targets_x = evaluate(test_loader)\n",
        "#         print(f\"Epoch {epoch:02d}, Train Loss: {train_loss:.4f}, Test Loss: {test_loss:.4f}\")\n",
        "\n",
        "#     torch.save(model.state_dict(), 'gcn_model_weights.pt')\n",
        "#     print(\"Model weights saved to gcn_model_weights.pt\")\n",
        "\n",
        "# train_loss, train_preds, train_targets = evaluate(train_loader)\n",
        "# test_loss, test_preds, test_targets = evaluate(test_loader)"
      ]
    },
    {
      "cell_type": "code",
      "execution_count": 38,
      "metadata": {},
      "outputs": [],
      "source": [
        "device = torch.device('cuda' if torch.cuda.is_available() else 'cpu')\n",
        "\n",
        "if retrain:\n",
        "    model = GCNModel(in_channels=6, hidden_channels=64).to(device)\n",
        "    optimizer = torch.optim.Adam(model.parameters(), lr=1e-3)\n",
        "    criterion = torch.nn.MSELoss()\n",
        "\n",
        "    for epoch in range(1, 21):\n",
        "        train_loss = train()\n",
        "        test_loss, preds_x, targets_x = evaluate(test_loader)\n",
        "        print(f\"Epoch {epoch:02d}, Train Loss: {train_loss:.4f}, Test Loss: {test_loss:.4f}\")\n",
        "\n",
        "    torch.save(model.state_dict(), 'gcn_model_weights.pt')\n",
        "    print(\"Model weights saved to gcn_model_weights.pt\")\n",
        "\n",
        "else:\n",
        "    model = GCNModel(in_channels=6, hidden_channels=64).to(device)\n",
        "    model.load_state_dict(torch.load('gcn_model_weights.pt'))\n",
        "    model.eval()\n",
        "    criterion = torch.nn.MSELoss()"
      ]
    },
    {
      "cell_type": "code",
      "execution_count": 39,
      "metadata": {},
      "outputs": [],
      "source": [
        "train_loss, train_preds, train_targets = evaluate(train_loader)\n",
        "test_loss, test_preds, test_targets = evaluate(test_loader)"
      ]
    },
    {
      "cell_type": "code",
      "execution_count": 40,
      "metadata": {},
      "outputs": [],
      "source": [
        "#Unnormalizing\n",
        "import numpy as np\n",
        "\n",
        "train_preds = np.array(train_preds) * std + mu\n",
        "train_targets = np.array(train_targets) * std + mu\n",
        "\n",
        "test_preds = np.array(test_preds) * std + mu\n",
        "test_targets = np.array(test_targets) * std + mu\n"
      ]
    },
    {
      "cell_type": "code",
      "execution_count": 41,
      "metadata": {},
      "outputs": [
        {
          "name": "stdout",
          "output_type": "stream",
          "text": [
            "GCN Model - Train MAE: 2.71, MSE: 18.05\n",
            "GCN Model - Test MAE: 2.75, MSE: 18.54\n"
          ]
        }
      ],
      "source": [
        "#Compute mse and mae\n",
        "from sklearn.metrics import mean_absolute_error, mean_squared_error\n",
        "\n",
        "train_mae = mean_absolute_error(train_targets, train_preds)\n",
        "train_mse = mean_squared_error(train_targets, train_preds)\n",
        "\n",
        "test_mae = mean_absolute_error(test_targets, test_preds)\n",
        "test_mse = mean_squared_error(test_targets, test_preds)\n",
        "\n",
        "print(f\"GCN Model - Train MAE: {train_mae:.2f}, MSE: {train_mse:.2f}\")\n",
        "print(f\"GCN Model - Test MAE: {test_mae:.2f}, MSE: {test_mse:.2f}\")\n"
      ]
    },
    {
      "cell_type": "code",
      "execution_count": 42,
      "metadata": {},
      "outputs": [
        {
          "data": {
            "image/png": "[encoded data removed]",
            "text/plain": [
              "<Figure size 600x600 with 1 Axes>"
            ]
          },
          "metadata": {},
          "output_type": "display_data"
        }
      ],
      "source": [
        "import matplotlib.pyplot as plt\n",
        "\n",
        "plt.figure(figsize=(6, 6))\n",
        "plt.scatter(test_targets, test_preds, alpha=0.5)\n",
        "plt.plot([min(test_targets), max(test_targets)],\n",
        "         [min(test_targets), max(test_targets)], 'r--')\n",
        "plt.xlabel(\"True Formation Energy (eV)\")\n",
        "plt.ylabel(\"Predicted Formation Energy (eV)\")\n",
        "plt.title(\"GCN Model - Test Set Predictions\")\n",
        "plt.grid(True)\n",
        "plt.savefig(\"gcn_predictions_vs_true.png\")\n",
        "plt.show()\n"
      ]
    },
    {
      "cell_type": "markdown",
      "metadata": {},
      "source": [
        "## Task 1 - Building a model for SMILES molecular representations\n",
        "\n",
        "a."
      ]
    },
    {
      "cell_type": "code",
      "execution_count": 43,
      "metadata": {},
      "outputs": [],
      "source": [
        "from torch.nn.utils.rnn import pad_sequence\n",
        "class SMILESTokenizer:\n",
        "    def __init__(self, smiles_list):\n",
        "        chars = set(\"\".join(smiles_list))\n",
        "        self.char2idx = {ch: i + 1 for i, ch in enumerate(sorted(chars))}\n",
        "        self.char2idx[\"<PAD>\"] = 0\n",
        "        self.idx2char = {i: ch for ch, i in self.char2idx.items()}\n",
        "\n",
        "    def encode(self, smile):\n",
        "        return torch.tensor([self.char2idx[ch] for ch in smile], dtype=torch.long)\n",
        "\n",
        "    def pad_batch(self, batch):\n",
        "        return pad_sequence(batch, batch_first=True, padding_value=0)\n"
      ]
    },
    {
      "cell_type": "code",
      "execution_count": 44,
      "metadata": {},
      "outputs": [],
      "source": [
        "from torch.utils.data import Dataset\n",
        "\n",
        "class SMILESDataset(Dataset):\n",
        "    def __init__(self, smiles_list, fe_list, idx_list, tokenizer):\n",
        "        self.smiles = [tokenizer.encode(smiles_list[i]) for i in idx_list]\n",
        "        self.fe = torch.tensor([fe[i] for i in idx_list], dtype=torch.float)\n",
        "        self.tokenizer = tokenizer\n",
        "\n",
        "    def __len__(self):\n",
        "        return len(self.fe)\n",
        "\n",
        "    def __getitem__(self, idx):\n",
        "        return self.smiles[idx], self.fe[idx]\n"
      ]
    },
    {
      "cell_type": "code",
      "execution_count": 45,
      "metadata": {},
      "outputs": [],
      "source": [
        "import torch.nn as nn\n",
        "\n",
        "class SMILESModel(nn.Module):\n",
        "    def __init__(self, vocab_size, embedding_dim=128, hidden_dim=256):\n",
        "        super().__init__()\n",
        "        self.embedding = nn.Embedding(vocab_size, embedding_dim, padding_idx=0)\n",
        "        self.gru = nn.GRU(embedding_dim, hidden_dim, batch_first=True)\n",
        "        self.lin1 = nn.Linear(hidden_dim, hidden_dim)\n",
        "        self.lin2 = nn.Linear(hidden_dim, 1)\n",
        "\n",
        "    def forward(self, x):\n",
        "        x = self.embedding(x)          # [B, L, D]\n",
        "        _, h_n = self.gru(x)           # [1, B, H]\n",
        "        h = h_n.squeeze(0)             # [B, H]\n",
        "        h = torch.relu(self.lin1(h))\n",
        "        return self.lin2(h).squeeze(1) # [B]\n"
      ]
    },
    {
      "cell_type": "code",
      "execution_count": 46,
      "metadata": {},
      "outputs": [],
      "source": [
        "def train(model, dataloader, optimizer, criterion, device):\n",
        "    model.train()\n",
        "    total_loss = 0\n",
        "    for smiles, targets in dataloader:\n",
        "        smiles = tokenizer.pad_batch(smiles).to(device)\n",
        "        targets = targets.to(device)\n",
        "\n",
        "        optimizer.zero_grad()\n",
        "        output = model(smiles)\n",
        "        loss = criterion(output, targets)\n",
        "        loss.backward()\n",
        "        optimizer.step()\n",
        "        total_loss += loss.item() * smiles.size(0)\n",
        "    return total_loss / len(dataloader.dataset)\n",
        "\n",
        "def evaluate(model, dataloader, criterion, device):\n",
        "    model.eval()\n",
        "    total_loss = 0\n",
        "    preds, targets_all = [], []\n",
        "    with torch.no_grad():\n",
        "        for smiles, targets in dataloader:\n",
        "            smiles = tokenizer.pad_batch(smiles).to(device)\n",
        "            targets = targets.to(device)\n",
        "            output = model(smiles)\n",
        "            loss = criterion(output, targets)\n",
        "            total_loss += loss.item() * smiles.size(0)\n",
        "            preds.extend(output.cpu().numpy())\n",
        "            targets_all.extend(targets.cpu().numpy())\n",
        "    return total_loss / len(dataloader.dataset), preds, targets_all\n"
      ]
    },
    {
      "cell_type": "code",
      "execution_count": 47,
      "metadata": {},
      "outputs": [],
      "source": [
        "from torch.utils.data import DataLoader\n",
        "\n",
        "# Tokenizer\n",
        "tokenizer = SMILESTokenizer(smiles_data)\n",
        "\n",
        "def collate_fn(batch):\n",
        "    smiles_batch, target_batch = zip(*batch)\n",
        "    smiles_batch = tokenizer.pad_batch(smiles_batch)\n",
        "    target_batch = torch.stack(target_batch)\n",
        "    return smiles_batch, target_batch\n",
        "\n",
        "# Datasets\n",
        "train_dataset = SMILESDataset(smiles_data, fe, train_idxes, tokenizer)\n",
        "test_dataset = SMILESDataset(smiles_data, fe, test_idxes, tokenizer)\n",
        "\n",
        "# train_loader = DataLoader(train_dataset, batch_size=64, shuffle=True)\n",
        "# test_loader = DataLoader(test_dataset, batch_size=64)\n",
        "\n",
        "train_loader = DataLoader(train_dataset, batch_size=64, shuffle=True, collate_fn=collate_fn)\n",
        "test_loader = DataLoader(test_dataset, batch_size=64, collate_fn=collate_fn)\n",
        "\n",
        "\n",
        "# # Model\n",
        "# device = torch.device('cuda' if torch.cuda.is_available() else 'cpu')\n",
        "# model = SMILESModel(vocab_size=len(tokenizer.char2idx)).to(device)\n",
        "# optimizer = torch.optim.Adam(model.parameters(), lr=1e-3)\n",
        "# criterion = nn.MSELoss()\n",
        "\n",
        "# # Training loop\n",
        "# for epoch in range(1, 21):\n",
        "#     train_loss = train(model, train_loader, optimizer, criterion, device)\n",
        "#     test_loss, _, _ = evaluate(model, test_loader, criterion, device)\n",
        "#     print(f\"Epoch {epoch}: Train Loss = {train_loss:.4f}, Test Loss = {test_loss:.4f}\")\n",
        "\n",
        "# torch.save(model.state_dict(), \"smiles_model_weights.pt\")\n",
        "# print(\"Model weights saved to smiles_model_weights.pt\")\n",
        "\n",
        "\n"
      ]
    },
    {
      "cell_type": "code",
      "execution_count": 48,
      "metadata": {},
      "outputs": [
        {
          "name": "stdout",
          "output_type": "stream",
          "text": [
            "Loaded pretrained SMILES model weights.\n"
          ]
        }
      ],
      "source": [
        "device = torch.device('cuda' if torch.cuda.is_available() else 'cpu')\n",
        "criterion = nn.MSELoss()\n",
        "\n",
        "if retrain:\n",
        "    model = SMILESModel(vocab_size=len(tokenizer.char2idx)).to(device)\n",
        "    optimizer = torch.optim.Adam(model.parameters(), lr=1e-3)\n",
        "\n",
        "    for epoch in range(1, 21):\n",
        "        train_loss = train(model, train_loader, optimizer, criterion, device)\n",
        "        test_loss, _, _ = evaluate(model, test_loader, criterion, device)\n",
        "        print(f\"Epoch {epoch}: Train Loss = {train_loss:.4f}, Test Loss = {test_loss:.4f}\")\n",
        "\n",
        "    torch.save(model.state_dict(), \"smiles_model_weights.pt\")\n",
        "    print(\"Model weights saved to smiles_model_weights.pt\")\n",
        "\n",
        "else:\n",
        "    model = SMILESModel(vocab_size=len(tokenizer.char2idx)).to(device)\n",
        "    model.load_state_dict(torch.load(\"smiles_model_weights.pt\"))\n",
        "    model.eval()\n",
        "    print(\"Loaded pretrained SMILES model weights.\")\n"
      ]
    },
    {
      "cell_type": "code",
      "execution_count": null,
      "metadata": {},
      "outputs": [],
      "source": [
        "#Run this only when you dont wanna train the model - this will load model weighys\n",
        "\n",
        "# model = SMILESModel(vocab_size=len(tokenizer.char2idx)).to(device)\n",
        "# model.load_state_dict(torch.load(\"smiles_model_weights.pt\"))\n",
        "# model.eval()"
      ]
    },
    {
      "cell_type": "code",
      "execution_count": 51,
      "metadata": {},
      "outputs": [],
      "source": [
        "train_loss, train_preds, train_targets = evaluate(model, train_loader, criterion, device)\n",
        "test_loss, test_preds, test_targets = evaluate(model, test_loader, criterion, device)"
      ]
    },
    {
      "cell_type": "code",
      "execution_count": 52,
      "metadata": {},
      "outputs": [],
      "source": [
        "#unnormalize\n",
        "\n",
        "train_preds = np.array(train_preds) * std + mu\n",
        "train_targets = np.array(train_targets) * std + mu\n",
        "test_preds = np.array(test_preds) * std + mu\n",
        "test_targets = np.array(test_targets) * std + mu\n"
      ]
    },
    {
      "cell_type": "code",
      "execution_count": 53,
      "metadata": {},
      "outputs": [
        {
          "name": "stdout",
          "output_type": "stream",
          "text": [
            "SMILES Model - Train MAE: 0.28, MSE: 0.18\n",
            "SMILES Model - Test MAE: 0.29, MSE: 0.20\n"
          ]
        }
      ],
      "source": [
        "#compute mse and mae\n",
        "from sklearn.metrics import mean_absolute_error, mean_squared_error\n",
        "\n",
        "train_mae = mean_absolute_error(train_targets, train_preds)\n",
        "train_mse = mean_squared_error(train_targets, train_preds)\n",
        "test_mae = mean_absolute_error(test_targets, test_preds)\n",
        "test_mse = mean_squared_error(test_targets, test_preds)\n",
        "\n",
        "print(f\"SMILES Model - Train MAE: {train_mae:.2f}, MSE: {train_mse:.2f}\")\n",
        "print(f\"SMILES Model - Test MAE: {test_mae:.2f}, MSE: {test_mse:.2f}\")\n"
      ]
    },
    {
      "cell_type": "code",
      "execution_count": 54,
      "metadata": {},
      "outputs": [
        {
          "data": {
            "image/png": "[encoded data removed]",
            "text/plain": [
              "<Figure size 600x600 with 1 Axes>"
            ]
          },
          "metadata": {},
          "output_type": "display_data"
        }
      ],
      "source": [
        "#plot\n",
        "import matplotlib.pyplot as plt\n",
        "\n",
        "plt.figure(figsize=(6, 6))\n",
        "plt.scatter(test_targets, test_preds, alpha=0.5)\n",
        "plt.plot([min(test_targets), max(test_targets)],\n",
        "         [min(test_targets), max(test_targets)], 'r--')\n",
        "plt.xlabel(\"True Formation Energy (eV)\")\n",
        "plt.ylabel(\"Predicted Formation Energy (eV)\")\n",
        "plt.title(\"SMILES Model – Test Set Predictions\")\n",
        "plt.grid(True)\n",
        "plt.savefig(\"smiles_predictions_vs_true.png\")\n",
        "plt.show()\n"
      ]
    },
    {
      "cell_type": "markdown",
      "metadata": {
        "id": "n0zvKnpLGf9v"
      },
      "source": [
        "## Task 2"
      ]
    },
    {
      "cell_type": "markdown",
      "metadata": {},
      "source": []
    },
    {
      "cell_type": "code",
      "execution_count": 126,
      "metadata": {
        "id": "AC1KICrZGgkY"
      },
      "outputs": [],
      "source": [
        "#subset\n",
        "\n",
        "from torch.utils.data import Subset\n",
        "import random\n",
        "\n",
        "def create_subsets(dataset, sizes, seed=42):\n",
        "    random.seed(seed)\n",
        "    indices = list(range(len(dataset)))\n",
        "    random.shuffle(indices)\n",
        "    return {size: Subset(dataset, indices[:size]) for size in sizes}\n"
      ]
    },
    {
      "cell_type": "code",
      "execution_count": 127,
      "metadata": {},
      "outputs": [],
      "source": [
        "def training(model, loader, optimizer, loss_fn, device, epochs=10):\n",
        "    model.train()\n",
        "    for _ in range(epochs):\n",
        "        for batch in loader:\n",
        "            batch = batch.to(device)\n",
        "            optimizer.zero_grad()\n",
        "            out = model(batch.x, batch.edge_index, batch.batch)\n",
        "            loss = loss_fn(out.view(-1), batch.y.view(-1))\n",
        "            loss.backward()\n",
        "            optimizer.step()\n"
      ]
    },
    {
      "cell_type": "code",
      "execution_count": 128,
      "metadata": {},
      "outputs": [],
      "source": [
        "from sklearn.metrics import mean_absolute_error, r2_score\n",
        "\n",
        "def evaluating(model, loader, device):\n",
        "    model.eval()\n",
        "    preds, targets = [], []\n",
        "    with torch.no_grad():\n",
        "        for batch in loader:\n",
        "            batch = batch.to(device)\n",
        "            out = model(batch.x, batch.edge_index, batch.batch)\n",
        "            preds.append(out.view(-1).cpu())\n",
        "            targets.append(batch.y.view(-1).cpu())\n",
        "    preds = torch.cat(preds).numpy()\n",
        "    targets = torch.cat(targets).numpy()\n",
        "    return mean_absolute_error(targets, preds), r2_score(targets, preds)\n"
      ]
    },
    {
      "cell_type": "code",
      "execution_count": 130,
      "metadata": {},
      "outputs": [
        {
          "name": "stdout",
          "output_type": "stream",
          "text": [
            "\n",
            "Training on 100 samples...\n",
            "Subset size: 100 | MAE: 0.7715 | R²: 0.0432\n",
            "\n",
            "Training on 300 samples...\n",
            "Subset size: 300 | MAE: 0.6892 | R²: 0.2273\n",
            "\n",
            "Training on 1000 samples...\n",
            "Subset size: 1000 | MAE: 0.2891 | R²: 0.7515\n",
            "\n",
            "Training on 3000 samples...\n",
            "Subset size: 3000 | MAE: 0.2676 | R²: 0.7622\n",
            "\n",
            "Training on 10000 samples...\n",
            "Subset size: 10000 | MAE: 0.2598 | R²: 0.7759\n"
          ]
        }
      ],
      "source": [
        "from torch_geometric.loader import DataLoader\n",
        "import torch.nn as nn\n",
        "\n",
        "subset_sizes = [100, 300, 1000, 3000, 10000]\n",
        "gcn_train_dataset = MoleculeGraphDataset(pos_data, type_data, fe, train_idxes)\n",
        "gcn_test_dataset = MoleculeGraphDataset(pos_data=pos_data,type_data=type_data,fe_targets=fe,idxes=test_idxes)\n",
        "gcn_results = {}\n",
        "\n",
        "gcn_subsets = create_subsets(gcn_train_dataset, subset_sizes)\n",
        "\n",
        "for size, subset in gcn_subsets.items():\n",
        "    print(f\"\\nTraining on {size} samples...\")\n",
        "    \n",
        "    loader = DataLoader(subset, batch_size=64, shuffle=True)\n",
        "    \n",
        "    model = GCNModel(in_channels=6, hidden_channels=64).to(device)\n",
        "    optimizer = torch.optim.Adam(model.parameters(), lr=0.001)\n",
        "    loss_fn = nn.L1Loss()\n",
        "\n",
        "    training(model, loader, optimizer, loss_fn, device, epochs=10)\n",
        "    test_loader = DataLoader(gcn_test_dataset, batch_size=64)\n",
        "    mae, r2 = evaluating(model, test_loader, device)\n",
        "    gcn_results[size] = {'MAE': mae, 'R2': r2}\n",
        "    print(f\"Subset size: {size} | MAE: {mae:.4f} | R²: {r2:.4f}\")\n"
      ]
    },
    {
      "cell_type": "markdown",
      "metadata": {},
      "source": [
        "SMILES"
      ]
    },
    {
      "cell_type": "code",
      "execution_count": null,
      "metadata": {},
      "outputs": [],
      "source": []
    },
    {
      "cell_type": "code",
      "execution_count": 135,
      "metadata": {},
      "outputs": [],
      "source": [
        "from torch.nn.utils.rnn import pad_sequence\n",
        "\n",
        "def smiles_collate_fn(batch):\n",
        "    sequences, targets = zip(*batch)\n",
        "    sequences = [torch.tensor(seq, dtype=torch.long) for seq in sequences]\n",
        "    padded = pad_sequence(sequences, batch_first=True, padding_value=0)\n",
        "    targets = torch.stack(targets)\n",
        "    return {'x': padded, 'y': targets}\n"
      ]
    },
    {
      "cell_type": "code",
      "execution_count": 136,
      "metadata": {},
      "outputs": [],
      "source": [
        "from sklearn.metrics import mean_absolute_error, r2_score\n",
        "\n",
        "\n",
        "def train_smiles(model, loader, optimizer, loss_fn, device, epochs=10):\n",
        "    model.train()\n",
        "    for _ in range(epochs):\n",
        "        for batch in loader:\n",
        "            x, y = batch['x'].to(device), batch['y'].to(device)\n",
        "            optimizer.zero_grad()\n",
        "            out = model(x).squeeze()\n",
        "            loss = loss_fn(out, y)\n",
        "            loss.backward()\n",
        "            optimizer.step()\n",
        "\n",
        "\n",
        "def evaluate_smiles(model, loader, device):\n",
        "    model.eval()\n",
        "    preds, targets = [], []\n",
        "    with torch.no_grad():\n",
        "        for batch in loader:\n",
        "            x, y = batch['x'].to(device), batch['y'].to(device)\n",
        "            out = model(x).squeeze()\n",
        "            preds.append(out.cpu())\n",
        "            targets.append(y.cpu())\n",
        "    preds = torch.cat(preds).numpy()\n",
        "    targets = torch.cat(targets).numpy()\n",
        "    return mean_absolute_error(targets, preds), r2_score(targets, preds)\n"
      ]
    },
    {
      "cell_type": "code",
      "execution_count": 137,
      "metadata": {},
      "outputs": [],
      "source": [
        "# Define tokenizer from training set\n",
        "tokenizer = SMILESTokenizer([smiles_data[i] for i in train_idxes])\n",
        "\n",
        "# Full dataset objects\n",
        "smiles_train_dataset = SMILESDataset(smiles_data, fe, train_idxes, tokenizer)\n",
        "smiles_test_dataset = SMILESDataset(smiles_data, fe, test_idxes, tokenizer)\n",
        "\n",
        "# Create subsets\n",
        "subset_sizes = [100, 300, 1000, 3000, 10000]\n",
        "smiles_subsets = create_subsets(smiles_train_dataset, subset_sizes)\n",
        "\n",
        "# Test loader\n",
        "test_loader = DataLoader(smiles_test_dataset, batch_size=64, collate_fn=smiles_collate_fn)\n"
      ]
    },
    {
      "cell_type": "code",
      "execution_count": 138,
      "metadata": {},
      "outputs": [
        {
          "name": "stdout",
          "output_type": "stream",
          "text": [
            "\n",
            "Training on 100 SMILES samples...\n"
          ]
        },
        {
          "name": "stderr",
          "output_type": "stream",
          "text": [
            "C:\\Users\\anind\\AppData\\Local\\Temp\\ipykernel_37008\\1810287942.py:5: UserWarning: To copy construct from a tensor, it is recommended to use sourceTensor.detach().clone() or sourceTensor.detach().clone().requires_grad_(True), rather than torch.tensor(sourceTensor).\n",
            "  sequences = [torch.tensor(seq, dtype=torch.long) for seq in sequences]\n"
          ]
        },
        {
          "name": "stdout",
          "output_type": "stream",
          "text": [
            "Subset size: 100 | MAE: 0.7917 | R²: -0.0035\n",
            "\n",
            "Training on 300 SMILES samples...\n"
          ]
        },
        {
          "name": "stderr",
          "output_type": "stream",
          "text": [
            "C:\\Users\\anind\\AppData\\Local\\Temp\\ipykernel_37008\\1810287942.py:5: UserWarning: To copy construct from a tensor, it is recommended to use sourceTensor.detach().clone() or sourceTensor.detach().clone().requires_grad_(True), rather than torch.tensor(sourceTensor).\n",
            "  sequences = [torch.tensor(seq, dtype=torch.long) for seq in sequences]\n"
          ]
        },
        {
          "name": "stdout",
          "output_type": "stream",
          "text": [
            "Subset size: 300 | MAE: 0.7548 | R²: 0.0876\n",
            "\n",
            "Training on 1000 SMILES samples...\n"
          ]
        },
        {
          "name": "stderr",
          "output_type": "stream",
          "text": [
            "C:\\Users\\anind\\AppData\\Local\\Temp\\ipykernel_37008\\1810287942.py:5: UserWarning: To copy construct from a tensor, it is recommended to use sourceTensor.detach().clone() or sourceTensor.detach().clone().requires_grad_(True), rather than torch.tensor(sourceTensor).\n",
            "  sequences = [torch.tensor(seq, dtype=torch.long) for seq in sequences]\n"
          ]
        },
        {
          "name": "stdout",
          "output_type": "stream",
          "text": [
            "Subset size: 1000 | MAE: 0.7690 | R²: 0.1957\n",
            "\n",
            "Training on 3000 SMILES samples...\n"
          ]
        },
        {
          "name": "stderr",
          "output_type": "stream",
          "text": [
            "C:\\Users\\anind\\AppData\\Local\\Temp\\ipykernel_37008\\1810287942.py:5: UserWarning: To copy construct from a tensor, it is recommended to use sourceTensor.detach().clone() or sourceTensor.detach().clone().requires_grad_(True), rather than torch.tensor(sourceTensor).\n",
            "  sequences = [torch.tensor(seq, dtype=torch.long) for seq in sequences]\n"
          ]
        },
        {
          "name": "stdout",
          "output_type": "stream",
          "text": [
            "Subset size: 3000 | MAE: 0.2713 | R²: 0.8059\n",
            "\n",
            "Training on 10000 SMILES samples...\n"
          ]
        },
        {
          "name": "stderr",
          "output_type": "stream",
          "text": [
            "C:\\Users\\anind\\AppData\\Local\\Temp\\ipykernel_37008\\1810287942.py:5: UserWarning: To copy construct from a tensor, it is recommended to use sourceTensor.detach().clone() or sourceTensor.detach().clone().requires_grad_(True), rather than torch.tensor(sourceTensor).\n",
            "  sequences = [torch.tensor(seq, dtype=torch.long) for seq in sequences]\n"
          ]
        },
        {
          "name": "stdout",
          "output_type": "stream",
          "text": [
            "Subset size: 10000 | MAE: 0.2076 | R²: 0.8461\n"
          ]
        }
      ],
      "source": [
        "# from torch.utils.data import DataLoader  # correct one for SMILES\n",
        "from torch.utils.data import DataLoader  #this one\n",
        "\n",
        "smiles_results = {}\n",
        "# Training loop\n",
        "for size, subset in smiles_subsets.items():\n",
        "    print(f\"\\nTraining on {size} SMILES samples...\")\n",
        "\n",
        "    loader = DataLoader(subset, batch_size=64, shuffle=True, collate_fn=smiles_collate_fn)\n",
        "\n",
        "    model = SMILESModel(vocab_size=len(tokenizer.char2idx), hidden_dim=128).to(device)\n",
        "    optimizer = torch.optim.Adam(model.parameters(), lr=0.001)\n",
        "    loss_fn = nn.L1Loss()\n",
        "\n",
        "    train_smiles(model, loader, optimizer, loss_fn, device, epochs=10)\n",
        "    mae, r2 = evaluate_smiles(model, test_loader, device)\n",
        "    smiles_results[size] = {'MAE': mae, 'R2': r2}\n",
        "    print(f\"Subset size: {size} | MAE: {mae:.4f} | R²: {r2:.4f}\")\n"
      ]
    },
    {
      "cell_type": "code",
      "execution_count": 139,
      "metadata": {},
      "outputs": [
        {
          "data": {
            "text/plain": [
              "{100: {'MAE': 0.7916895747184753, 'R2': -0.0034601688385009766},\n",
              " 300: {'MAE': 0.754784882068634, 'R2': 0.08758914470672607},\n",
              " 1000: {'MAE': 0.7690107226371765, 'R2': 0.19567209482192993},\n",
              " 3000: {'MAE': 0.27126041054725647, 'R2': 0.8059172034263611},\n",
              " 10000: {'MAE': 0.207625150680542, 'R2': 0.8460701704025269}}"
            ]
          },
          "execution_count": 139,
          "metadata": {},
          "output_type": "execute_result"
        }
      ],
      "source": [
        "smiles_results"
      ]
    },
    {
      "cell_type": "code",
      "execution_count": 140,
      "metadata": {},
      "outputs": [
        {
          "data": {
            "text/plain": [
              "{100: {'MAE': 0.7715362310409546, 'R2': 0.043221235275268555},\n",
              " 300: {'MAE': 0.6891605854034424, 'R2': 0.22730183601379395},\n",
              " 1000: {'MAE': 0.28914663195610046, 'R2': 0.7515033483505249},\n",
              " 3000: {'MAE': 0.26763126254081726, 'R2': 0.7621790170669556},\n",
              " 10000: {'MAE': 0.25977104902267456, 'R2': 0.7759352326393127}}"
            ]
          },
          "execution_count": 140,
          "metadata": {},
          "output_type": "execute_result"
        }
      ],
      "source": [
        "gcn_results"
      ]
    },
    {
      "cell_type": "code",
      "execution_count": 142,
      "metadata": {},
      "outputs": [
        {
          "name": "stdout",
          "output_type": "stream",
          "text": [
            "✅ Plot saved to task2_mae_plot.png\n"
          ]
        },
        {
          "data": {
            "image/png": "[encoded data removed]",
            "text/plain": [
              "<Figure size 700x500 with 1 Axes>"
            ]
          },
          "metadata": {},
          "output_type": "display_data"
        },
        {
          "name": "stdout",
          "output_type": "stream",
          "text": [
            "✅ Plot saved to task2_r2_plot.png\n"
          ]
        },
        {
          "data": {
            "image/png": "[encoded data removed]",
            "text/plain": [
              "<Figure size 700x500 with 1 Axes>"
            ]
          },
          "metadata": {},
          "output_type": "display_data"
        }
      ],
      "source": [
        "import matplotlib.pyplot as plt\n",
        "\n",
        "def plot_metric(results_gcn, results_smiles, metric, ylabel, filename=None):\n",
        "    sizes = sorted(results_gcn.keys())\n",
        "    gcn_values = [results_gcn[s][metric] for s in sizes]\n",
        "    smiles_values = [results_smiles[s][metric] for s in sizes]\n",
        "\n",
        "    plt.figure(figsize=(7, 5))\n",
        "    plt.plot(sizes, gcn_values, marker='o', label='GCN Model')\n",
        "    plt.plot(sizes, smiles_values, marker='s', label='SMILES Model')\n",
        "    plt.xlabel(\"Training Set Size\")\n",
        "    plt.ylabel(ylabel)\n",
        "    plt.title(f\"{ylabel} vs Training Set Size\")\n",
        "    plt.legend()\n",
        "    plt.grid(True)\n",
        "    plt.tight_layout()\n",
        "    if filename:\n",
        "        plt.savefig(filename, dpi=300)\n",
        "        print(f\"✅ Plot saved to {filename}\")\n",
        "    plt.show()\n",
        "\n",
        "# Plot using collected results\n",
        "# plot_metric(gcn_results, smiles_results, metric=\"MAE\", ylabel=\"Mean Absolute Error (MAE)\")\n",
        "# plot_metric(gcn_results, smiles_results, metric=\"R2\", ylabel=\"R² Score\")\n",
        "plot_metric(gcn_results, smiles_results, metric=\"MAE\", ylabel=\"Mean Absolute Error (MAE)\", filename=\"task2_mae_plot.png\")\n",
        "plot_metric(gcn_results, smiles_results, metric=\"R2\", ylabel=\"R² Score\", filename=\"task2_r2_plot.png\")\n",
        "\n"
      ]
    },
    {
      "cell_type": "markdown",
      "metadata": {
        "id": "5mIuOY4BGxqU"
      },
      "source": [
        "## Task 3"
      ]
    },
    {
      "cell_type": "code",
      "execution_count": 83,
      "metadata": {},
      "outputs": [],
      "source": [
        "# Setting variables\n",
        "skip_training = True\n",
        "MODEL_PATH = \"smiles_model_task3.pth\"\n",
        "seed = 42\n",
        "torch.manual_seed(seed)\n",
        "random.seed(seed)\n",
        "np.random.seed(seed)\n",
        "\n",
        "def tokenize_smiles(smiles):\n",
        "    return list(smiles)\n",
        "\n",
        "# Build vocabulary from a list of SMILES strings\n",
        "def build_vocab(smiles_list):\n",
        "    special_tokens = ['<pad>', '<sos>', '<eos>']\n",
        "    all_chars = sorted(set(''.join(smiles_list)))\n",
        "    itos = special_tokens + all_chars\n",
        "    stoi = {s: i for i, s in enumerate(itos)}\n",
        "    return stoi, itos\n"
      ]
    },
    {
      "cell_type": "code",
      "execution_count": 84,
      "metadata": {},
      "outputs": [],
      "source": [
        "class SmilesDataset(Dataset):\n",
        "    def __init__(self, smiles_list, stoi, max_len=120):\n",
        "        self.stoi = stoi\n",
        "        self.itos = {i: s for s, i in stoi.items()}\n",
        "        self.max_len = max_len\n",
        "        self.pad_idx = self.stoi['<pad>']\n",
        "        self.sos_idx = self.stoi['<sos>']\n",
        "        self.eos_idx = self.stoi['<eos>']\n",
        "        self.data = [self.encode(s) for s in smiles_list]\n",
        "\n",
        "    def encode(self, s):\n",
        "        tokens = ['<sos>'] + tokenize_smiles(s) + ['<eos>']\n",
        "        ids = [self.stoi[c] for c in tokens]\n",
        "        if len(ids) < self.max_len:\n",
        "            ids += [self.pad_idx] * (self.max_len - len(ids))\n",
        "        return ids[:self.max_len]\n",
        "\n",
        "    def __len__(self):\n",
        "        return len(self.data)\n",
        "\n",
        "    def __getitem__(self, idx):\n",
        "        seq = torch.tensor(self.data[idx], dtype=torch.long)\n",
        "        return seq[:-1], seq[1:]  # input, target\n"
      ]
    },
    {
      "cell_type": "code",
      "execution_count": 85,
      "metadata": {
        "id": "z_NgxsO3GxEE"
      },
      "outputs": [],
      "source": [
        "def is_valid_smiles(smiles):\n",
        "    if smiles is None:\n",
        "        return False\n",
        "    try:\n",
        "        mol = Chem.MolFromSmiles(smiles)\n",
        "        return mol is not None\n",
        "    except:\n",
        "        return False\n",
        "\n",
        "def canonicalize(smiles):\n",
        "    try:\n",
        "        mol = Chem.MolFromSmiles(smiles)\n",
        "        if mol:\n",
        "            return Chem.MolToSmiles(mol, canonical=True)\n",
        "        return 'None'\n",
        "    except:\n",
        "        return 'None'"
      ]
    },
    {
      "cell_type": "code",
      "execution_count": 86,
      "metadata": {
        "id": "SN_jGgOwG4kK"
      },
      "outputs": [
        {
          "data": {
            "text/plain": [
              "('COO', 'COO')"
            ]
          },
          "execution_count": 86,
          "metadata": {},
          "output_type": "execute_result"
        }
      ],
      "source": [
        "canonicalize(\"COO\"), canonicalize(\"O(C)O\")"
      ]
    },
    {
      "cell_type": "code",
      "execution_count": 87,
      "metadata": {
        "id": "-bhjYhYrHCuQ"
      },
      "outputs": [
        {
          "data": {
            "text/plain": [
              "(True, True, False)"
            ]
          },
          "execution_count": 87,
          "metadata": {},
          "output_type": "execute_result"
        }
      ],
      "source": [
        "is_valid_smiles(\"COO\"), is_valid_smiles(\"O(C)O\"), is_valid_smiles(\"C##\")"
      ]
    },
    {
      "cell_type": "code",
      "execution_count": 88,
      "metadata": {
        "id": "0_YgzDpMH-Vl"
      },
      "outputs": [],
      "source": [
        "class SmilesLSTMModel(nn.Module):\n",
        "    def __init__(self, vocab_size, embed_dim=128, hidden_dim=256, num_layers=2, dropout=0.1, pad_idx=0):\n",
        "        super().__init__()\n",
        "        self.embedding = nn.Embedding(vocab_size, embed_dim, padding_idx=pad_idx)\n",
        "        self.lstm = nn.LSTM(embed_dim, hidden_dim, num_layers=num_layers, \n",
        "                            batch_first=True, dropout=dropout)\n",
        "        self.output = nn.Linear(hidden_dim, vocab_size)\n",
        "\n",
        "    def forward(self, x, hidden=None):\n",
        "        embedded = self.embedding(x)\n",
        "        out, hidden = self.lstm(embedded, hidden)\n",
        "        logits = self.output(out)\n",
        "        return logits, hidden"
      ]
    },
    {
      "cell_type": "markdown",
      "metadata": {},
      "source": [
        "## Training Loop"
      ]
    },
    {
      "cell_type": "code",
      "execution_count": 89,
      "metadata": {},
      "outputs": [],
      "source": [
        "def train_model(model, train_dataset, stoi, epochs=10, batch_size=64, lr=1e-3,\n",
        "                device='cuda' if torch.cuda.is_available() else 'cpu'):\n",
        "\n",
        "    batch_size = 256 if torch.cuda.is_available() else 64\n",
        "    pad_idx = stoi['<pad>']\n",
        "    model = model.to(device)\n",
        "\n",
        "    if skip_training:\n",
        "      print(\"Skipping training. Loading saved model weights...\")\n",
        "      model.load_state_dict(torch.load(MODEL_PATH, map_location=device))\n",
        "      model = model.to(device)\n",
        "      return model\n",
        "\n",
        "    model.train()\n",
        "    loader = DataLoader(train_dataset, batch_size=batch_size, shuffle=True)\n",
        "    optimizer = torch.optim.Adam(model.parameters(), lr=lr)\n",
        "    loss_fn = nn.CrossEntropyLoss(ignore_index=pad_idx)\n",
        "\n",
        "    for epoch in range(1, epochs+1):\n",
        "        total_loss = 0.0\n",
        "        loop = tqdm(loader, desc=f\"Epoch {epoch}\")\n",
        "        for x, y in loop:\n",
        "            x, y = x.to(device), y.to(device)\n",
        "            logits, _ = model(x)\n",
        "\n",
        "            loss = loss_fn(logits.view(-1, logits.size(-1)), y.view(-1))\n",
        "            optimizer.zero_grad()\n",
        "            loss.backward()\n",
        "            optimizer.step()\n",
        "\n",
        "            total_loss += loss.item()\n",
        "            loop.set_postfix(loss=loss.item())\n",
        "\n",
        "        avg_loss = total_loss / len(loader)\n",
        "        print(f\"Epoch {epoch} completed. Avg Loss: {avg_loss:.4f}\")\n",
        "\n",
        "    torch.save(model.state_dict(), MODEL_PATH)\n",
        "    print(f\"Model saved to {MODEL_PATH}\")\n",
        "    return model\n"
      ]
    },
    {
      "cell_type": "code",
      "execution_count": 90,
      "metadata": {},
      "outputs": [
        {
          "name": "stdout",
          "output_type": "stream",
          "text": [
            "Skipping training. Loading saved model weights...\n"
          ]
        }
      ],
      "source": [
        "train_smiles = [smiles_data[i] for i in train_idxes]\n",
        "stoi, itos = build_vocab(train_smiles)\n",
        "train_dataset = SmilesDataset(train_smiles, stoi, max_len=120)\n",
        "\n",
        "model = SmilesLSTMModel(\n",
        "    vocab_size=len(stoi),\n",
        "    embed_dim=256,\n",
        "    hidden_dim=512,\n",
        "    num_layers=2,\n",
        "    dropout=0.1,\n",
        "    pad_idx=stoi['<pad>']\n",
        ")\n",
        "\n",
        "model = train_model(model, train_dataset, stoi, epochs=10)\n",
        "\n"
      ]
    },
    {
      "cell_type": "markdown",
      "metadata": {},
      "source": [
        "### Sampling"
      ]
    },
    {
      "cell_type": "code",
      "execution_count": 91,
      "metadata": {},
      "outputs": [],
      "source": [
        "def sample_smiles(model, stoi, itos, max_length=120, temperature=1.0, device='cuda' if torch.cuda.is_available() else 'cpu'):\n",
        "    model.eval()\n",
        "    generated = []\n",
        "    sos_idx = stoi['<sos>']\n",
        "    eos_idx = stoi['<eos>']\n",
        "\n",
        "    with torch.no_grad():\n",
        "        input_seq = torch.tensor([[sos_idx]], dtype=torch.long).to(device)\n",
        "        hidden = None\n",
        "\n",
        "        for _ in range(max_length):\n",
        "            logits, hidden = model(input_seq, hidden)\n",
        "            logits = logits[:, -1, :] / temperature\n",
        "            probs = torch.softmax(logits, dim=-1)\n",
        "            next_token = torch.multinomial(probs, num_samples=1)\n",
        "            next_idx = next_token.item()\n",
        "\n",
        "            if next_idx == eos_idx:\n",
        "                break\n",
        "\n",
        "            generated.append(itos[next_idx])\n",
        "            input_seq = next_token\n",
        "\n",
        "    return ''.join(generated)\n"
      ]
    },
    {
      "cell_type": "code",
      "execution_count": 92,
      "metadata": {},
      "outputs": [],
      "source": [
        "def generate_smiles_batch(model, stoi, itos, n=5000, temperature=1.0):\n",
        "    samples = []\n",
        "    for _ in tqdm(range(n), desc=\"Generating SMILES\"):\n",
        "        smi = sample_smiles(model, stoi, itos, temperature=temperature)\n",
        "        samples.append(smi)\n",
        "    return samples\n"
      ]
    },
    {
      "cell_type": "markdown",
      "metadata": {},
      "source": [
        "### Evaluation"
      ]
    },
    {
      "cell_type": "code",
      "execution_count": 93,
      "metadata": {},
      "outputs": [],
      "source": [
        "def evaluate_smiles(generated_smiles, train_smiles):\n",
        "    train_set = set([canonicalize(s) for s in train_smiles])\n",
        "    valid_smiles = []\n",
        "    canonical_valid = []\n",
        "\n",
        "    for smi in generated_smiles:\n",
        "        if is_valid_smiles(smi):\n",
        "            can = canonicalize(smi)\n",
        "            if can != 'None':\n",
        "                valid_smiles.append(smi)\n",
        "                canonical_valid.append(can)\n",
        "\n",
        "    total_generated = len(generated_smiles)\n",
        "    total_valid = len(valid_smiles)\n",
        "    unique_valid = len(set(canonical_valid))\n",
        "    novel_valid = len([s for s in set(canonical_valid) if s not in train_set])\n",
        "\n",
        "    return {\n",
        "        \"validity\": total_valid / total_generated * 100,\n",
        "        \"uniqueness\": unique_valid / total_valid * 100 if total_valid > 0 else 0,\n",
        "        \"novelty\": novel_valid / total_valid * 100 if total_valid > 0 else 0,\n",
        "    }\n"
      ]
    },
    {
      "cell_type": "code",
      "execution_count": 95,
      "metadata": {},
      "outputs": [
        {
          "name": "stderr",
          "output_type": "stream",
          "text": [
            "Generating SMILES: 100%|██████████| 5000/5000 [02:42<00:00, 30.69it/s]\n"
          ]
        },
        {
          "name": "stdout",
          "output_type": "stream",
          "text": [
            "Evaluation Results:\n",
            "Validity: 98.48%\n",
            "Uniqueness: 97.26%\n",
            "Novelty: 29.85%\n"
          ]
        }
      ],
      "source": [
        "from tqdm import tqdm\n",
        "samples = generate_smiles_batch(model, stoi, itos, n=5000, temperature=0.9)\n",
        "metrics = evaluate_smiles(samples, train_smiles)\n",
        "print(\"Evaluation Results:\")\n",
        "for k, v in metrics.items():\n",
        "    print(f\"{k.capitalize()}: {v:.2f}%\")\n",
        "\n",
        "with open(\"generated_smiles.txt\", \"w\") as f:\n",
        "    for smi in samples:\n",
        "        f.write(smi + \"\\n\")\n"
      ]
    },
    {
      "cell_type": "code",
      "execution_count": null,
      "metadata": {},
      "outputs": [],
      "source": []
    }
  ],
  "metadata": {
    "colab": {
      "provenance": []
    },
    "kernelspec": {
      "display_name": "Python 3",
      "name": "python3"
    },
    "language_info": {
      "codemirror_mode": {
        "name": "ipython",
        "version": 3
      },
      "file_extension": ".py",
      "mimetype": "text/x-python",
      "name": "python",
      "nbconvert_exporter": "python",
      "pygments_lexer": "ipython3",
      "version": "3.12.5"
    }
  },
  "nbformat": 4,
  "nbformat_minor": 0
}
