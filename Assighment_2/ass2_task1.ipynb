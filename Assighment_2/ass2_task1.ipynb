{
  "cells": [
    {
      "cell_type": "markdown",
      "metadata": {
        "id": "7wv9q_pcGshE"
      },
      "source": [
        "# Assignment 2 2AMM10 2023-2024\n",
        "\n",
        "## Group: [Fill in your group name]\n",
        "### Member 1: [Fill in your name]\n",
        "### Member 2: [Fill in your name]\n",
        "### Member 3: [Fill in your name]"
      ]
    },
    {
      "cell_type": "markdown",
      "metadata": {
        "id": "cQzvuDWw_Eyw"
      },
      "source": [
        "We need to install some specific libraries. The cell below installs torch_geometric for torch 2.6.0+cu124. In case the current version of torch is different, check [here](https://pytorch-geometric.readthedocs.io/en/latest/install/installation.html) to see which versions (of both libraries) you should install. You might also need to install an old version of torch from [here](https://pytorch.org/get-started/previous-versions/)\n",
        "\n",
        "**Note:** Do not install pyg_lib from the optional dependencies"
      ]
    },
    {
      "cell_type": "code",
      "execution_count": 1,
      "metadata": {
        "id": "ibC2lMHfD67H"
      },
      "outputs": [
        {
          "name": "stdout",
          "output_type": "stream",
          "text": [
            "Name: torch\n",
            "Version: 2.7.0\n",
            "Summary: Tensors and Dynamic neural networks in Python with strong GPU acceleration\n",
            "Home-page: https://pytorch.org/\n",
            "Author: PyTorch Team\n",
            "Author-email: packages@pytorch.org\n",
            "License: BSD-3-Clause\n",
            "Location: C:\\Users\\anind\\AppData\\Roaming\\Python\\Python312\\site-packages\n",
            "Requires: filelock, fsspec, jinja2, networkx, setuptools, sympy, typing-extensions\n",
            "Required-by: torchvision\n"
          ]
        }
      ],
      "source": [
        "!pip show torch"
      ]
    },
    {
      "cell_type": "code",
      "execution_count": 2,
      "metadata": {},
      "outputs": [],
      "source": [
        "# print("
      ]
    },
    {
      "cell_type": "code",
      "execution_count": 3,
      "metadata": {
        "id": "8qrPQFNe_AJu"
      },
      "outputs": [
        {
          "name": "stdout",
          "output_type": "stream",
          "text": [
            "Defaulting to user installation because normal site-packages is not writeable\n",
            "Requirement already satisfied: rdkit in c:\\users\\anind\\appdata\\roaming\\python\\python312\\site-packages (2025.3.3)\n",
            "Requirement already satisfied: numpy in c:\\users\\anind\\appdata\\roaming\\python\\python312\\site-packages (from rdkit) (2.1.3)\n",
            "Requirement already satisfied: Pillow in c:\\users\\anind\\appdata\\roaming\\python\\python312\\site-packages (from rdkit) (11.0.0)\n"
          ]
        },
        {
          "name": "stderr",
          "output_type": "stream",
          "text": [
            "\n",
            "[notice] A new release of pip is available: 25.0.1 -> 25.1.1\n",
            "[notice] To update, run: python.exe -m pip install --upgrade pip\n"
          ]
        },
        {
          "name": "stdout",
          "output_type": "stream",
          "text": [
            "Defaulting to user installation because normal site-packages is not writeable\n",
            "Requirement already satisfied: torch_geometric in c:\\users\\anind\\appdata\\roaming\\python\\python312\\site-packages (2.6.1)\n",
            "Requirement already satisfied: aiohttp in c:\\users\\anind\\appdata\\roaming\\python\\python312\\site-packages (from torch_geometric) (3.12.13)\n",
            "Requirement already satisfied: fsspec in c:\\users\\anind\\appdata\\roaming\\python\\python312\\site-packages (from torch_geometric) (2024.12.0)\n",
            "Requirement already satisfied: jinja2 in c:\\users\\anind\\appdata\\roaming\\python\\python312\\site-packages (from torch_geometric) (3.1.5)\n",
            "Requirement already satisfied: numpy in c:\\users\\anind\\appdata\\roaming\\python\\python312\\site-packages (from torch_geometric) (2.1.3)\n",
            "Requirement already satisfied: psutil>=5.8.0 in c:\\users\\anind\\appdata\\roaming\\python\\python312\\site-packages (from torch_geometric) (6.1.0)\n",
            "Requirement already satisfied: pyparsing in c:\\users\\anind\\appdata\\roaming\\python\\python312\\site-packages (from torch_geometric) (3.2.0)\n",
            "Requirement already satisfied: requests in c:\\program files\\python312\\lib\\site-packages (from torch_geometric) (2.32.3)\n",
            "Requirement already satisfied: tqdm in c:\\users\\anind\\appdata\\roaming\\python\\python312\\site-packages (from torch_geometric) (4.67.1)\n",
            "Requirement already satisfied: aiohappyeyeballs>=2.5.0 in c:\\users\\anind\\appdata\\roaming\\python\\python312\\site-packages (from aiohttp->torch_geometric) (2.6.1)\n",
            "Requirement already satisfied: aiosignal>=1.1.2 in c:\\users\\anind\\appdata\\roaming\\python\\python312\\site-packages (from aiohttp->torch_geometric) (1.3.2)\n",
            "Requirement already satisfied: attrs>=17.3.0 in c:\\users\\anind\\appdata\\roaming\\python\\python312\\site-packages (from aiohttp->torch_geometric) (25.3.0)\n",
            "Requirement already satisfied: frozenlist>=1.1.1 in c:\\users\\anind\\appdata\\roaming\\python\\python312\\site-packages (from aiohttp->torch_geometric) (1.7.0)\n",
            "Requirement already satisfied: multidict<7.0,>=4.5 in c:\\users\\anind\\appdata\\roaming\\python\\python312\\site-packages (from aiohttp->torch_geometric) (6.4.4)\n",
            "Requirement already satisfied: propcache>=0.2.0 in c:\\users\\anind\\appdata\\roaming\\python\\python312\\site-packages (from aiohttp->torch_geometric) (0.3.2)\n",
            "Requirement already satisfied: yarl<2.0,>=1.17.0 in c:\\users\\anind\\appdata\\roaming\\python\\python312\\site-packages (from aiohttp->torch_geometric) (1.20.1)\n",
            "Requirement already satisfied: MarkupSafe>=2.0 in c:\\users\\anind\\appdata\\roaming\\python\\python312\\site-packages (from jinja2->torch_geometric) (3.0.2)\n",
            "Requirement already satisfied: charset-normalizer<4,>=2 in c:\\program files\\python312\\lib\\site-packages (from requests->torch_geometric) (3.4.1)\n",
            "Requirement already satisfied: idna<4,>=2.5 in c:\\program files\\python312\\lib\\site-packages (from requests->torch_geometric) (3.10)\n",
            "Requirement already satisfied: urllib3<3,>=1.21.1 in c:\\program files\\python312\\lib\\site-packages (from requests->torch_geometric) (2.3.0)\n",
            "Requirement already satisfied: certifi>=2017.4.17 in c:\\users\\anind\\appdata\\roaming\\python\\python312\\site-packages (from requests->torch_geometric) (2025.1.31)\n",
            "Requirement already satisfied: colorama in c:\\users\\anind\\appdata\\roaming\\python\\python312\\site-packages (from tqdm->torch_geometric) (0.4.6)\n"
          ]
        },
        {
          "name": "stderr",
          "output_type": "stream",
          "text": [
            "\n",
            "[notice] A new release of pip is available: 25.0.1 -> 25.1.1\n",
            "[notice] To update, run: python.exe -m pip install --upgrade pip\n"
          ]
        },
        {
          "name": "stdout",
          "output_type": "stream",
          "text": [
            "Defaulting to user installation because normal site-packages is not writeable\n",
            "Looking in links: https://data.pyg.org/whl/torch-2.6.0+cu124.html\n",
            "Requirement already satisfied: torch_scatter in c:\\users\\anind\\appdata\\roaming\\python\\python312\\site-packages (2.1.2+pt26cu124)\n",
            "Requirement already satisfied: torch_sparse in c:\\users\\anind\\appdata\\roaming\\python\\python312\\site-packages (0.6.18+pt26cu124)\n",
            "Requirement already satisfied: torch_cluster in c:\\users\\anind\\appdata\\roaming\\python\\python312\\site-packages (1.6.3+pt26cu124)\n",
            "Requirement already satisfied: torch_spline_conv in c:\\users\\anind\\appdata\\roaming\\python\\python312\\site-packages (1.2.2+pt26cu124)\n",
            "Requirement already satisfied: scipy in c:\\users\\anind\\appdata\\roaming\\python\\python312\\site-packages (from torch_sparse) (1.14.1)\n",
            "Requirement already satisfied: numpy<2.3,>=1.23.5 in c:\\users\\anind\\appdata\\roaming\\python\\python312\\site-packages (from scipy->torch_sparse) (2.1.3)\n"
          ]
        },
        {
          "name": "stderr",
          "output_type": "stream",
          "text": [
            "\n",
            "[notice] A new release of pip is available: 25.0.1 -> 25.1.1\n",
            "[notice] To update, run: python.exe -m pip install --upgrade pip\n"
          ]
        }
      ],
      "source": [
        "!pip install rdkit\n",
        "!pip install torch_geometric\n",
        "!pip install torch_scatter torch_sparse torch_cluster torch_spline_conv -f https://data.pyg.org/whl/torch-2.6.0+cu124.html"
      ]
    },
    {
      "cell_type": "code",
      "execution_count": 4,
      "metadata": {
        "id": "WVL2eo0g_Iuv"
      },
      "outputs": [],
      "source": [
        "import pickle\n",
        "import numpy as np\n",
        "from rdkit import Chem\n",
        "from rdkit.Chem import Draw, AllChem\n",
        "from rdkit import RDLogger\n",
        "RDLogger.DisableLog('rdApp.*')\n",
        "import matplotlib.pyplot as plt"
      ]
    },
    {
      "cell_type": "code",
      "execution_count": 5,
      "metadata": {},
      "outputs": [],
      "source": [
        "import torch\n",
        "from torch.utils.data import Dataset, DataLoader\n",
        "from torch.nn.utils.rnn import pad_sequence\n",
        "import torch.nn as nn\n",
        "import torch.nn.functional as F\n",
        "import numpy as np\n",
        "import matplotlib.pyplot as plt\n"
      ]
    },
    {
      "cell_type": "code",
      "execution_count": 6,
      "metadata": {
        "id": "H8rvaK56_iQ7"
      },
      "outputs": [],
      "source": [
        "with open('pos_data.pkl', 'rb') as f:\n",
        "    pos_data = pickle.load(f)\n",
        "\n",
        "with open('type_data.pkl', 'rb') as f:\n",
        "    type_data = pickle.load(f)\n",
        "\n",
        "with open('smiles.pkl', 'rb') as f:\n",
        "    smiles_data = pickle.load(f)\n",
        "\n",
        "data_split = np.load('data_split.npz')\n",
        "\n",
        "train_idxes = data_split['train_idx']\n",
        "test_idxes = data_split['test_idx']\n",
        "\n",
        "formation_energy = np.load('formation_energy.npz')\n",
        "\n",
        "fe = formation_energy['y'] # normalized formation energy\n",
        "mu = formation_energy['mu']\n",
        "std = formation_energy['sigma']"
      ]
    },
    {
      "cell_type": "code",
      "execution_count": null,
      "metadata": {
        "id": "Bt4tiz7OF74p"
      },
      "outputs": [],
      "source": []
    },
    {
      "cell_type": "code",
      "execution_count": 7,
      "metadata": {
        "id": "DIsGRQcxA_4Q"
      },
      "outputs": [
        {
          "name": "stdout",
          "output_type": "stream",
          "text": [
            "Length of data\n",
            "pos_data: 129012, type_data: 129012, smiles: 129012\n",
            "Idxes\n",
            "train: 119012, test: 10000, sum: 129012\n"
          ]
        }
      ],
      "source": [
        "# shapes of lists\n",
        "print(\"Length of data\")\n",
        "print(f\"pos_data: {len(pos_data)}, type_data: {len(type_data)}, smiles: {len(smiles_data)}\")\n",
        "print(\"Idxes\")\n",
        "print(f\"train: {len(train_idxes)}, test: {len(test_idxes)}, sum: {len(train_idxes) + len(test_idxes)}\")"
      ]
    },
    {
      "cell_type": "code",
      "execution_count": 8,
      "metadata": {},
      "outputs": [
        {
          "name": "stdout",
          "output_type": "stream",
          "text": [
            "Atom Types: [6 1 1 1 1]\n",
            "Positions:\n",
            " [[-1.2700e-02  1.0858e+00  8.0000e-03]\n",
            " [ 2.2000e-03 -6.0000e-03  2.0000e-03]\n",
            " [ 1.0117e+00  1.4638e+00  3.0000e-04]\n",
            " [-5.4080e-01  1.4475e+00 -8.7660e-01]\n",
            " [-5.2380e-01  1.4379e+00  9.0640e-01]]\n"
          ]
        }
      ],
      "source": [
        "# Example molecule at index 0\n",
        "positions = pos_data[0]\n",
        "atom_types = type_data[0]\n",
        "\n",
        "print(\"Atom Types:\", atom_types)\n",
        "print(\"Positions:\\n\", positions)"
      ]
    },
    {
      "cell_type": "code",
      "execution_count": 9,
      "metadata": {
        "id": "bVDJF7I3BFa2"
      },
      "outputs": [],
      "source": [
        "def at_number_to_atom_name(at_number):\n",
        "    if at_number == 6:\n",
        "        return 'C'\n",
        "    elif at_number == 1:\n",
        "        return 'H'\n",
        "    elif at_number == 7:\n",
        "        return 'N'\n",
        "    elif at_number == 8:\n",
        "        return 'O'\n",
        "    elif at_number == 9:\n",
        "        return 'F'\n",
        "    elif at_number == 16:\n",
        "        return 'S'\n",
        "    else:\n",
        "        return 'Unknown'\n",
        "\n",
        "def inspect_structure(idx):\n",
        "    smile = smiles_data[idx]\n",
        "    pos = pos_data[idx]\n",
        "    typ = type_data[idx]\n",
        "\n",
        "    header = f\"{'Atom':^5}│{'Number':^6}│{'x':^10}│{'y':^10}│{'z':^10}\"\n",
        "    line   = \"─────┼──────┼──────────┼──────────┼──────────\"\n",
        "    print(header)\n",
        "    print(line)\n",
        "\n",
        "    for atom_num, (x, y, z) in zip(typ, pos):\n",
        "        atom_sym = at_number_to_atom_name(atom_num)\n",
        "        print(f\"{atom_sym:^5}│{atom_num:^6}│{x:>10.3f}│{y:>10.3f}│{z:>10.3f}\")\n",
        "    print(\"\")\n",
        "    print(\"\")\n",
        "    print(f'SMILE: {smile}')\n",
        "    print(\"\")\n",
        "    print(\"\")\n",
        "    print(f'Formation Energy: {fe[idx]*std + mu:.3f}')\n",
        "    print(f'Formation Energy (normalized): {fe[idx]:.5f}')\n",
        "    mol = Chem.MolFromSmiles(smile)\n",
        "    if mol:\n",
        "        # RDKit prefers 2‑D coordinates for nice depictions\n",
        "        Chem.AllChem.Compute2DCoords(mol)\n",
        "        img = Draw.MolToImage(mol, size=(300, 300))\n",
        "\n",
        "        # Display with matplotlib (works both in notebooks and scripts)\n",
        "        plt.figure(figsize=(3, 3))\n",
        "        plt.axis('off')\n",
        "        plt.imshow(img)\n",
        "        plt.show()"
      ]
    },
    {
      "cell_type": "code",
      "execution_count": 10,
      "metadata": {
        "id": "K1rs7hhCC4oq"
      },
      "outputs": [
        {
          "name": "stdout",
          "output_type": "stream",
          "text": [
            "Atom │Number│    x     │    y     │    z     \n",
            "─────┼──────┼──────────┼──────────┼──────────\n",
            "  C  │  6   │    -0.013│     1.086│     0.008\n",
            "  H  │  1   │     0.002│    -0.006│     0.002\n",
            "  H  │  1   │     1.012│     1.464│     0.000\n",
            "  H  │  1   │    -0.541│     1.447│    -0.877\n",
            "  H  │  1   │    -0.524│     1.438│     0.906\n",
            "\n",
            "\n",
            "SMILE: C\n",
            "\n",
            "\n",
            "Formation Energy: -17.172\n",
            "Formation Energy (normalized): 5.72327\n"
          ]
        },
        {
          "data": {
            "image/png": "[encoded data removed]",
            "text/plain": [
              "<Figure size 300x300 with 1 Axes>"
            ]
          },
          "metadata": {},
          "output_type": "display_data"
        }
      ],
      "source": [
        "# methane\n",
        "# Note how methane has a relatively high formation energy (compared to QM9)\n",
        "# This correlates with lower thermodynamic stability and higher reactivity\n",
        "# For example, methane readily burns in oxygen (CH₄ + 2O₂ → CO₂ + 2H₂O)\n",
        "inspect_structure(0)"
      ]
    },
    {
      "cell_type": "code",
      "execution_count": 11,
      "metadata": {
        "id": "vo8hYLuQCeBR"
      },
      "outputs": [
        {
          "name": "stdout",
          "output_type": "stream",
          "text": [
            "Atom │Number│    x     │    y     │    z     \n",
            "─────┼──────┼──────────┼──────────┼──────────\n",
            "  C  │  6   │    -0.034│     1.565│    -0.091\n",
            "  C  │  6   │    -0.004│     0.042│    -0.037\n",
            "  C  │  6   │    -1.372│    -0.568│     0.286\n",
            "  C  │  6   │     0.729│    -0.677│    -1.196\n",
            "  O  │  8   │     2.065│    -0.197│    -1.205\n",
            "  C  │  6   │     1.750│    -1.289│    -0.309\n",
            "  C  │  6   │     1.081│    -0.621│     0.888\n",
            "  O  │  8   │     1.206│    -0.696│     2.073\n",
            "  H  │  1   │     0.934│     1.962│    -0.403\n",
            "  H  │  1   │    -0.799│     1.917│    -0.793\n",
            "  H  │  1   │    -0.272│     1.973│     0.896\n",
            "  H  │  1   │    -2.117│    -0.252│    -0.451\n",
            "  H  │  1   │    -1.341│    -1.663│     0.290\n",
            "  H  │  1   │    -1.707│    -0.240│     1.274\n",
            "  H  │  1   │     0.321│    -1.078│    -2.117\n",
            "  H  │  1   │     2.337│    -2.195│    -0.399\n",
            "\n",
            "\n",
            "SMILE: CC1(C)C(=O)[C@@H]2O[C@@H]21\n",
            "\n",
            "\n",
            "Formation Energy: -68.208\n",
            "Formation Energy (normalized): 0.77356\n"
          ]
        },
        {
          "data": {
            "image/png": "[encoded data removed]",
            "text/plain": [
              "<Figure size 300x300 with 1 Axes>"
            ]
          },
          "metadata": {},
          "output_type": "display_data"
        }
      ],
      "source": [
        "# random structure\n",
        "inspect_structure(np.random.choice(range(len(smiles_data))))"
      ]
    },
    {
      "cell_type": "markdown",
      "metadata": {
        "id": "76MeHNQ_Gd9t"
      },
      "source": [
        "## Task 1"
      ]
    },
    {
      "cell_type": "markdown",
      "metadata": {},
      "source": [
        "## Task 1 - Building a model for geometric molecular representations\n",
        "\n",
        "a. Converting Geometric representation of data (type_data and pos_data) into PyG-compatible Data objects"
      ]
    },
    {
      "cell_type": "code",
      "execution_count": 12,
      "metadata": {
        "id": "Lv736iffCez4"
      },
      "outputs": [
        {
          "name": "stderr",
          "output_type": "stream",
          "text": [
            "C:\\Users\\anind\\AppData\\Roaming\\Python\\Python312\\site-packages\\torch_geometric\\typing.py:86: UserWarning: An issue occurred while importing 'torch-scatter'. Disabling its usage. Stacktrace: Could not find module 'C:\\Users\\anind\\AppData\\Roaming\\Python\\Python312\\site-packages\\torch_scatter\\_scatter_cuda.pyd' (or one of its dependencies). Try using the full path with constructor syntax.\n",
            "  warnings.warn(f\"An issue occurred while importing 'torch-scatter'. \"\n",
            "C:\\Users\\anind\\AppData\\Roaming\\Python\\Python312\\site-packages\\torch_geometric\\typing.py:97: UserWarning: An issue occurred while importing 'torch-cluster'. Disabling its usage. Stacktrace: Could not find module 'C:\\Users\\anind\\AppData\\Roaming\\Python\\Python312\\site-packages\\torch_cluster\\_grid_cuda.pyd' (or one of its dependencies). Try using the full path with constructor syntax.\n",
            "  warnings.warn(f\"An issue occurred while importing 'torch-cluster'. \"\n",
            "C:\\Users\\anind\\AppData\\Roaming\\Python\\Python312\\site-packages\\torch_geometric\\typing.py:113: UserWarning: An issue occurred while importing 'torch-spline-conv'. Disabling its usage. Stacktrace: Could not find module 'C:\\Users\\anind\\AppData\\Roaming\\Python\\Python312\\site-packages\\torch_spline_conv\\_basis_cuda.pyd' (or one of its dependencies). Try using the full path with constructor syntax.\n",
            "  warnings.warn(\n",
            "C:\\Users\\anind\\AppData\\Roaming\\Python\\Python312\\site-packages\\torch_geometric\\typing.py:124: UserWarning: An issue occurred while importing 'torch-sparse'. Disabling its usage. Stacktrace: Could not find module 'C:\\Users\\anind\\AppData\\Roaming\\Python\\Python312\\site-packages\\torch_sparse\\_convert_cuda.pyd' (or one of its dependencies). Try using the full path with constructor syntax.\n",
            "  warnings.warn(f\"An issue occurred while importing 'torch-sparse'. \"\n"
          ]
        }
      ],
      "source": [
        "import torch\n",
        "from torch_geometric.data import Dataset, Data\n",
        "import numpy as np\n",
        "from sklearn.preprocessing import OneHotEncoder\n",
        "from scipy.spatial import cKDTree \n",
        "\n",
        "class MoleculeGraphDataset(Dataset):\n",
        "    def __init__(self, pos_data, type_data, fe_targets, idxes, radius=3.0):\n",
        "        super().__init__()\n",
        "        self.pos_data = pos_data\n",
        "        self.type_data = type_data\n",
        "        self.targets = fe_targets\n",
        "        self.idxes = idxes\n",
        "        self.radius = radius\n",
        "        # self.encoder = OneHotEncoder(sparse=False)\n",
        "        self.encoder = OneHotEncoder(sparse_output=False)\n",
        "        self.encoder.fit(np.array([[1], [6], [7], [8], [9], [16]])) \n",
        "\n",
        "    def len(self):\n",
        "        return len(self.idxes)\n",
        "\n",
        "    def get(self, idx):\n",
        "        real_idx = self.idxes[idx]\n",
        "        pos = self.pos_data[real_idx]\n",
        "        atom_types = self.type_data[real_idx].reshape(-1, 1)\n",
        "        x = torch.tensor(self.encoder.transform(atom_types), dtype=torch.float) \n",
        "        pos = torch.tensor(pos, dtype=torch.float)\n",
        "\n",
        "        tree = cKDTree(pos)\n",
        "        # edge_index = torch.tensor(tree.query_pairs(r=self.radius), dtype=torch.long).T\n",
        "        \n",
        "        #fixing set to integer issue\n",
        "        pairs = list(tree.query_pairs(r=self.radius))\n",
        "        if len(pairs) > 0:\n",
        "            edge_index = torch.tensor(pairs, dtype=torch.long).T\n",
        "            edge_index = torch.cat([edge_index, edge_index.flip(0)], dim=1)  # make bidirectional\n",
        "        else:\n",
        "            edge_index = torch.empty((2, 0), dtype=torch.long)\n",
        "\n",
        "        # if edge_index.numel() > 0:\n",
        "        #     edge_index = torch.cat([edge_index, edge_index.flip(0)], dim=1)\n",
        "        # else:\n",
        "        #     edge_index = torch.empty((2, 0), dtype=torch.long)\n",
        "\n",
        "        y = torch.tensor(self.targets[real_idx], dtype=torch.float).view(1)\n",
        "\n",
        "        return Data(x=x, edge_index=edge_index, pos=pos, y=y)\n"
      ]
    },
    {
      "cell_type": "code",
      "execution_count": 13,
      "metadata": {},
      "outputs": [],
      "source": [
        "train_dataset = MoleculeGraphDataset(pos_data, type_data, fe, train_idxes)\n",
        "test_dataset = MoleculeGraphDataset(pos_data, type_data, fe, test_idxes)\n",
        "\n",
        "from torch_geometric.loader import DataLoader\n",
        "train_loader = DataLoader(train_dataset, batch_size=32, shuffle=True)\n",
        "test_loader = DataLoader(test_dataset, batch_size=64)\n"
      ]
    },
    {
      "cell_type": "markdown",
      "metadata": {},
      "source": [
        "Buildin GNN Model"
      ]
    },
    {
      "cell_type": "code",
      "execution_count": 14,
      "metadata": {},
      "outputs": [],
      "source": [
        "\n",
        "from torch_geometric.nn import GCNConv, global_mean_pool\n",
        "\n",
        "class GCNModel(torch.nn.Module):\n",
        "    def __init__(self, in_channels, hidden_channels):\n",
        "        super().__init__()\n",
        "        self.conv1 = GCNConv(in_channels, hidden_channels)\n",
        "        self.conv2 = GCNConv(hidden_channels, hidden_channels)\n",
        "        self.lin1 = torch.nn.Linear(hidden_channels, hidden_channels)\n",
        "        self.lin2 = torch.nn.Linear(hidden_channels, 1)\n",
        "\n",
        "    def forward(self, x, edge_index, batch):\n",
        "        x = self.conv1(x, edge_index)\n",
        "        x = F.relu(x)\n",
        "        x = self.conv2(x, edge_index)\n",
        "        x = F.relu(x)\n",
        "        x = global_mean_pool(x, batch) \n",
        "        x = self.lin1(x)\n",
        "        x = F.relu(x)\n",
        "        x = self.lin2(x)\n",
        "        return x.view(-1) \n"
      ]
    },
    {
      "cell_type": "markdown",
      "metadata": {},
      "source": [
        "Training the model"
      ]
    },
    {
      "cell_type": "code",
      "execution_count": 15,
      "metadata": {},
      "outputs": [],
      "source": [
        "model = GCNModel(in_channels=6, hidden_channels=64) "
      ]
    },
    {
      "cell_type": "code",
      "execution_count": 16,
      "metadata": {},
      "outputs": [],
      "source": [
        "#optimizer and loss function\n",
        "import torch\n",
        "from torch_geometric.data import DataLoader\n",
        "\n",
        "device = torch.device('cuda' if torch.cuda.is_available() else 'cpu')\n",
        "model = model.to(device)\n",
        "\n",
        "optimizer = torch.optim.Adam(model.parameters(), lr=1e-3)\n",
        "criterion = torch.nn.MSELoss()  #regression\n"
      ]
    },
    {
      "cell_type": "code",
      "execution_count": 17,
      "metadata": {},
      "outputs": [],
      "source": [
        "#training and evaluating\n",
        "\n",
        "def train():\n",
        "    model.train()\n",
        "    total_loss = 0\n",
        "    for batch in train_loader:\n",
        "        batch = batch.to(device)\n",
        "        optimizer.zero_grad()\n",
        "        out = model(batch.x, batch.edge_index, batch.batch)\n",
        "        loss = criterion(out, batch.y.view(-1))\n",
        "        loss.backward()\n",
        "        optimizer.step()\n",
        "        total_loss += loss.item() * batch.num_graphs\n",
        "    return total_loss / len(train_loader.dataset)\n",
        "\n",
        "# @torch.no_grad()\n",
        "# def test(loader):\n",
        "#     model.eval()\n",
        "#     total_loss = 0\n",
        "#     for batch in loader:\n",
        "#         batch = batch.to(device)\n",
        "#         out = model(batch.x, batch.edge_index, batch.batch)\n",
        "#         loss = criterion(out, batch.y.view(-1))\n",
        "#         total_loss += loss.item() * batch.num_graphs\n",
        "#     return total_loss / len(loader.dataset)\n",
        "\n",
        "@torch.no_grad()\n",
        "def evaluate(loader):\n",
        "    model.eval()\n",
        "    total_loss = 0\n",
        "    preds, targets = [], []\n",
        "    for batch in loader:\n",
        "        batch = batch.to(device)\n",
        "        out = model(batch.x, batch.edge_index, batch.batch)\n",
        "        loss = criterion(out, batch.y.view(-1))\n",
        "        total_loss += loss.item() * batch.num_graphs\n",
        "        preds.extend(out.cpu().numpy())\n",
        "        targets.extend(batch.y.view(-1).cpu().numpy())\n",
        "    avg_loss = total_loss / len(loader.dataset)\n",
        "    return avg_loss, preds, targets\n"
      ]
    },
    {
      "cell_type": "code",
      "execution_count": null,
      "metadata": {},
      "outputs": [
        {
          "name": "stdout",
          "output_type": "stream",
          "text": [
            "Epoch 01, Train Loss: 0.2304, Test Loss: 0.2112\n",
            "Model weights saved to gcn_model_weights.pt\n"
          ]
        }
      ],
      "source": [
        "for epoch in range(1, 21):\n",
        "    train_loss = train()\n",
        "    test_loss, preds_x, targets_x = evaluate(test_loader)\n",
        "    print(f\"Epoch {epoch:02d}, Train Loss: {train_loss:.4f}, Test Loss: {test_loss:.4f}\")\n",
        "\n",
        "torch.save(model.state_dict(), 'gcn_model_weights.pt')\n",
        "print(\"Model weights saved to gcn_model_weights.pt\")\n",
        "\n",
        "train_loss, train_preds, train_targets = evaluate(train_loader)\n",
        "test_loss, test_preds, test_targets = evaluate(test_loader)"
      ]
    },
    {
      "cell_type": "code",
      "execution_count": null,
      "metadata": {},
      "outputs": [],
      "source": [
        "#Unnormalizing\n",
        "import numpy as np\n",
        "\n",
        "train_preds = np.array(train_preds) * std + mu\n",
        "train_targets = np.array(train_targets) * std + mu\n",
        "\n",
        "test_preds = np.array(test_preds) * std + mu\n",
        "test_targets = np.array(test_targets) * std + mu\n"
      ]
    },
    {
      "cell_type": "code",
      "execution_count": null,
      "metadata": {},
      "outputs": [
        {
          "name": "stdout",
          "output_type": "stream",
          "text": [
            "GCN Model - Train MAE: 2.85, MSE: 22.42\n",
            "GCN Model - Test MAE: 2.89, MSE: 22.46\n"
          ]
        }
      ],
      "source": [
        "#Compute mse and mae\n",
        "from sklearn.metrics import mean_absolute_error, mean_squared_error\n",
        "\n",
        "train_mae = mean_absolute_error(train_targets, train_preds)\n",
        "train_mse = mean_squared_error(train_targets, train_preds)\n",
        "\n",
        "test_mae = mean_absolute_error(test_targets, test_preds)\n",
        "test_mse = mean_squared_error(test_targets, test_preds)\n",
        "\n",
        "print(f\"GCN Model - Train MAE: {train_mae:.2f}, MSE: {train_mse:.2f}\")\n",
        "print(f\"GCN Model - Test MAE: {test_mae:.2f}, MSE: {test_mse:.2f}\")\n"
      ]
    },
    {
      "cell_type": "code",
      "execution_count": 21,
      "metadata": {},
      "outputs": [
        {
          "data": {
            "image/png": "[encoded data removed]",
            "text/plain": [
              "<Figure size 600x600 with 1 Axes>"
            ]
          },
          "metadata": {},
          "output_type": "display_data"
        }
      ],
      "source": [
        "import matplotlib.pyplot as plt\n",
        "\n",
        "plt.figure(figsize=(6, 6))\n",
        "plt.scatter(test_targets, test_preds, alpha=0.5)\n",
        "plt.plot([min(test_targets), max(test_targets)],\n",
        "         [min(test_targets), max(test_targets)], 'r--')\n",
        "plt.xlabel(\"True Formation Energy (eV)\")\n",
        "plt.ylabel(\"Predicted Formation Energy (eV)\")\n",
        "plt.title(\"GCN Model - Test Set Predictions\")\n",
        "plt.grid(True)\n",
        "plt.savefig(\"gcn_predictions_vs_true.png\")\n",
        "plt.show()\n"
      ]
    },
    {
      "cell_type": "code",
      "execution_count": null,
      "metadata": {},
      "outputs": [
        {
          "ename": "SyntaxError",
          "evalue": "incomplete input (149104261.py, line 1)",
          "output_type": "error",
          "traceback": [
            "\u001b[1;36m  Cell \u001b[1;32mIn[22], line 1\u001b[1;36m\u001b[0m\n\u001b[1;33m    print(\u001b[0m\n\u001b[1;37m          ^\u001b[0m\n\u001b[1;31mSyntaxError\u001b[0m\u001b[1;31m:\u001b[0m incomplete input\n"
          ]
        }
      ],
      "source": [
        "# print("
      ]
    },
    {
      "cell_type": "markdown",
      "metadata": {},
      "source": [
        "## Task 1 - Building a model for SMILES molecular representations\n",
        "\n",
        "a."
      ]
    },
    {
      "cell_type": "code",
      "execution_count": null,
      "metadata": {},
      "outputs": [],
      "source": [
        "from torch.nn.utils.rnn import pad_sequence\n",
        "class SMILESTokenizer:\n",
        "    def __init__(self, smiles_list):\n",
        "        chars = set(\"\".join(smiles_list))\n",
        "        self.char2idx = {ch: i + 1 for i, ch in enumerate(sorted(chars))}\n",
        "        self.char2idx[\"<PAD>\"] = 0\n",
        "        self.idx2char = {i: ch for ch, i in self.char2idx.items()}\n",
        "\n",
        "    def encode(self, smile):\n",
        "        return torch.tensor([self.char2idx[ch] for ch in smile], dtype=torch.long)\n",
        "\n",
        "    def pad_batch(self, batch):\n",
        "        return pad_sequence(batch, batch_first=True, padding_value=0)\n"
      ]
    },
    {
      "cell_type": "code",
      "execution_count": null,
      "metadata": {},
      "outputs": [],
      "source": [
        "from torch.utils.data import Dataset\n",
        "\n",
        "class SMILESDataset(Dataset):\n",
        "    def __init__(self, smiles_list, fe_list, idx_list, tokenizer):\n",
        "        self.smiles = [tokenizer.encode(smiles_list[i]) for i in idx_list]\n",
        "        self.fe = torch.tensor([fe[i] for i in idx_list], dtype=torch.float)\n",
        "        self.tokenizer = tokenizer\n",
        "\n",
        "    def __len__(self):\n",
        "        return len(self.fe)\n",
        "\n",
        "    def __getitem__(self, idx):\n",
        "        return self.smiles[idx], self.fe[idx]\n"
      ]
    },
    {
      "cell_type": "code",
      "execution_count": null,
      "metadata": {},
      "outputs": [],
      "source": [
        "import torch.nn as nn\n",
        "\n",
        "class SMILESModel(nn.Module):\n",
        "    def __init__(self, vocab_size, embedding_dim=128, hidden_dim=256):\n",
        "        super().__init__()\n",
        "        self.embedding = nn.Embedding(vocab_size, embedding_dim, padding_idx=0)\n",
        "        self.gru = nn.GRU(embedding_dim, hidden_dim, batch_first=True)\n",
        "        self.lin1 = nn.Linear(hidden_dim, hidden_dim)\n",
        "        self.lin2 = nn.Linear(hidden_dim, 1)\n",
        "\n",
        "    def forward(self, x):\n",
        "        x = self.embedding(x)          # [B, L, D]\n",
        "        _, h_n = self.gru(x)           # [1, B, H]\n",
        "        h = h_n.squeeze(0)             # [B, H]\n",
        "        h = torch.relu(self.lin1(h))\n",
        "        return self.lin2(h).squeeze(1) # [B]\n"
      ]
    },
    {
      "cell_type": "code",
      "execution_count": null,
      "metadata": {},
      "outputs": [],
      "source": [
        "def train(model, dataloader, optimizer, criterion, device):\n",
        "    model.train()\n",
        "    total_loss = 0\n",
        "    for smiles, targets in dataloader:\n",
        "        smiles = tokenizer.pad_batch(smiles).to(device)\n",
        "        targets = targets.to(device)\n",
        "\n",
        "        optimizer.zero_grad()\n",
        "        output = model(smiles)\n",
        "        loss = criterion(output, targets)\n",
        "        loss.backward()\n",
        "        optimizer.step()\n",
        "        total_loss += loss.item() * smiles.size(0)\n",
        "    return total_loss / len(dataloader.dataset)\n",
        "\n",
        "def evaluate(model, dataloader, criterion, device):\n",
        "    model.eval()\n",
        "    total_loss = 0\n",
        "    preds, targets_all = [], []\n",
        "    with torch.no_grad():\n",
        "        for smiles, targets in dataloader:\n",
        "            smiles = tokenizer.pad_batch(smiles).to(device)\n",
        "            targets = targets.to(device)\n",
        "            output = model(smiles)\n",
        "            loss = criterion(output, targets)\n",
        "            total_loss += loss.item() * smiles.size(0)\n",
        "            preds.extend(output.cpu().numpy())\n",
        "            targets_all.extend(targets.cpu().numpy())\n",
        "    return total_loss / len(dataloader.dataset), preds, targets_all\n"
      ]
    },
    {
      "cell_type": "code",
      "execution_count": null,
      "metadata": {},
      "outputs": [
        {
          "name": "stdout",
          "output_type": "stream",
          "text": [
            "Epoch 1: Train Loss = 0.1815, Test Loss = 0.0270\n",
            "Epoch 2: Train Loss = 0.0122, Test Loss = 0.0055\n",
            "Epoch 3: Train Loss = 0.0075, Test Loss = 0.0080\n",
            "Epoch 4: Train Loss = 0.0078, Test Loss = 0.0059\n",
            "Epoch 5: Train Loss = 0.0039, Test Loss = 0.0082\n"
          ]
        }
      ],
      "source": [
        "from torch.utils.data import DataLoader\n",
        "\n",
        "# Tokenizer\n",
        "tokenizer = SMILESTokenizer(smiles_data)\n",
        "\n",
        "def collate_fn(batch):\n",
        "    smiles_batch, target_batch = zip(*batch)\n",
        "    smiles_batch = tokenizer.pad_batch(smiles_batch)\n",
        "    target_batch = torch.stack(target_batch)\n",
        "    return smiles_batch, target_batch\n",
        "\n",
        "# Datasets\n",
        "train_dataset = SMILESDataset(smiles_data, fe, train_idxes, tokenizer)\n",
        "test_dataset = SMILESDataset(smiles_data, fe, test_idxes, tokenizer)\n",
        "\n",
        "# train_loader = DataLoader(train_dataset, batch_size=64, shuffle=True)\n",
        "# test_loader = DataLoader(test_dataset, batch_size=64)\n",
        "\n",
        "train_loader = DataLoader(train_dataset, batch_size=64, shuffle=True, collate_fn=collate_fn)\n",
        "test_loader = DataLoader(test_dataset, batch_size=64, collate_fn=collate_fn)\n",
        "\n",
        "\n",
        "# Model\n",
        "device = torch.device('cuda' if torch.cuda.is_available() else 'cpu')\n",
        "model = SMILESModel(vocab_size=len(tokenizer.char2idx)).to(device)\n",
        "optimizer = torch.optim.Adam(model.parameters(), lr=1e-3)\n",
        "criterion = nn.MSELoss()\n",
        "\n",
        "# Training loop\n",
        "for epoch in range(1, 21):\n",
        "    train_loss = train(model, train_loader, optimizer, criterion, device)\n",
        "    test_loss, _, _ = evaluate(model, test_loader, criterion, device)\n",
        "    print(f\"Epoch {epoch}: Train Loss = {train_loss:.4f}, Test Loss = {test_loss:.4f}\")\n",
        "\n",
        "torch.save(model.state_dict(), \"smiles_model_weights.pt\")\n",
        "print(\"Model weights saved to smiles_model_weights.pt\")\n",
        "\n",
        "\n"
      ]
    },
    {
      "cell_type": "code",
      "execution_count": null,
      "metadata": {},
      "outputs": [],
      "source": [
        "#Run this only when you dont wanna train the model - this will load model weighys\n",
        "\n",
        "# model = SMILESModel(vocab_size=len(tokenizer.char2idx)).to(device)\n",
        "# model.load_state_dict(torch.load(\"smiles_model_weights.pt\"))\n",
        "# model.eval()"
      ]
    },
    {
      "cell_type": "code",
      "execution_count": null,
      "metadata": {},
      "outputs": [],
      "source": [
        "train_loss, train_preds, train_targets = evaluate(train_loader, criterion, device)\n",
        "test_loss, test_preds, test_targets = evaluate(test_loader, criterion, device)"
      ]
    },
    {
      "cell_type": "code",
      "execution_count": null,
      "metadata": {},
      "outputs": [],
      "source": [
        "#unnormalize\n",
        "\n",
        "train_preds = np.array(train_preds) * std + mu\n",
        "train_targets = np.array(train_targets) * std + mu\n",
        "test_preds = np.array(test_preds) * std + mu\n",
        "test_targets = np.array(test_targets) * std + mu\n"
      ]
    },
    {
      "cell_type": "code",
      "execution_count": null,
      "metadata": {},
      "outputs": [],
      "source": [
        "#compute mse and mae\n",
        "from sklearn.metrics import mean_absolute_error, mean_squared_error\n",
        "\n",
        "train_mae = mean_absolute_error(train_targets, train_preds)\n",
        "train_mse = mean_squared_error(train_targets, train_preds)\n",
        "test_mae = mean_absolute_error(test_targets, test_preds)\n",
        "test_mse = mean_squared_error(test_targets, test_preds)\n",
        "\n",
        "print(f\"SMILES Model - Train MAE: {train_mae:.2f}, MSE: {train_mse:.2f}\")\n",
        "print(f\"SMILES Model - Test MAE: {test_mae:.2f}, MSE: {test_mse:.2f}\")\n"
      ]
    },
    {
      "cell_type": "code",
      "execution_count": null,
      "metadata": {},
      "outputs": [],
      "source": [
        "#plot\n",
        "import matplotlib.pyplot as plt\n",
        "\n",
        "plt.figure(figsize=(6, 6))\n",
        "plt.scatter(test_targets, test_preds, alpha=0.5)\n",
        "plt.plot([min(test_targets), max(test_targets)],\n",
        "         [min(test_targets), max(test_targets)], 'r--')\n",
        "plt.xlabel(\"True Formation Energy (eV)\")\n",
        "plt.ylabel(\"Predicted Formation Energy (eV)\")\n",
        "plt.title(\"SMILES Model – Test Set Predictions\")\n",
        "plt.grid(True)\n",
        "plt.savefig(\"smiles_predictions_vs_true.png\")\n",
        "plt.show()\n"
      ]
    },
    {
      "cell_type": "markdown",
      "metadata": {
        "id": "n0zvKnpLGf9v"
      },
      "source": [
        "## Task 2"
      ]
    },
    {
      "cell_type": "markdown",
      "metadata": {},
      "source": []
    },
    {
      "cell_type": "code",
      "execution_count": null,
      "metadata": {
        "id": "AC1KICrZGgkY"
      },
      "outputs": [],
      "source": []
    },
    {
      "cell_type": "markdown",
      "metadata": {
        "id": "5mIuOY4BGxqU"
      },
      "source": [
        "## Task 3"
      ]
    },
    {
      "cell_type": "code",
      "execution_count": null,
      "metadata": {
        "id": "z_NgxsO3GxEE"
      },
      "outputs": [],
      "source": [
        "def is_valid_smiles(smiles):\n",
        "    if smiles is None:\n",
        "        return False\n",
        "    try:\n",
        "        mol = Chem.MolFromSmiles(smiles)\n",
        "        return mol is not None\n",
        "    except:\n",
        "        return False\n",
        "\n",
        "def canonicalize(smiles):\n",
        "    try:\n",
        "        mol = Chem.MolFromSmiles(smiles)\n",
        "        if mol:\n",
        "            return Chem.MolToSmiles(mol, canonical=True)\n",
        "        return 'None'\n",
        "    except:\n",
        "        return 'None'"
      ]
    },
    {
      "cell_type": "code",
      "execution_count": null,
      "metadata": {
        "id": "SN_jGgOwG4kK"
      },
      "outputs": [
        {
          "data": {
            "text/plain": [
              "('COO', 'COO')"
            ]
          },
          "execution_count": 24,
          "metadata": {},
          "output_type": "execute_result"
        }
      ],
      "source": [
        "canonicalize(\"COO\"), canonicalize(\"O(C)O\")"
      ]
    },
    {
      "cell_type": "code",
      "execution_count": null,
      "metadata": {
        "id": "-bhjYhYrHCuQ"
      },
      "outputs": [
        {
          "data": {
            "text/plain": [
              "(True, True, False)"
            ]
          },
          "execution_count": 25,
          "metadata": {},
          "output_type": "execute_result"
        }
      ],
      "source": [
        "is_valid_smiles(\"COO\"), is_valid_smiles(\"O(C)O\"), is_valid_smiles(\"C##\")"
      ]
    },
    {
      "cell_type": "code",
      "execution_count": null,
      "metadata": {
        "id": "0_YgzDpMH-Vl"
      },
      "outputs": [],
      "source": []
    }
  ],
  "metadata": {
    "colab": {
      "provenance": []
    },
    "kernelspec": {
      "display_name": "Python 3",
      "name": "python3"
    },
    "language_info": {
      "codemirror_mode": {
        "name": "ipython",
        "version": 3
      },
      "file_extension": ".py",
      "mimetype": "text/x-python",
      "name": "python",
      "nbconvert_exporter": "python",
      "pygments_lexer": "ipython3",
      "version": "3.12.5"
    }
  },
  "nbformat": 4,
  "nbformat_minor": 0
}
