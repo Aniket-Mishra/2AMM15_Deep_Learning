{
  "cells": [
    {
      "cell_type": "markdown",
      "metadata": {
        "id": "7wv9q_pcGshE"
      },
      "source": [
        "# Assignment 2 2AMM10 2023-2024\n",
        "\n",
        "## Group: [Fill in your group name]\n",
        "### Member 1: [Fill in your name]\n",
        "### Member 2: [Fill in your name]\n",
        "### Member 3: [Fill in your name]"
      ]
    },
    {
      "cell_type": "markdown",
      "metadata": {
        "id": "cQzvuDWw_Eyw"
      },
      "source": [
        "We need to install some specific libraries. The cell below installs torch_geometric for torch 2.6.0+cu124. In case the current version of torch is different, check [here](https://pytorch-geometric.readthedocs.io/en/latest/install/installation.html) to see which versions (of both libraries) you should install. You might also need to install an old version of torch from [here](https://pytorch.org/get-started/previous-versions/)\n",
        "\n",
        "**Note:** Do not install pyg_lib from the optional dependencies"
      ]
    },
    {
      "cell_type": "code",
      "execution_count": 135,
      "metadata": {
        "id": "ibC2lMHfD67H"
      },
      "outputs": [
        {
          "name": "stdout",
          "output_type": "stream",
          "text": [
            "Name: torch\n",
            "Version: 2.6.0\n",
            "Summary: Tensors and Dynamic neural networks in Python with strong GPU acceleration\n",
            "Home-page: https://pytorch.org/\n",
            "Author: PyTorch Team\n",
            "Author-email: packages@pytorch.org\n",
            "License: BSD-3-Clause\n",
            "Location: /home/ubuntu/miniconda3/envs/dl/lib/python3.12/site-packages\n",
            "Requires: filelock, fsspec, jinja2, networkx, nvidia-cublas-cu12, nvidia-cuda-cupti-cu12, nvidia-cuda-nvrtc-cu12, nvidia-cuda-runtime-cu12, nvidia-cudnn-cu12, nvidia-cufft-cu12, nvidia-curand-cu12, nvidia-cusolver-cu12, nvidia-cusparse-cu12, nvidia-cusparselt-cu12, nvidia-nccl-cu12, nvidia-nvjitlink-cu12, nvidia-nvtx-cu12, setuptools, sympy, triton, typing-extensions\n",
            "Required-by: openml-pytorch, pytorch-lightning, torchmetrics, torchvision\n"
          ]
        }
      ],
      "source": [
        "!pip show torch"
      ]
    },
    {
      "cell_type": "code",
      "execution_count": 136,
      "metadata": {
        "id": "8qrPQFNe_AJu"
      },
      "outputs": [
        {
          "name": "stdout",
          "output_type": "stream",
          "text": [
            "Requirement already satisfied: rdkit in /home/ubuntu/miniconda3/envs/dl/lib/python3.12/site-packages (2025.3.3)\n",
            "Requirement already satisfied: numpy in /home/ubuntu/miniconda3/envs/dl/lib/python3.12/site-packages (from rdkit) (1.26.4)\n",
            "Requirement already satisfied: Pillow in /home/ubuntu/miniconda3/envs/dl/lib/python3.12/site-packages (from rdkit) (11.1.0)\n",
            "Requirement already satisfied: torch_geometric in /home/ubuntu/miniconda3/envs/dl/lib/python3.12/site-packages (2.6.1)\n",
            "Requirement already satisfied: aiohttp in /home/ubuntu/miniconda3/envs/dl/lib/python3.12/site-packages (from torch_geometric) (3.11.14)\n",
            "Requirement already satisfied: fsspec in /home/ubuntu/miniconda3/envs/dl/lib/python3.12/site-packages (from torch_geometric) (2025.2.0)\n",
            "Requirement already satisfied: jinja2 in /home/ubuntu/miniconda3/envs/dl/lib/python3.12/site-packages (from torch_geometric) (3.1.5)\n",
            "Requirement already satisfied: numpy in /home/ubuntu/miniconda3/envs/dl/lib/python3.12/site-packages (from torch_geometric) (1.26.4)\n",
            "Requirement already satisfied: psutil>=5.8.0 in /home/ubuntu/miniconda3/envs/dl/lib/python3.12/site-packages (from torch_geometric) (7.0.0)\n",
            "Requirement already satisfied: pyparsing in /home/ubuntu/miniconda3/envs/dl/lib/python3.12/site-packages (from torch_geometric) (3.2.1)\n",
            "Requirement already satisfied: requests in /home/ubuntu/miniconda3/envs/dl/lib/python3.12/site-packages (from torch_geometric) (2.32.3)\n",
            "Requirement already satisfied: tqdm in /home/ubuntu/miniconda3/envs/dl/lib/python3.12/site-packages (from torch_geometric) (4.67.1)\n",
            "Requirement already satisfied: aiohappyeyeballs>=2.3.0 in /home/ubuntu/miniconda3/envs/dl/lib/python3.12/site-packages (from aiohttp->torch_geometric) (2.6.1)\n",
            "Requirement already satisfied: aiosignal>=1.1.2 in /home/ubuntu/miniconda3/envs/dl/lib/python3.12/site-packages (from aiohttp->torch_geometric) (1.3.2)\n",
            "Requirement already satisfied: attrs>=17.3.0 in /home/ubuntu/miniconda3/envs/dl/lib/python3.12/site-packages (from aiohttp->torch_geometric) (25.1.0)\n",
            "Requirement already satisfied: frozenlist>=1.1.1 in /home/ubuntu/miniconda3/envs/dl/lib/python3.12/site-packages (from aiohttp->torch_geometric) (1.5.0)\n",
            "Requirement already satisfied: multidict<7.0,>=4.5 in /home/ubuntu/miniconda3/envs/dl/lib/python3.12/site-packages (from aiohttp->torch_geometric) (6.2.0)\n",
            "Requirement already satisfied: propcache>=0.2.0 in /home/ubuntu/miniconda3/envs/dl/lib/python3.12/site-packages (from aiohttp->torch_geometric) (0.3.1)\n",
            "Requirement already satisfied: yarl<2.0,>=1.17.0 in /home/ubuntu/miniconda3/envs/dl/lib/python3.12/site-packages (from aiohttp->torch_geometric) (1.18.3)\n",
            "Requirement already satisfied: idna>=2.0 in /home/ubuntu/miniconda3/envs/dl/lib/python3.12/site-packages (from yarl<2.0,>=1.17.0->aiohttp->torch_geometric) (3.10)\n",
            "Requirement already satisfied: MarkupSafe>=2.0 in /home/ubuntu/miniconda3/envs/dl/lib/python3.12/site-packages (from jinja2->torch_geometric) (3.0.2)\n",
            "Requirement already satisfied: charset-normalizer<4,>=2 in /home/ubuntu/miniconda3/envs/dl/lib/python3.12/site-packages (from requests->torch_geometric) (3.4.1)\n",
            "Requirement already satisfied: urllib3<3,>=1.21.1 in /home/ubuntu/miniconda3/envs/dl/lib/python3.12/site-packages (from requests->torch_geometric) (2.3.0)\n",
            "Requirement already satisfied: certifi>=2017.4.17 in /home/ubuntu/miniconda3/envs/dl/lib/python3.12/site-packages (from requests->torch_geometric) (2025.1.31)\n",
            "Looking in links: https://data.pyg.org/whl/torch-2.6.0+cu124.html\n",
            "Requirement already satisfied: torch_scatter in /home/ubuntu/miniconda3/envs/dl/lib/python3.12/site-packages (2.1.2+pt26cu124)\n",
            "Requirement already satisfied: torch_sparse in /home/ubuntu/miniconda3/envs/dl/lib/python3.12/site-packages (0.6.18+pt26cu124)\n",
            "Requirement already satisfied: torch_cluster in /home/ubuntu/miniconda3/envs/dl/lib/python3.12/site-packages (1.6.3+pt26cu124)\n",
            "Requirement already satisfied: torch_spline_conv in /home/ubuntu/miniconda3/envs/dl/lib/python3.12/site-packages (1.2.2+pt26cu124)\n",
            "Requirement already satisfied: scipy in /home/ubuntu/miniconda3/envs/dl/lib/python3.12/site-packages (from torch_sparse) (1.12.0)\n",
            "Requirement already satisfied: numpy<1.29.0,>=1.22.4 in /home/ubuntu/miniconda3/envs/dl/lib/python3.12/site-packages (from scipy->torch_sparse) (1.26.4)\n"
          ]
        }
      ],
      "source": [
        "!pip install rdkit\n",
        "!pip install torch_geometric\n",
        "!pip install torch_scatter torch_sparse torch_cluster torch_spline_conv -f https://data.pyg.org/whl/torch-2.6.0+cu124.html"
      ]
    },
    {
      "cell_type": "code",
      "execution_count": 137,
      "metadata": {
        "id": "WVL2eo0g_Iuv"
      },
      "outputs": [],
      "source": [
        "import pickle\n",
        "import numpy as np\n",
        "from rdkit import Chem\n",
        "from rdkit.Chem import Draw, AllChem\n",
        "from rdkit import RDLogger\n",
        "RDLogger.DisableLog('rdApp.*')\n",
        "import matplotlib.pyplot as plt\n",
        "\n",
        "# More imports\n",
        "import torch\n",
        "from torch.utils.data import Dataset\n",
        "import torch.nn as nn\n",
        "import torch.nn.functional as F\n",
        "import random\n",
        "from tqdm import tqdm\n",
        "from torch.utils.data import DataLoader\n"
      ]
    },
    {
      "cell_type": "code",
      "execution_count": 138,
      "metadata": {
        "id": "H8rvaK56_iQ7"
      },
      "outputs": [],
      "source": [
        "with open('ass2_data/pos_data.pkl', 'rb') as f:\n",
        "    pos_data = pickle.load(f)\n",
        "\n",
        "with open('ass2_data/type_data.pkl', 'rb') as f:\n",
        "    type_data = pickle.load(f)\n",
        "\n",
        "with open('ass2_data/smiles.pkl', 'rb') as f:\n",
        "    smiles_data = pickle.load(f)\n",
        "\n",
        "data_split = np.load('ass2_data/data_split.npz')\n",
        "\n",
        "train_idxes = data_split['train_idx']\n",
        "test_idxes = data_split['test_idx']\n",
        "\n",
        "formation_energy = np.load('ass2_data/formation_energy.npz')\n",
        "\n",
        "fe = formation_energy['y'] # normalized formation energy\n",
        "mu = formation_energy['mu']\n",
        "std = formation_energy['sigma']"
      ]
    },
    {
      "cell_type": "code",
      "execution_count": 139,
      "metadata": {
        "id": "DIsGRQcxA_4Q"
      },
      "outputs": [
        {
          "name": "stdout",
          "output_type": "stream",
          "text": [
            "Length of data\n",
            "pos_data: 129012, type_data: 129012, smiles: 129012\n",
            "Idxes\n",
            "train: 119012, test: 10000, sum: 129012\n"
          ]
        }
      ],
      "source": [
        "# shapes of lists\n",
        "print(\"Length of data\")\n",
        "print(f\"pos_data: {len(pos_data)}, type_data: {len(type_data)}, smiles: {len(smiles_data)}\")\n",
        "print(\"Idxes\")\n",
        "print(f\"train: {len(train_idxes)}, test: {len(test_idxes)}, sum: {len(train_idxes) + len(test_idxes)}\")"
      ]
    },
    {
      "cell_type": "code",
      "execution_count": 140,
      "metadata": {
        "id": "bVDJF7I3BFa2"
      },
      "outputs": [],
      "source": [
        "def at_number_to_atom_name(at_number):\n",
        "    if at_number == 6:\n",
        "        return 'C'\n",
        "    elif at_number == 1:\n",
        "        return 'H'\n",
        "    elif at_number == 7:\n",
        "        return 'N'\n",
        "    elif at_number == 8:\n",
        "        return 'O'\n",
        "    elif at_number == 9:\n",
        "        return 'F'\n",
        "    elif at_number == 16:\n",
        "        return 'S'\n",
        "    else:\n",
        "        return 'Unknown'\n",
        "\n",
        "def inspect_structure(idx):\n",
        "    smile = smiles_data[idx]\n",
        "    pos = pos_data[idx]\n",
        "    typ = type_data[idx]\n",
        "\n",
        "    header = f\"{'Atom':^5}│{'Number':^6}│{'x':^10}│{'y':^10}│{'z':^10}\"\n",
        "    line   = \"─────┼──────┼──────────┼──────────┼──────────\"\n",
        "    print(header)\n",
        "    print(line)\n",
        "\n",
        "    for atom_num, (x, y, z) in zip(typ, pos):\n",
        "        atom_sym = at_number_to_atom_name(atom_num)\n",
        "        print(f\"{atom_sym:^5}│{atom_num:^6}│{x:>10.3f}│{y:>10.3f}│{z:>10.3f}\")\n",
        "    print(\"\")\n",
        "    print(\"\")\n",
        "    print(f'SMILE: {smile}')\n",
        "    print(\"\")\n",
        "    print(\"\")\n",
        "    print(f'Formation Energy: {fe[idx]*std + mu:.3f}')\n",
        "    print(f'Formation Energy (normalized): {fe[idx]:.5f}')\n",
        "    mol = Chem.MolFromSmiles(smile)\n",
        "    if mol:\n",
        "        # RDKit prefers 2‑D coordinates for nice depictions\n",
        "        Chem.AllChem.Compute2DCoords(mol)\n",
        "        img = Draw.MolToImage(mol, size=(300, 300))\n",
        "\n",
        "        # Display with matplotlib (works both in notebooks and scripts)\n",
        "        plt.figure(figsize=(3, 3))\n",
        "        plt.axis('off')\n",
        "        plt.imshow(img)\n",
        "        plt.show()\n",
        "        "
      ]
    },
    {
      "cell_type": "code",
      "execution_count": 141,
      "metadata": {
        "id": "K1rs7hhCC4oq"
      },
      "outputs": [
        {
          "name": "stdout",
          "output_type": "stream",
          "text": [
            "Atom │Number│    x     │    y     │    z     \n",
            "─────┼──────┼──────────┼──────────┼──────────\n",
            "  C  │  6   │    -0.013│     1.086│     0.008\n",
            "  H  │  1   │     0.002│    -0.006│     0.002\n",
            "  H  │  1   │     1.012│     1.464│     0.000\n",
            "  H  │  1   │    -0.541│     1.447│    -0.877\n",
            "  H  │  1   │    -0.524│     1.438│     0.906\n",
            "\n",
            "\n",
            "SMILE: C\n",
            "\n",
            "\n",
            "Formation Energy: -17.172\n",
            "Formation Energy (normalized): 5.72327\n"
          ]
        },
        {
          "data": {
            "image/png": "[encoded data removed]",
            "text/plain": [
              "<Figure size 300x300 with 1 Axes>"
            ]
          },
          "metadata": {},
          "output_type": "display_data"
        }
      ],
      "source": [
        "# methane\n",
        "# Note how methane has a relatively high formation energy (compared to QM9)\n",
        "# This correlates with lower thermodynamic stability and higher reactivity\n",
        "# For example, methane readily burns in oxygen (CH₄ + 2O₂ → CO₂ + 2H₂O)\n",
        "inspect_structure(0)"
      ]
    },
    {
      "cell_type": "code",
      "execution_count": 142,
      "metadata": {
        "id": "vo8hYLuQCeBR"
      },
      "outputs": [
        {
          "name": "stdout",
          "output_type": "stream",
          "text": [
            "Atom │Number│    x     │    y     │    z     \n",
            "─────┼──────┼──────────┼──────────┼──────────\n",
            "  C  │  6   │    -0.752│     1.247│    -0.023\n",
            "  C  │  6   │     0.200│     0.055│     0.014\n",
            "  C  │  6   │     1.194│    -0.002│    -1.199\n",
            "  C  │  6   │     2.363│    -0.718│    -0.601\n",
            "  N  │  7   │     3.432│    -1.340│    -0.994\n",
            "  O  │  8   │     4.044│    -1.743│     0.181\n",
            "  N  │  7   │     3.325│    -1.355│     1.299\n",
            "  C  │  6   │     2.297│    -0.727│     0.817\n",
            "  C  │  6   │     1.077│    -0.018│     1.313\n",
            "  H  │  1   │    -0.198│     2.192│     0.009\n",
            "  H  │  1   │    -1.356│     1.243│    -0.936\n",
            "  H  │  1   │    -1.438│     1.232│     0.830\n",
            "  H  │  1   │    -0.390│    -0.869│    -0.020\n",
            "  H  │  1   │     0.763│    -0.499│    -2.071\n",
            "  H  │  1   │     1.485│     1.010│    -1.511\n",
            "  H  │  1   │     1.337│     0.989│     1.664\n",
            "  H  │  1   │     0.567│    -0.526│     2.135\n",
            "\n",
            "\n",
            "SMILE: CC1Cc2nonc2C1\n",
            "\n",
            "\n",
            "Formation Energy: -72.633\n",
            "Formation Energy (normalized): 0.34440\n"
          ]
        },
        {
          "data": {
            "image/png": "[encoded data removed]",
            "text/plain": [
              "<Figure size 300x300 with 1 Axes>"
            ]
          },
          "metadata": {},
          "output_type": "display_data"
        }
      ],
      "source": [
        "# random structure\n",
        "inspect_structure(np.random.choice(range(len(smiles_data))))"
      ]
    },
    {
      "cell_type": "markdown",
      "metadata": {},
      "source": [
        "### Determine system settings (to optimize training parameters)"
      ]
    },
    {
      "cell_type": "code",
      "execution_count": 159,
      "metadata": {},
      "outputs": [
        {
          "name": "stdout",
          "output_type": "stream",
          "text": [
            "System Info\n",
            "\n",
            "PyTorch version: 2.6.0+cu124\n",
            "CUDA available: True\n",
            "Device: NVIDIA GeForce RTX 3060 Ti\n"
          ]
        }
      ],
      "source": [
        "print(\"System Info\\n\")\n",
        "print(f\"PyTorch version: {torch.__version__}\")\n",
        "print(f\"CUDA available: {torch.cuda.is_available()}\")\n",
        "if torch.cuda.is_available():\n",
        "    print(f\"Device: {torch.cuda.get_device_name(0)}\")\n",
        "else:\n",
        "    print(\"Running on CPU.\")\n"
      ]
    },
    {
      "cell_type": "markdown",
      "metadata": {},
      "source": [
        "## Data Preprocessing"
      ]
    },
    {
      "cell_type": "code",
      "execution_count": null,
      "metadata": {},
      "outputs": [],
      "source": [
        "# Setting variables\n",
        "skip_training = True\n",
        "MODEL_PATH = \"smiles_model_task3.pth\"\n",
        "seed = 42\n",
        "torch.manual_seed(seed)\n",
        "random.seed(seed)\n",
        "np.random.seed(seed)\n",
        "\n",
        "def tokenize_smiles(smiles):\n",
        "    return list(smiles)\n",
        "\n",
        "# Build vocabulary from a list of SMILES strings\n",
        "def build_vocab(smiles_list):\n",
        "    special_tokens = ['<pad>', '<sos>', '<eos>']\n",
        "    all_chars = sorted(set(''.join(smiles_list)))\n",
        "    itos = special_tokens + all_chars\n",
        "    stoi = {s: i for i, s in enumerate(itos)}\n",
        "    return stoi, itos\n"
      ]
    },
    {
      "cell_type": "code",
      "execution_count": 145,
      "metadata": {},
      "outputs": [],
      "source": [
        "class SmilesDataset(Dataset):\n",
        "    def __init__(self, smiles_list, stoi, max_len=120):\n",
        "        self.stoi = stoi\n",
        "        self.itos = {i: s for s, i in stoi.items()}\n",
        "        self.max_len = max_len\n",
        "        self.pad_idx = self.stoi['<pad>']\n",
        "        self.sos_idx = self.stoi['<sos>']\n",
        "        self.eos_idx = self.stoi['<eos>']\n",
        "        self.data = [self.encode(s) for s in smiles_list]\n",
        "\n",
        "    def encode(self, s):\n",
        "        tokens = ['<sos>'] + tokenize_smiles(s) + ['<eos>']\n",
        "        ids = [self.stoi[c] for c in tokens]\n",
        "        if len(ids) < self.max_len:\n",
        "            ids += [self.pad_idx] * (self.max_len - len(ids))\n",
        "        return ids[:self.max_len]\n",
        "\n",
        "    def __len__(self):\n",
        "        return len(self.data)\n",
        "\n",
        "    def __getitem__(self, idx):\n",
        "        seq = torch.tensor(self.data[idx], dtype=torch.long)\n",
        "        return seq[:-1], seq[1:]  # input, target\n"
      ]
    },
    {
      "cell_type": "markdown",
      "metadata": {
        "id": "76MeHNQ_Gd9t"
      },
      "source": [
        "## Task 1"
      ]
    },
    {
      "cell_type": "code",
      "execution_count": null,
      "metadata": {
        "id": "Lv736iffCez4"
      },
      "outputs": [],
      "source": []
    },
    {
      "cell_type": "markdown",
      "metadata": {
        "id": "n0zvKnpLGf9v"
      },
      "source": [
        "## Task 2"
      ]
    },
    {
      "cell_type": "code",
      "execution_count": null,
      "metadata": {
        "id": "AC1KICrZGgkY"
      },
      "outputs": [],
      "source": []
    },
    {
      "cell_type": "markdown",
      "metadata": {
        "id": "5mIuOY4BGxqU"
      },
      "source": [
        "## Task 3"
      ]
    },
    {
      "cell_type": "code",
      "execution_count": 146,
      "metadata": {
        "id": "z_NgxsO3GxEE"
      },
      "outputs": [],
      "source": [
        "def is_valid_smiles(smiles):\n",
        "    if smiles is None:\n",
        "        return False\n",
        "    try:\n",
        "        mol = Chem.MolFromSmiles(smiles)\n",
        "        return mol is not None\n",
        "    except:\n",
        "        return False\n",
        "\n",
        "def canonicalize(smiles):\n",
        "    try:\n",
        "        mol = Chem.MolFromSmiles(smiles)\n",
        "        if mol:\n",
        "            return Chem.MolToSmiles(mol, canonical=True)\n",
        "        return 'None'\n",
        "    except:\n",
        "        return 'None'"
      ]
    },
    {
      "cell_type": "code",
      "execution_count": 147,
      "metadata": {
        "id": "SN_jGgOwG4kK"
      },
      "outputs": [
        {
          "data": {
            "text/plain": [
              "('COO', 'COO')"
            ]
          },
          "execution_count": 147,
          "metadata": {},
          "output_type": "execute_result"
        }
      ],
      "source": [
        "canonicalize(\"COO\"), canonicalize(\"O(C)O\")"
      ]
    },
    {
      "cell_type": "code",
      "execution_count": 148,
      "metadata": {
        "id": "-bhjYhYrHCuQ"
      },
      "outputs": [
        {
          "data": {
            "text/plain": [
              "(True, True, False)"
            ]
          },
          "execution_count": 148,
          "metadata": {},
          "output_type": "execute_result"
        }
      ],
      "source": [
        "is_valid_smiles(\"COO\"), is_valid_smiles(\"O(C)O\"), is_valid_smiles(\"C##\")"
      ]
    },
    {
      "cell_type": "code",
      "execution_count": 149,
      "metadata": {
        "id": "0_YgzDpMH-Vl"
      },
      "outputs": [],
      "source": [
        "class SmilesLSTMModel(nn.Module):\n",
        "    def __init__(self, vocab_size, embed_dim=128, hidden_dim=256, num_layers=2, dropout=0.1, pad_idx=0):\n",
        "        super().__init__()\n",
        "        self.embedding = nn.Embedding(vocab_size, embed_dim, padding_idx=pad_idx)\n",
        "        self.lstm = nn.LSTM(embed_dim, hidden_dim, num_layers=num_layers, \n",
        "                            batch_first=True, dropout=dropout)\n",
        "        self.output = nn.Linear(hidden_dim, vocab_size)\n",
        "\n",
        "    def forward(self, x, hidden=None):\n",
        "        embedded = self.embedding(x)\n",
        "        out, hidden = self.lstm(embedded, hidden)\n",
        "        logits = self.output(out)\n",
        "        return logits, hidden\n"
      ]
    },
    {
      "cell_type": "markdown",
      "metadata": {},
      "source": [
        "## Training Loop"
      ]
    },
    {
      "cell_type": "code",
      "execution_count": null,
      "metadata": {},
      "outputs": [],
      "source": [
        "def train_model(model, train_dataset, stoi, epochs=10, batch_size=64, lr=1e-3,\n",
        "                device='cuda' if torch.cuda.is_available() else 'cpu'):\n",
        "\n",
        "    batch_size = 256 if torch.cuda.is_available() else 64\n",
        "    pad_idx = stoi['<pad>']\n",
        "    model = model.to(device)\n",
        "\n",
        "    if skip_training:\n",
        "      print(\"Skipping training. Loading saved model weights...\")\n",
        "      model.load_state_dict(torch.load(MODEL_PATH, map_location=device))\n",
        "      model = model.to(device)\n",
        "      return model\n",
        "\n",
        "    model.train()\n",
        "    loader = DataLoader(train_dataset, batch_size=batch_size, shuffle=True)\n",
        "    optimizer = torch.optim.Adam(model.parameters(), lr=lr)\n",
        "    loss_fn = nn.CrossEntropyLoss(ignore_index=pad_idx)\n",
        "\n",
        "    for epoch in range(1, epochs+1):\n",
        "        total_loss = 0.0\n",
        "        loop = tqdm(loader, desc=f\"Epoch {epoch}\")\n",
        "        for x, y in loop:\n",
        "            x, y = x.to(device), y.to(device)\n",
        "            logits, _ = model(x)\n",
        "\n",
        "            loss = loss_fn(logits.view(-1, logits.size(-1)), y.view(-1))\n",
        "            optimizer.zero_grad()\n",
        "            loss.backward()\n",
        "            optimizer.step()\n",
        "\n",
        "            total_loss += loss.item()\n",
        "            loop.set_postfix(loss=loss.item())\n",
        "\n",
        "        avg_loss = total_loss / len(loader)\n",
        "        print(f\"Epoch {epoch} completed. Avg Loss: {avg_loss:.4f}\")\n",
        "\n",
        "    torch.save(model.state_dict(), MODEL_PATH)\n",
        "    print(f\"Model saved to {MODEL_PATH}\")\n",
        "    return model\n"
      ]
    },
    {
      "cell_type": "code",
      "execution_count": 151,
      "metadata": {},
      "outputs": [
        {
          "name": "stderr",
          "output_type": "stream",
          "text": [
            "Epoch 1: 100%|██████████| 465/465 [00:30<00:00, 15.08it/s, loss=0.619]\n"
          ]
        },
        {
          "name": "stdout",
          "output_type": "stream",
          "text": [
            "Epoch 1 completed. Avg Loss: 0.7804\n"
          ]
        },
        {
          "name": "stderr",
          "output_type": "stream",
          "text": [
            "Epoch 2: 100%|██████████| 465/465 [00:30<00:00, 15.29it/s, loss=0.586]\n"
          ]
        },
        {
          "name": "stdout",
          "output_type": "stream",
          "text": [
            "Epoch 2 completed. Avg Loss: 0.5952\n"
          ]
        },
        {
          "name": "stderr",
          "output_type": "stream",
          "text": [
            "Epoch 3: 100%|██████████| 465/465 [00:27<00:00, 16.97it/s, loss=0.565]\n"
          ]
        },
        {
          "name": "stdout",
          "output_type": "stream",
          "text": [
            "Epoch 3 completed. Avg Loss: 0.5672\n"
          ]
        },
        {
          "name": "stderr",
          "output_type": "stream",
          "text": [
            "Epoch 4: 100%|██████████| 465/465 [00:29<00:00, 15.85it/s, loss=0.543]\n"
          ]
        },
        {
          "name": "stdout",
          "output_type": "stream",
          "text": [
            "Epoch 4 completed. Avg Loss: 0.5530\n"
          ]
        },
        {
          "name": "stderr",
          "output_type": "stream",
          "text": [
            "Epoch 5: 100%|██████████| 465/465 [00:34<00:00, 13.63it/s, loss=0.547]\n"
          ]
        },
        {
          "name": "stdout",
          "output_type": "stream",
          "text": [
            "Epoch 5 completed. Avg Loss: 0.5441\n"
          ]
        },
        {
          "name": "stderr",
          "output_type": "stream",
          "text": [
            "Epoch 6: 100%|██████████| 465/465 [00:29<00:00, 15.94it/s, loss=0.532]\n"
          ]
        },
        {
          "name": "stdout",
          "output_type": "stream",
          "text": [
            "Epoch 6 completed. Avg Loss: 0.5377\n"
          ]
        },
        {
          "name": "stderr",
          "output_type": "stream",
          "text": [
            "Epoch 7: 100%|██████████| 465/465 [00:31<00:00, 14.56it/s, loss=0.525]\n"
          ]
        },
        {
          "name": "stdout",
          "output_type": "stream",
          "text": [
            "Epoch 7 completed. Avg Loss: 0.5328\n"
          ]
        },
        {
          "name": "stderr",
          "output_type": "stream",
          "text": [
            "Epoch 8: 100%|██████████| 465/465 [00:31<00:00, 14.97it/s, loss=0.528]\n"
          ]
        },
        {
          "name": "stdout",
          "output_type": "stream",
          "text": [
            "Epoch 8 completed. Avg Loss: 0.5290\n"
          ]
        },
        {
          "name": "stderr",
          "output_type": "stream",
          "text": [
            "Epoch 9: 100%|██████████| 465/465 [00:31<00:00, 14.83it/s, loss=0.525]\n"
          ]
        },
        {
          "name": "stdout",
          "output_type": "stream",
          "text": [
            "Epoch 9 completed. Avg Loss: 0.5256\n"
          ]
        },
        {
          "name": "stderr",
          "output_type": "stream",
          "text": [
            "Epoch 10: 100%|██████████| 465/465 [00:30<00:00, 15.22it/s, loss=0.522]\n"
          ]
        },
        {
          "name": "stdout",
          "output_type": "stream",
          "text": [
            "Epoch 10 completed. Avg Loss: 0.5227\n",
            "Model saved to smiles_model.pth\n"
          ]
        }
      ],
      "source": [
        "train_smiles = [smiles_data[i] for i in train_idxes]\n",
        "stoi, itos = build_vocab(train_smiles)\n",
        "train_dataset = SmilesDataset(train_smiles, stoi, max_len=120)\n",
        "\n",
        "model = SmilesLSTMModel(\n",
        "    vocab_size=len(stoi),\n",
        "    embed_dim=256,\n",
        "    hidden_dim=512,\n",
        "    num_layers=2,\n",
        "    dropout=0.1,\n",
        "    pad_idx=stoi['<pad>']\n",
        ")\n",
        "\n",
        "model = train_model(model, train_dataset, stoi, epochs=10)\n",
        "\n"
      ]
    },
    {
      "cell_type": "markdown",
      "metadata": {},
      "source": [
        "### Sampling"
      ]
    },
    {
      "cell_type": "code",
      "execution_count": null,
      "metadata": {},
      "outputs": [],
      "source": [
        "def sample_smiles(model, stoi, itos, max_length=120, temperature=1.0, device='cuda' if torch.cuda.is_available() else 'cpu'):\n",
        "    model.eval()\n",
        "    generated = []\n",
        "    sos_idx = stoi['<sos>']\n",
        "    eos_idx = stoi['<eos>']\n",
        "\n",
        "    with torch.no_grad():\n",
        "        input_seq = torch.tensor([[sos_idx]], dtype=torch.long).to(device)\n",
        "        hidden = None\n",
        "\n",
        "        for _ in range(max_length):\n",
        "            logits, hidden = model(input_seq, hidden)\n",
        "            logits = logits[:, -1, :] / temperature\n",
        "            probs = torch.softmax(logits, dim=-1)\n",
        "            next_token = torch.multinomial(probs, num_samples=1)\n",
        "            next_idx = next_token.item()\n",
        "\n",
        "            if next_idx == eos_idx:\n",
        "                break\n",
        "\n",
        "            generated.append(itos[next_idx])\n",
        "            input_seq = next_token\n",
        "\n",
        "    return ''.join(generated)\n"
      ]
    },
    {
      "cell_type": "code",
      "execution_count": 153,
      "metadata": {},
      "outputs": [],
      "source": [
        "def generate_smiles_batch(model, stoi, itos, n=5000, temperature=1.0):\n",
        "    samples = []\n",
        "    for _ in tqdm(range(n), desc=\"Generating SMILES\"):\n",
        "        smi = sample_smiles(model, stoi, itos, temperature=temperature)\n",
        "        samples.append(smi)\n",
        "    return samples\n"
      ]
    },
    {
      "cell_type": "markdown",
      "metadata": {},
      "source": [
        "### Evaluation"
      ]
    },
    {
      "cell_type": "code",
      "execution_count": null,
      "metadata": {},
      "outputs": [],
      "source": [
        "def evaluate_smiles(generated_smiles, train_smiles):\n",
        "    train_set = set([canonicalize(s) for s in train_smiles])\n",
        "    valid_smiles = []\n",
        "    canonical_valid = []\n",
        "\n",
        "    for smi in generated_smiles:\n",
        "        if is_valid_smiles(smi):\n",
        "            can = canonicalize(smi)\n",
        "            if can != 'None':\n",
        "                valid_smiles.append(smi)\n",
        "                canonical_valid.append(can)\n",
        "\n",
        "    total_generated = len(generated_smiles)\n",
        "    total_valid = len(valid_smiles)\n",
        "    unique_valid = len(set(canonical_valid))\n",
        "    novel_valid = len([s for s in set(canonical_valid) if s not in train_set])\n",
        "\n",
        "    return {\n",
        "        \"validity\": total_valid / total_generated * 100,\n",
        "        \"uniqueness\": unique_valid / total_valid * 100 if total_valid > 0 else 0,\n",
        "        \"novelty\": novel_valid / total_valid * 100 if total_valid > 0 else 0,\n",
        "    }\n"
      ]
    },
    {
      "cell_type": "code",
      "execution_count": null,
      "metadata": {},
      "outputs": [
        {
          "name": "stderr",
          "output_type": "stream",
          "text": [
            "Generating SMILES: 100%|██████████| 5000/5000 [01:28<00:00, 56.51it/s]\n"
          ]
        },
        {
          "name": "stdout",
          "output_type": "stream",
          "text": [
            "Evaluation Results:\n",
            "Validity: 98.54%\n",
            "Uniqueness: 97.93%\n",
            "Novelty: 30.40%\n"
          ]
        }
      ],
      "source": [
        "samples = generate_smiles_batch(model, stoi, itos, n=5000, temperature=0.9)\n",
        "metrics = evaluate_smiles(samples, train_smiles)\n",
        "print(\"Evaluation Results:\")\n",
        "for k, v in metrics.items():\n",
        "    print(f\"{k.capitalize()}: {v:.2f}%\")\n",
        "\n",
        "with open(\"generated_smiles.txt\", \"w\") as f:\n",
        "    for smi in samples:\n",
        "        f.write(smi + \"\\n\")\n"
      ]
    }
  ],
  "metadata": {
    "colab": {
      "provenance": []
    },
    "kernelspec": {
      "display_name": "dl",
      "language": "python",
      "name": "python3"
    },
    "language_info": {
      "codemirror_mode": {
        "name": "ipython",
        "version": 3
      },
      "file_extension": ".py",
      "mimetype": "text/x-python",
      "name": "python",
      "nbconvert_exporter": "python",
      "pygments_lexer": "ipython3",
      "version": "3.12.9"
    }
  },
  "nbformat": 4,
  "nbformat_minor": 0
}
