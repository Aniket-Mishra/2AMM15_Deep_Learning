{
 "cells": [
  {
   "cell_type": "markdown",
   "metadata": {},
   "source": [
    "# Assignment 1 2AMM10 2023-2024\n",
    "\n",
    "## Group: [Fill in your group name]\n",
    "\n",
    "### Member 1: Aniket Mishra\n",
    "\n",
    "### Member 2: Anindita Sarkar\n",
    "\n",
    "<!-- ### Member 3: It's A Me, Mario -->\n",
    "\n",
    "### Member 3: Mario Trabert\n"
   ]
  },
  {
   "cell_type": "code",
   "execution_count": 1,
   "metadata": {},
   "outputs": [],
   "source": [
    "import os\n",
    "import pandas as pd\n",
    "import torch\n",
    "from torch.utils.data import Dataset\n",
    "from matplotlib import pyplot as plt\n",
    "from PIL import Image\n",
    "import numpy as np\n",
    "from torchvision import transforms\n",
    "import kagglehub\n",
    "\n",
    "\n",
    "# add additonal imports here\n",
    "class FashionDataset(Dataset):\n",
    "    def __init__(\n",
    "        self, csv_file, img_dir, column_class=\"articleTypeId\", transform=None\n",
    "    ):\n",
    "        \"\"\"\n",
    "        Args:\n",
    "            csv_file (str): Path to the CSV file with labels.\n",
    "            img_dir (str): Directory with all the images.\n",
    "            transform (callable, optional): Optional transform to be applied on a sample.\n",
    "        \"\"\"\n",
    "        self.df = pd.read_csv(csv_file)  # load CSV file\n",
    "        self.img_dir = img_dir  # image folder path\n",
    "        self.transform = transform  # image transformations\n",
    "        self.targets = list(self.df[column_class].values)\n",
    "\n",
    "    def __len__(self):\n",
    "        return len(self.targets)\n",
    "\n",
    "    def __getitem__(self, idx):\n",
    "        img_name = os.path.join(\n",
    "            self.img_dir, f\"{self.df.loc[idx,'imageId']}.jpg\"\n",
    "        )  # Get image filename\n",
    "        image = Image.open(img_name).convert(\"RGB\")  # Load image\n",
    "\n",
    "        if self.transform:\n",
    "            image = self.transform(image)  # Apply transformations\n",
    "\n",
    "        return image, self.targets[idx]"
   ]
  },
  {
   "cell_type": "markdown",
   "metadata": {},
   "source": [
    "## Importing more libraries cuz y not\n"
   ]
  },
  {
   "cell_type": "code",
   "execution_count": null,
   "metadata": {},
   "outputs": [],
   "source": [
    "from torchvision import transforms\n",
    "from torchvision.transforms import InterpolationMode\n",
    "import torch.nn as nn\n",
    "from typing import Tuple, List, Dict, Optional, Type, Any\n",
    "from torch import optim\n",
    "from torch.optim.lr_scheduler import StepLR, CyclicLR\n",
    "from sklearn.preprocessing import StandardScaler\n",
    "from sklearn.preprocessing import normalize\n",
    "from sklearn.manifold import TSNE\n",
    "import time\n",
    "from matplotlib import cm\n",
    "\n",
    "import torch.multiprocessing\n",
    "\n",
    "torch.multiprocessing.set_start_method(\"spawn\", force=True)\n",
    "\n",
    "from dataset import FashionDataset\n",
    "from datetime import datetime\n"
   ]
  },
  {
   "cell_type": "markdown",
   "metadata": {},
   "source": [
    "Download data with kagglehub\n"
   ]
  },
  {
   "cell_type": "code",
   "execution_count": 3,
   "metadata": {},
   "outputs": [],
   "source": [
    "# dataset_path = \"/Users/aniket/TU_Eindhoven/2_Study/Q4_2AMM15_Deep_Learning/4_Code/2AMM15_Deep_Learning/Assighment_1/datasets/\""
   ]
  },
  {
   "cell_type": "code",
   "execution_count": 4,
   "metadata": {},
   "outputs": [],
   "source": [
    "dataset_path = kagglehub.dataset_download(\n",
    "    \"paramaggarwal/fashion-product-images-small\"\n",
    ")\n",
    "img_dir = os.path.join(dataset_path, \"images\")"
   ]
  },
  {
   "cell_type": "markdown",
   "metadata": {},
   "source": [
    "The different datasets can be loaded using the class `FashionDataset` which is a custon PyTorch dataset (see [Datasets & DataLoaders](https://pytorch.org/tutorials/beginner/basics/data_tutorial.html) for more information). Below an example of how to use the `FashionDataset` constructor as well as some visualizations. Please note that you may have to adapt the arguments to match the strucucture of your working directory.\n"
   ]
  },
  {
   "cell_type": "code",
   "execution_count": 5,
   "metadata": {},
   "outputs": [],
   "source": [
    "local_data_path = \"/Users/aniket/TU_Eindhoven/2_Study/Q4_2AMM15_Deep_Learning/4_Code/2AMM15_Deep_Learning/Assighment_1/dataset\""
   ]
  },
  {
   "cell_type": "code",
   "execution_count": 6,
   "metadata": {},
   "outputs": [],
   "source": [
    "dataset = FashionDataset(\n",
    "    f\"{local_data_path}/train.csv\",\n",
    "    img_dir,\n",
    ")"
   ]
  },
  {
   "cell_type": "code",
   "execution_count": 7,
   "metadata": {},
   "outputs": [
    {
     "data": {
      "text/html": [
       "<div>\n",
       "<style scoped>\n",
       "    .dataframe tbody tr th:only-of-type {\n",
       "        vertical-align: middle;\n",
       "    }\n",
       "\n",
       "    .dataframe tbody tr th {\n",
       "        vertical-align: top;\n",
       "    }\n",
       "\n",
       "    .dataframe thead th {\n",
       "        text-align: right;\n",
       "    }\n",
       "</style>\n",
       "<table border=\"1\" class=\"dataframe\">\n",
       "  <thead>\n",
       "    <tr style=\"text-align: right;\">\n",
       "      <th></th>\n",
       "      <th>imageId</th>\n",
       "      <th>articleTypeName</th>\n",
       "      <th>categoryName</th>\n",
       "      <th>articleTypeId</th>\n",
       "      <th>categoryId</th>\n",
       "    </tr>\n",
       "  </thead>\n",
       "  <tbody>\n",
       "    <tr>\n",
       "      <th>0</th>\n",
       "      <td>35180</td>\n",
       "      <td>Backpacks</td>\n",
       "      <td>Bags</td>\n",
       "      <td>15</td>\n",
       "      <td>2</td>\n",
       "    </tr>\n",
       "    <tr>\n",
       "      <th>1</th>\n",
       "      <td>33585</td>\n",
       "      <td>Tshirts</td>\n",
       "      <td>Topwear</td>\n",
       "      <td>0</td>\n",
       "      <td>0</td>\n",
       "    </tr>\n",
       "    <tr>\n",
       "      <th>2</th>\n",
       "      <td>9464</td>\n",
       "      <td>Shirts</td>\n",
       "      <td>Topwear</td>\n",
       "      <td>1</td>\n",
       "      <td>0</td>\n",
       "    </tr>\n",
       "    <tr>\n",
       "      <th>3</th>\n",
       "      <td>8194</td>\n",
       "      <td>Shirts</td>\n",
       "      <td>Topwear</td>\n",
       "      <td>1</td>\n",
       "      <td>0</td>\n",
       "    </tr>\n",
       "    <tr>\n",
       "      <th>4</th>\n",
       "      <td>42231</td>\n",
       "      <td>Tops</td>\n",
       "      <td>Topwear</td>\n",
       "      <td>6</td>\n",
       "      <td>0</td>\n",
       "    </tr>\n",
       "  </tbody>\n",
       "</table>\n",
       "</div>"
      ],
      "text/plain": [
       "   imageId articleTypeName categoryName  articleTypeId  categoryId\n",
       "0    35180       Backpacks         Bags             15           2\n",
       "1    33585         Tshirts      Topwear              0           0\n",
       "2     9464          Shirts      Topwear              1           0\n",
       "3     8194          Shirts      Topwear              1           0\n",
       "4    42231            Tops      Topwear              6           0"
      ]
     },
     "execution_count": 7,
     "metadata": {},
     "output_type": "execute_result"
    }
   ],
   "source": [
    "dataset.df.head()"
   ]
  },
  {
   "cell_type": "code",
   "execution_count": 8,
   "metadata": {},
   "outputs": [
    {
     "data": {
      "text/html": [
       "<div>\n",
       "<style scoped>\n",
       "    .dataframe tbody tr th:only-of-type {\n",
       "        vertical-align: middle;\n",
       "    }\n",
       "\n",
       "    .dataframe tbody tr th {\n",
       "        vertical-align: top;\n",
       "    }\n",
       "\n",
       "    .dataframe thead th {\n",
       "        text-align: right;\n",
       "    }\n",
       "</style>\n",
       "<table border=\"1\" class=\"dataframe\">\n",
       "  <thead>\n",
       "    <tr style=\"text-align: right;\">\n",
       "      <th></th>\n",
       "      <th>imageId</th>\n",
       "      <th>articleTypeName</th>\n",
       "      <th>categoryName</th>\n",
       "      <th>articleTypeId</th>\n",
       "      <th>categoryId</th>\n",
       "    </tr>\n",
       "  </thead>\n",
       "  <tbody>\n",
       "    <tr>\n",
       "      <th>0</th>\n",
       "      <td>35180</td>\n",
       "      <td>Backpacks</td>\n",
       "      <td>Bags</td>\n",
       "      <td>15</td>\n",
       "      <td>2</td>\n",
       "    </tr>\n",
       "    <tr>\n",
       "      <th>1</th>\n",
       "      <td>33585</td>\n",
       "      <td>Tshirts</td>\n",
       "      <td>Topwear</td>\n",
       "      <td>0</td>\n",
       "      <td>0</td>\n",
       "    </tr>\n",
       "    <tr>\n",
       "      <th>2</th>\n",
       "      <td>9464</td>\n",
       "      <td>Shirts</td>\n",
       "      <td>Topwear</td>\n",
       "      <td>1</td>\n",
       "      <td>0</td>\n",
       "    </tr>\n",
       "    <tr>\n",
       "      <th>3</th>\n",
       "      <td>8194</td>\n",
       "      <td>Shirts</td>\n",
       "      <td>Topwear</td>\n",
       "      <td>1</td>\n",
       "      <td>0</td>\n",
       "    </tr>\n",
       "    <tr>\n",
       "      <th>4</th>\n",
       "      <td>42231</td>\n",
       "      <td>Tops</td>\n",
       "      <td>Topwear</td>\n",
       "      <td>6</td>\n",
       "      <td>0</td>\n",
       "    </tr>\n",
       "    <tr>\n",
       "      <th>...</th>\n",
       "      <td>...</td>\n",
       "      <td>...</td>\n",
       "      <td>...</td>\n",
       "      <td>...</td>\n",
       "      <td>...</td>\n",
       "    </tr>\n",
       "    <tr>\n",
       "      <th>35929</th>\n",
       "      <td>13398</td>\n",
       "      <td>Shirts</td>\n",
       "      <td>Topwear</td>\n",
       "      <td>1</td>\n",
       "      <td>0</td>\n",
       "    </tr>\n",
       "    <tr>\n",
       "      <th>35930</th>\n",
       "      <td>53734</td>\n",
       "      <td>Casual Shoes</td>\n",
       "      <td>Shoes</td>\n",
       "      <td>2</td>\n",
       "      <td>1</td>\n",
       "    </tr>\n",
       "    <tr>\n",
       "      <th>35931</th>\n",
       "      <td>11033</td>\n",
       "      <td>Tops</td>\n",
       "      <td>Topwear</td>\n",
       "      <td>6</td>\n",
       "      <td>0</td>\n",
       "    </tr>\n",
       "    <tr>\n",
       "      <th>35932</th>\n",
       "      <td>22334</td>\n",
       "      <td>Tshirts</td>\n",
       "      <td>Topwear</td>\n",
       "      <td>0</td>\n",
       "      <td>0</td>\n",
       "    </tr>\n",
       "    <tr>\n",
       "      <th>35933</th>\n",
       "      <td>17096</td>\n",
       "      <td>Wallets</td>\n",
       "      <td>Wallets</td>\n",
       "      <td>10</td>\n",
       "      <td>10</td>\n",
       "    </tr>\n",
       "  </tbody>\n",
       "</table>\n",
       "<p>35934 rows × 5 columns</p>\n",
       "</div>"
      ],
      "text/plain": [
       "       imageId articleTypeName categoryName  articleTypeId  categoryId\n",
       "0        35180       Backpacks         Bags             15           2\n",
       "1        33585         Tshirts      Topwear              0           0\n",
       "2         9464          Shirts      Topwear              1           0\n",
       "3         8194          Shirts      Topwear              1           0\n",
       "4        42231            Tops      Topwear              6           0\n",
       "...        ...             ...          ...            ...         ...\n",
       "35929    13398          Shirts      Topwear              1           0\n",
       "35930    53734    Casual Shoes        Shoes              2           1\n",
       "35931    11033            Tops      Topwear              6           0\n",
       "35932    22334         Tshirts      Topwear              0           0\n",
       "35933    17096         Wallets      Wallets             10          10\n",
       "\n",
       "[35934 rows x 5 columns]"
      ]
     },
     "execution_count": 8,
     "metadata": {},
     "output_type": "execute_result"
    }
   ],
   "source": [
    "dataset.df"
   ]
  },
  {
   "cell_type": "code",
   "execution_count": 9,
   "metadata": {},
   "outputs": [
    {
     "data": {
      "text/plain": [
       "'/Users/aniket/.cache/kagglehub/datasets/paramaggarwal/fashion-product-images-small/versions/1/images'"
      ]
     },
     "execution_count": 9,
     "metadata": {},
     "output_type": "execute_result"
    }
   ],
   "source": [
    "dataset.img_dir"
   ]
  },
  {
   "cell_type": "code",
   "execution_count": 10,
   "metadata": {},
   "outputs": [
    {
     "data": {
      "text/plain": [
       "1163"
      ]
     },
     "execution_count": 10,
     "metadata": {},
     "output_type": "execute_result"
    }
   ],
   "source": [
    "dataset.df[\"imageId\"].min()"
   ]
  },
  {
   "cell_type": "code",
   "execution_count": 11,
   "metadata": {},
   "outputs": [
    {
     "data": {
      "text/plain": [
       "(<PIL.Image.Image image mode=RGB size=60x80>, 15)"
      ]
     },
     "execution_count": 11,
     "metadata": {},
     "output_type": "execute_result"
    }
   ],
   "source": [
    "dataset[0]"
   ]
  },
  {
   "cell_type": "code",
   "execution_count": 12,
   "metadata": {},
   "outputs": [
    {
     "data": {
      "text/plain": [
       "39"
      ]
     },
     "execution_count": 12,
     "metadata": {},
     "output_type": "execute_result"
    }
   ],
   "source": [
    "len(set(dataset.targets))"
   ]
  },
  {
   "cell_type": "code",
   "execution_count": 13,
   "metadata": {},
   "outputs": [
    {
     "data": {
      "image/png": "[encoded data removed]",
      "text/plain": [
       "<Figure size 640x480 with 1 Axes>"
      ]
     },
     "metadata": {},
     "output_type": "display_data"
    },
    {
     "data": {
      "image/png": "[encoded data removed]",
      "text/plain": [
       "<Figure size 640x480 with 1 Axes>"
      ]
     },
     "metadata": {},
     "output_type": "display_data"
    },
    {
     "data": {
      "image/png": "[encoded data removed]",
      "text/plain": [
       "<Figure size 640x480 with 1 Axes>"
      ]
     },
     "metadata": {},
     "output_type": "display_data"
    }
   ],
   "source": [
    "np.random.seed(42)\n",
    "# np.random.seed(69)\n",
    "random_indices = np.random.choice(len(dataset), 3)\n",
    "\n",
    "for i in random_indices:\n",
    "    img, label = dataset[i]\n",
    "    plt.title(dataset.df.iloc[i][\"articleTypeName\"] + f\" ({label.item()})\")\n",
    "    plt.imshow(img)\n",
    "    plt.show()"
   ]
  },
  {
   "cell_type": "code",
   "execution_count": 14,
   "metadata": {},
   "outputs": [],
   "source": [
    "# Setting up default values, I forget to change them everywhere\n",
    "batch_size = 512\n",
    "learning_rate = 0.0001\n",
    "all_birbs = sorted(list(set(dataset.targets)))\n",
    "num_classes = len(set(dataset.targets))\n",
    "\n",
    "resize_pixels_x = 128\n",
    "resize_pixels_y = 128\n",
    "crop_size = 128"
   ]
  },
  {
   "cell_type": "code",
   "execution_count": 15,
   "metadata": {},
   "outputs": [],
   "source": [
    "transform = transforms.Compose(\n",
    "    [\n",
    "        transforms.Resize((resize_pixels_x, resize_pixels_y)),\n",
    "        transforms.RandomResizedCrop(\n",
    "            crop_size\n",
    "        ),  # Crop yoinks stuff completely, gotta skip ig?\n",
    "        transforms.RandomHorizontalFlip(),\n",
    "        transforms.RandomRotation(\n",
    "            (-15, 15), interpolation=InterpolationMode.NEAREST\n",
    "        ),  # Rotate +-15 degrees cuz not text, we can\n",
    "        transforms.ColorJitter(brightness=0.1, contrast=0.15, saturation=0.2),\n",
    "        # Data Augmentation - end\n",
    "        transforms.ToTensor(),\n",
    "        transforms.Normalize(mean=[0.5] * 3, std=[0.5] * 3),\n",
    "    ]\n",
    ")\n",
    "\n",
    "test_transform = transforms.Compose(\n",
    "    [\n",
    "        transforms.Resize((resize_pixels_x, resize_pixels_y)),\n",
    "        transforms.ToTensor(),\n",
    "        transforms.Normalize(mean=[0.5] * 3, std=[0.5] * 3),\n",
    "    ]\n",
    ")"
   ]
  },
  {
   "cell_type": "markdown",
   "metadata": {},
   "source": [
    "## Loading different datasets\n"
   ]
  },
  {
   "cell_type": "code",
   "execution_count": 16,
   "metadata": {},
   "outputs": [],
   "source": [
    "# transform = transforms.Compose([...])  # your image transformations\n",
    "train_dataset = FashionDataset(\n",
    "    f\"{local_data_path}/train.csv\",\n",
    "    img_dir,\n",
    "    transform=transform,\n",
    ")\n",
    "main_test_dataset = FashionDataset(\n",
    "    f\"{local_data_path}/main_test.csv\",\n",
    "    img_dir,\n",
    "    transform=test_transform,\n",
    ")\n",
    "new_test_dataset = FashionDataset(\n",
    "    f\"{local_data_path}/new_test.csv\",\n",
    "    img_dir,\n",
    "    transform=test_transform,\n",
    ")\n",
    "main_support_dataset = FashionDataset(\n",
    "    f\"{local_data_path}/main_support.csv\",\n",
    "    img_dir,\n",
    "    transform=test_transform,\n",
    ")\n",
    "new_support_dataset = FashionDataset(\n",
    "    f\"{local_data_path}/new_support.csv\",\n",
    "    img_dir,\n",
    "    transform=test_transform,\n",
    ")\n",
    "merged_test_dataset = FashionDataset(\n",
    "    f\"{local_data_path}/merged_test.csv\",\n",
    "    img_dir,\n",
    "    transform=test_transform,\n",
    ")  # merged corresponds to main+new\n",
    "merged_support_dataset = FashionDataset(\n",
    "    f\"{local_data_path}/merged_support.csv\",\n",
    "    img_dir,\n",
    "    transform=test_transform,\n",
    ")\n",
    "\n",
    "# datasets with categories\n",
    "main_test_dataset_cat = FashionDataset(\n",
    "    f\"{local_data_path}/main_test.csv\",\n",
    "    img_dir,\n",
    "    column_class=\"categoryId\",\n",
    "    transform=test_transform,\n",
    ")\n",
    "main_support_dataset_cat = FashionDataset(\n",
    "    f\"{local_data_path}/main_support.csv\",\n",
    "    img_dir,\n",
    "    column_class=\"categoryId\",\n",
    "    transform=test_transform,\n",
    ")\n",
    "\n",
    "\n",
    "label_id_to_label_name = {\n",
    "    i: train_dataset.df[train_dataset.df[\"articleTypeId\"] == i][\n",
    "        \"articleTypeName\"\n",
    "    ].iloc[0]\n",
    "    for i in range(39)\n",
    "}\n",
    "label_id_to_label_name.update(\n",
    "    {\n",
    "        i: new_test_dataset.df[new_test_dataset.df[\"articleTypeId\"] == i][\n",
    "            \"articleTypeName\"\n",
    "        ].iloc[0]\n",
    "        for i in range(39, 39 + 30)\n",
    "    }\n",
    ")"
   ]
  },
  {
   "cell_type": "markdown",
   "metadata": {},
   "source": [
    "## Task 1\n"
   ]
  },
  {
   "cell_type": "code",
   "execution_count": 17,
   "metadata": {},
   "outputs": [
    {
     "name": "stdout",
     "output_type": "stream",
     "text": [
      "ResNet CNN2 defined\n"
     ]
    }
   ],
   "source": [
    "class ResidualBlock(nn.Module):\n",
    "    def __init__(self, in_channels, out_channels, downsample=False):\n",
    "        super(ResidualBlock, self).__init__()\n",
    "\n",
    "        stride = 2 if downsample else 1\n",
    "\n",
    "        self.conv1 = nn.Conv2d(\n",
    "            in_channels, out_channels, kernel_size=3, padding=1, stride=stride\n",
    "        )\n",
    "        self.bn1 = nn.BatchNorm2d(out_channels)\n",
    "        self.relu = nn.ReLU(inplace=True)\n",
    "\n",
    "        self.conv2 = nn.Conv2d(\n",
    "            out_channels, out_channels, kernel_size=3, padding=1\n",
    "        )\n",
    "        self.bn2 = nn.BatchNorm2d(out_channels)\n",
    "\n",
    "        self.downsample = None\n",
    "        if downsample or in_channels != out_channels:\n",
    "            self.downsample = nn.Sequential(\n",
    "                nn.Conv2d(\n",
    "                    in_channels, out_channels, kernel_size=1, stride=stride\n",
    "                ),\n",
    "                nn.BatchNorm2d(out_channels),\n",
    "            )\n",
    "\n",
    "    def forward(self, x):\n",
    "        identity = x\n",
    "\n",
    "        out = self.conv1(x)\n",
    "        out = self.bn1(out)\n",
    "        out = self.relu(out)\n",
    "\n",
    "        out = self.conv2(out)\n",
    "        out = self.bn2(out)\n",
    "\n",
    "        if self.downsample is not None:\n",
    "            identity = self.downsample(x)\n",
    "\n",
    "        out += identity\n",
    "        out = self.relu(out)\n",
    "\n",
    "        return out\n",
    "\n",
    "\n",
    "class ResNetCNN2(nn.Module):\n",
    "    def __init__(self, in_channels, num_classes):\n",
    "        super(ResNetCNN2, self).__init__()\n",
    "\n",
    "        self.conv1 = nn.Conv2d(in_channels, 16, kernel_size=3, padding=1)\n",
    "        self.bn1 = nn.BatchNorm2d(16)\n",
    "        self.relu = nn.ReLU(inplace=True)\n",
    "        self.pool = nn.MaxPool2d(2)\n",
    "\n",
    "        self.layer1 = ResidualBlock(16, 32, downsample=False)\n",
    "        self.layer2 = ResidualBlock(32, 64, downsample=True)\n",
    "        self.layer3 = ResidualBlock(64, 128, downsample=True)\n",
    "        # self.layer4 = ResidualBlock(128, 128, downsample=True)\n",
    "        self.layer4 = ResidualBlock(128, 256, downsample=True)\n",
    "\n",
    "        self.dropout = nn.Dropout(0.1)\n",
    "\n",
    "        with torch.no_grad():\n",
    "            dummy_input = torch.zeros(1, in_channels, 128, 128)\n",
    "            x = self.conv1(dummy_input)\n",
    "            x = self.bn1(x)\n",
    "            x = self.relu(x)\n",
    "            x = self.pool(x)\n",
    "            x = self.layer1(x)\n",
    "            x = self.layer2(x)\n",
    "            x = self.layer3(x)\n",
    "            # x = self.layer4(x)\n",
    "            x = self.layer4(x)\n",
    "            self.flattened_size = x.view(1, -1).shape[1]\n",
    "\n",
    "        self.fc1 = nn.Linear(self.flattened_size, 256)\n",
    "        self.fc2 = nn.Linear(256, num_classes)\n",
    "\n",
    "    def forward(self, x):\n",
    "        x = self.conv1(x)\n",
    "        x = self.bn1(x)\n",
    "        x = self.relu(x)\n",
    "        x = self.pool(x)\n",
    "\n",
    "        x = self.layer1(x)\n",
    "        x = self.layer2(x)\n",
    "        x = self.layer3(x)\n",
    "        x = self.layer4(x)\n",
    "\n",
    "        x = self.dropout(x)\n",
    "        x = torch.flatten(x, 1)\n",
    "        x = self.fc1(x)\n",
    "        x = self.relu(x)\n",
    "        x = self.dropout(x)\n",
    "        x = self.fc2(x)\n",
    "        return x\n",
    "\n",
    "    def get_embeddings(self, x):\n",
    "        x = self.conv1(x)\n",
    "        x = self.bn1(x)\n",
    "        x = self.relu(x)\n",
    "        x = self.pool(x)\n",
    "\n",
    "        x = self.layer1(x)\n",
    "        x = self.layer2(x)\n",
    "        x = self.layer3(x)\n",
    "        x = self.layer4(x)\n",
    "\n",
    "        x = self.dropout(x)\n",
    "        x = torch.flatten(x, 1)\n",
    "        x = self.fc1(x)\n",
    "        x = self.relu(x)\n",
    "        return x\n",
    "\n",
    "\n",
    "print(\"ResNet CNN2 defined\")"
   ]
  },
  {
   "cell_type": "code",
   "execution_count": 18,
   "metadata": {},
   "outputs": [],
   "source": [
    "# your solution\n",
    "# train dataset: train_dataset\n",
    "# test datset: main_test_dataset"
   ]
  },
  {
   "cell_type": "code",
   "execution_count": 19,
   "metadata": {},
   "outputs": [
    {
     "name": "stdout",
     "output_type": "stream",
     "text": [
      "mps\n",
      "None\n"
     ]
    }
   ],
   "source": [
    "device = (\n",
    "    \"cuda\"\n",
    "    if torch.cuda.is_available()\n",
    "    else \"mps\" if torch.backends.mps.is_available() else \"cpu\"\n",
    ")\n",
    "print(device)\n",
    "print(torch.version.xpu)"
   ]
  },
  {
   "cell_type": "code",
   "execution_count": 20,
   "metadata": {},
   "outputs": [
    {
     "data": {
      "text/plain": [
       "ResNetCNN2(\n",
       "  (conv1): Conv2d(3, 16, kernel_size=(3, 3), stride=(1, 1), padding=(1, 1))\n",
       "  (bn1): BatchNorm2d(16, eps=1e-05, momentum=0.1, affine=True, track_running_stats=True)\n",
       "  (relu): ReLU(inplace=True)\n",
       "  (pool): MaxPool2d(kernel_size=2, stride=2, padding=0, dilation=1, ceil_mode=False)\n",
       "  (layer1): ResidualBlock(\n",
       "    (conv1): Conv2d(16, 32, kernel_size=(3, 3), stride=(1, 1), padding=(1, 1))\n",
       "    (bn1): BatchNorm2d(32, eps=1e-05, momentum=0.1, affine=True, track_running_stats=True)\n",
       "    (relu): ReLU(inplace=True)\n",
       "    (conv2): Conv2d(32, 32, kernel_size=(3, 3), stride=(1, 1), padding=(1, 1))\n",
       "    (bn2): BatchNorm2d(32, eps=1e-05, momentum=0.1, affine=True, track_running_stats=True)\n",
       "    (downsample): Sequential(\n",
       "      (0): Conv2d(16, 32, kernel_size=(1, 1), stride=(1, 1))\n",
       "      (1): BatchNorm2d(32, eps=1e-05, momentum=0.1, affine=True, track_running_stats=True)\n",
       "    )\n",
       "  )\n",
       "  (layer2): ResidualBlock(\n",
       "    (conv1): Conv2d(32, 64, kernel_size=(3, 3), stride=(2, 2), padding=(1, 1))\n",
       "    (bn1): BatchNorm2d(64, eps=1e-05, momentum=0.1, affine=True, track_running_stats=True)\n",
       "    (relu): ReLU(inplace=True)\n",
       "    (conv2): Conv2d(64, 64, kernel_size=(3, 3), stride=(1, 1), padding=(1, 1))\n",
       "    (bn2): BatchNorm2d(64, eps=1e-05, momentum=0.1, affine=True, track_running_stats=True)\n",
       "    (downsample): Sequential(\n",
       "      (0): Conv2d(32, 64, kernel_size=(1, 1), stride=(2, 2))\n",
       "      (1): BatchNorm2d(64, eps=1e-05, momentum=0.1, affine=True, track_running_stats=True)\n",
       "    )\n",
       "  )\n",
       "  (layer3): ResidualBlock(\n",
       "    (conv1): Conv2d(64, 128, kernel_size=(3, 3), stride=(2, 2), padding=(1, 1))\n",
       "    (bn1): BatchNorm2d(128, eps=1e-05, momentum=0.1, affine=True, track_running_stats=True)\n",
       "    (relu): ReLU(inplace=True)\n",
       "    (conv2): Conv2d(128, 128, kernel_size=(3, 3), stride=(1, 1), padding=(1, 1))\n",
       "    (bn2): BatchNorm2d(128, eps=1e-05, momentum=0.1, affine=True, track_running_stats=True)\n",
       "    (downsample): Sequential(\n",
       "      (0): Conv2d(64, 128, kernel_size=(1, 1), stride=(2, 2))\n",
       "      (1): BatchNorm2d(128, eps=1e-05, momentum=0.1, affine=True, track_running_stats=True)\n",
       "    )\n",
       "  )\n",
       "  (layer4): ResidualBlock(\n",
       "    (conv1): Conv2d(128, 256, kernel_size=(3, 3), stride=(2, 2), padding=(1, 1))\n",
       "    (bn1): BatchNorm2d(256, eps=1e-05, momentum=0.1, affine=True, track_running_stats=True)\n",
       "    (relu): ReLU(inplace=True)\n",
       "    (conv2): Conv2d(256, 256, kernel_size=(3, 3), stride=(1, 1), padding=(1, 1))\n",
       "    (bn2): BatchNorm2d(256, eps=1e-05, momentum=0.1, affine=True, track_running_stats=True)\n",
       "    (downsample): Sequential(\n",
       "      (0): Conv2d(128, 256, kernel_size=(1, 1), stride=(2, 2))\n",
       "      (1): BatchNorm2d(256, eps=1e-05, momentum=0.1, affine=True, track_running_stats=True)\n",
       "    )\n",
       "  )\n",
       "  (dropout): Dropout(p=0.1, inplace=False)\n",
       "  (fc1): Linear(in_features=16384, out_features=256, bias=True)\n",
       "  (fc2): Linear(in_features=256, out_features=39, bias=True)\n",
       ")"
      ]
     },
     "execution_count": 20,
     "metadata": {},
     "output_type": "execute_result"
    }
   ],
   "source": [
    "model = ResNetCNN2(in_channels=3, num_classes=num_classes)\n",
    "model = model.to(device)\n",
    "model"
   ]
  },
  {
   "cell_type": "code",
   "execution_count": 21,
   "metadata": {},
   "outputs": [],
   "source": [
    "# Optional: Learning Rate Scheduler\n",
    "# from torch.optim.lr_scheduler import StepLR\n",
    "# scheduler = StepLR(optimizer, step_size=7, gamma=0.1) # Example: reduce LR every 7 epochs\n"
   ]
  },
  {
   "cell_type": "code",
   "execution_count": null,
   "metadata": {},
   "outputs": [],
   "source": [
    "import torch.optim as optim\n",
    "from torch.utils.data import DataLoader\n",
    "from sklearn.metrics import accuracy_score, balanced_accuracy_score # \n",
    "import time\n",
    "import matplotlib.pyplot as plt # For plotting loss and accuracy\n"
   ]
  },
  {
   "cell_type": "code",
   "execution_count": null,
   "metadata": {},
   "outputs": [
    {
     "name": "stdout",
     "output_type": "stream",
     "text": [
      "Using device: mps\n",
      "Number of classes: 39\n",
      "Batch size: 512\n",
      "Learning rate: 0.0001\n"
     ]
    }
   ],
   "source": [
    "# num_epochs = 25\n",
    "num_epochs = 60\n",
    "\n",
    "print(f\"Using device: {device}\")\n",
    "print(f\"Number of classes: {num_classes}\")\n",
    "print(f\"Batch size: {batch_size}\")\n",
    "print(f\"Learning rate: {learning_rate}\")\n",
    "\n",
    "\n",
    "criterion = nn.CrossEntropyLoss()\n",
    "\n",
    "optimizer = optim.Adam(model.parameters(), lr=learning_rate)\n",
    "\n",
    "# Optional: Learning Rate Scheduler\n",
    "# from torch.optim.lr_scheduler import StepLR\n",
    "# scheduler = StepLR(optimizer, step_size=7, gamma=0.1) # Example: reduce LR every 7 epochs\n"
   ]
  },
  {
   "cell_type": "code",
   "execution_count": 24,
   "metadata": {},
   "outputs": [
    {
     "data": {
      "text/plain": [
       "12"
      ]
     },
     "execution_count": 24,
     "metadata": {},
     "output_type": "execute_result"
    }
   ],
   "source": [
    "import os\n",
    "cpu_count = os.cpu_count()\n",
    "cpu_count"
   ]
  },
  {
   "cell_type": "code",
   "execution_count": null,
   "metadata": {},
   "outputs": [],
   "source": []
  },
  {
   "cell_type": "code",
   "execution_count": null,
   "metadata": {},
   "outputs": [
    {
     "name": "stdout",
     "output_type": "stream",
     "text": [
      "Train loader: 71 batches, 35934 samples\n",
      "Test loader: 4 batches, 1997 samples\n",
      "\n",
      "Starting training...\n",
      "Epoch [1/10], Step [17/71], Batch Loss: 3.0308\n",
      "Epoch [1/10], Step [34/71], Batch Loss: 2.5978\n",
      "Epoch [1/10], Step [51/71], Batch Loss: 2.4043\n",
      "Epoch [1/10], Step [68/71], Batch Loss: 2.2696\n",
      "Epoch [1/10] completed in 231.97s:\n",
      "  Training Loss: 2.6832, Training Accuracy: 27.69%\n",
      "  Test Loss: 1.8879, Test Accuracy: 48.42%, Test Balanced Accuracy: 27.96%\n",
      "Epoch [2/10], Step [17/71], Batch Loss: 2.0756\n",
      "Epoch [2/10], Step [34/71], Batch Loss: 1.9394\n",
      "Epoch [2/10], Step [51/71], Batch Loss: 1.8789\n",
      "Epoch [2/10], Step [68/71], Batch Loss: 1.8838\n",
      "Epoch [2/10] completed in 142.90s:\n",
      "  Training Loss: 2.0310, Training Accuracy: 41.93%\n",
      "  Test Loss: 1.4418, Test Accuracy: 56.89%, Test Balanced Accuracy: 41.98%\n",
      "Epoch [3/10], Step [17/71], Batch Loss: 1.7692\n",
      "Epoch [3/10], Step [34/71], Batch Loss: 1.7712\n",
      "Epoch [3/10], Step [51/71], Batch Loss: 1.6627\n",
      "Epoch [3/10], Step [68/71], Batch Loss: 1.8748\n",
      "Epoch [3/10] completed in 143.55s:\n",
      "  Training Loss: 1.7255, Training Accuracy: 49.38%\n",
      "  Test Loss: 1.1648, Test Accuracy: 67.45%, Test Balanced Accuracy: 55.83%\n",
      "Epoch [4/10], Step [17/71], Batch Loss: 1.6298\n",
      "Epoch [4/10], Step [34/71], Batch Loss: 1.5493\n",
      "Epoch [4/10], Step [51/71], Batch Loss: 1.4318\n",
      "Epoch [4/10], Step [68/71], Batch Loss: 1.5234\n",
      "Epoch [4/10] completed in 144.04s:\n",
      "  Training Loss: 1.5475, Training Accuracy: 54.21%\n",
      "  Test Loss: 0.9328, Test Accuracy: 72.46%, Test Balanced Accuracy: 61.11%\n",
      "Epoch [5/10], Step [17/71], Batch Loss: 1.3778\n",
      "Epoch [5/10], Step [34/71], Batch Loss: 1.5234\n",
      "Epoch [5/10], Step [51/71], Batch Loss: 1.3685\n",
      "Epoch [5/10], Step [68/71], Batch Loss: 1.3653\n",
      "Epoch [5/10] completed in 142.60s:\n",
      "  Training Loss: 1.4470, Training Accuracy: 56.85%\n",
      "  Test Loss: 0.8560, Test Accuracy: 72.51%, Test Balanced Accuracy: 61.75%\n",
      "Epoch [6/10], Step [17/71], Batch Loss: 1.2747\n",
      "Epoch [6/10], Step [34/71], Batch Loss: 1.4021\n",
      "Epoch [6/10], Step [51/71], Batch Loss: 1.2994\n",
      "Epoch [6/10], Step [68/71], Batch Loss: 1.3517\n",
      "Epoch [6/10] completed in 145.89s:\n",
      "  Training Loss: 1.3831, Training Accuracy: 58.40%\n",
      "  Test Loss: 0.9094, Test Accuracy: 72.36%, Test Balanced Accuracy: 62.42%\n",
      "Epoch [7/10], Step [17/71], Batch Loss: 1.3053\n",
      "Epoch [7/10], Step [34/71], Batch Loss: 1.2299\n",
      "Epoch [7/10], Step [51/71], Batch Loss: 1.2450\n",
      "Epoch [7/10], Step [68/71], Batch Loss: 1.3833\n",
      "Epoch [7/10] completed in 145.29s:\n",
      "  Training Loss: 1.2922, Training Accuracy: 60.52%\n",
      "  Test Loss: 0.7567, Test Accuracy: 75.16%, Test Balanced Accuracy: 67.09%\n",
      "Epoch [8/10], Step [17/71], Batch Loss: 1.2710\n",
      "Epoch [8/10], Step [34/71], Batch Loss: 1.3005\n",
      "Epoch [8/10], Step [51/71], Batch Loss: 1.2790\n",
      "Epoch [8/10], Step [68/71], Batch Loss: 1.2044\n",
      "Epoch [8/10] completed in 149.06s:\n",
      "  Training Loss: 1.2741, Training Accuracy: 60.88%\n",
      "  Test Loss: 0.8180, Test Accuracy: 73.16%, Test Balanced Accuracy: 64.19%\n",
      "Epoch [9/10], Step [17/71], Batch Loss: 1.2105\n",
      "Epoch [9/10], Step [34/71], Batch Loss: 1.2656\n",
      "Epoch [9/10], Step [51/71], Batch Loss: 1.1249\n",
      "Epoch [9/10], Step [68/71], Batch Loss: 1.2201\n",
      "Epoch [9/10] completed in 143.61s:\n",
      "  Training Loss: 1.2031, Training Accuracy: 62.99%\n",
      "  Test Loss: 0.7101, Test Accuracy: 77.57%, Test Balanced Accuracy: 68.59%\n",
      "Epoch [10/10], Step [17/71], Batch Loss: 1.1246\n",
      "Epoch [10/10], Step [34/71], Batch Loss: 1.1027\n",
      "Epoch [10/10], Step [51/71], Batch Loss: 1.1031\n",
      "Epoch [10/10], Step [68/71], Batch Loss: 1.0343\n",
      "Epoch [10/10] completed in 143.47s:\n",
      "  Training Loss: 1.1628, Training Accuracy: 63.83%\n",
      "  Test Loss: 0.7240, Test Accuracy: 76.36%, Test Balanced Accuracy: 68.38%\n",
      "\n",
      "Finished Training.\n"
     ]
    },
    {
     "data": {
      "image/png": "[encoded data removed]",
      "text/plain": [
       "<Figure size 1800x500 with 3 Axes>"
      ]
     },
     "metadata": {},
     "output_type": "display_data"
    }
   ],
   "source": [
    "\n",
    "if 'train_dataset' not in locals() or 'main_test_dataset' not in locals():\n",
    "\tprint(\"Please ensure train_dataset and main_test_dataset are defined.\")\n",
    "else:\n",
    "\ttrain_loader = DataLoader(\n",
    "\t\tdataset=train_dataset,\n",
    "\t\tbatch_size=batch_size,\n",
    "\t\tshuffle=True,\n",
    "\t\tnum_workers=cpu_count-1,\n",
    "\t\tpin_memory=True if device in [\"cuda\", \"mps\"] else False\n",
    "\t)\n",
    "\n",
    "\ttest_loader = DataLoader(\n",
    "\t\tdataset=main_test_dataset, \n",
    "\t\tbatch_size=batch_size,\n",
    "\t\tshuffle=False,\n",
    "\t\tnum_workers=cpu_count-1,\n",
    "\t\tpin_memory=True if device == [\"cuda\", \"mps\"] else False\n",
    "\t)\n",
    "\n",
    "\tprint(f\"Train loader: {len(train_loader)} batches, {len(train_loader.dataset)} samples\")\n",
    "\tprint(f\"Test loader: {len(test_loader)} batches, {len(test_loader.dataset)} samples\")\n",
    "\n",
    "\n",
    "\ttrain_losses = []\n",
    "\ttest_losses = []\n",
    "\ttrain_accuracies = []\n",
    "\ttest_accuracies = []\n",
    "\ttest_balanced_accuracies = []\n",
    "\n",
    "\tprint(\"\\nStarting training...\")\n",
    "\tfor epoch in range(num_epochs):\n",
    "\t\tmodel.train()  # Set model to training mode\n",
    "\t\trunning_loss = 0.0\n",
    "\t\tcorrect_train = 0\n",
    "\t\ttotal_train = 0\n",
    "\t\tepoch_start_time = time.time()\n",
    "\n",
    "\t\tfor i, (images, labels) in enumerate(train_loader):\n",
    "\t\t\timages = images.to(device)\n",
    "\t\t\tlabels = labels.to(device)\n",
    "\n",
    "\t\t\t# Forward pass\n",
    "\t\t\toutputs = model(images)\n",
    "\t\t\tloss = criterion(outputs, labels)\n",
    "\n",
    "\t\t\t# Backward and optimize\n",
    "\t\t\toptimizer.zero_grad()\n",
    "\t\t\tloss.backward()\n",
    "\t\t\toptimizer.step()\n",
    "\n",
    "\t\t\trunning_loss += loss.item() * images.size(0) # loss.item() is avg loss for batch\n",
    "\n",
    "\t\t\t# Training accuracy for the batch\n",
    "\t\t\t_, predicted = torch.max(outputs.data, 1)\n",
    "\t\t\ttotal_train += labels.size(0)\n",
    "\t\t\tcorrect_train += (predicted == labels).sum().item()\n",
    "\n",
    "\t\t\tif (i + 1) % (len(train_loader) // 4) == 0 and i != 0 : # Print progress a few times per epoch\n",
    "\t\t\t\t\tprint(f\"Epoch [{epoch+1}/{num_epochs}], Step [{i+1}/{len(train_loader)}], \"\n",
    "\t\t\t\t\t\tf\"Batch Loss: {loss.item():.4f}\")\n",
    "\n",
    "\t\tepoch_loss = running_loss / total_train\n",
    "\t\tepoch_acc = 100 * correct_train / total_train\n",
    "\t\ttrain_losses.append(epoch_loss)\n",
    "\t\ttrain_accuracies.append(epoch_acc)\n",
    "\n",
    "\t\t# if 'scheduler' in locals():\n",
    "\t\t#     scheduler.step()\n",
    "\n",
    "\t\tmodel.eval()\n",
    "\t\tcorrect_test = 0\n",
    "\t\ttotal_test = 0\n",
    "\t\trunning_test_loss = 0.0\n",
    "\t\tall_test_preds = []\n",
    "\t\tall_test_labels = []\n",
    "\n",
    "\t\twith torch.no_grad(): # Disable gradient calculations for evaluation\n",
    "\t\t\tfor images, labels in test_loader:\n",
    "\t\t\t\timages = images.to(device)\n",
    "\t\t\t\tlabels = labels.to(device)\n",
    "\n",
    "\t\t\t\toutputs = model(images)\n",
    "\t\t\t\tloss = criterion(outputs, labels)\n",
    "\t\t\t\trunning_test_loss += loss.item() * images.size(0)\n",
    "\n",
    "\t\t\t\t_, predicted = torch.max(outputs.data, 1)\n",
    "\t\t\t\ttotal_test += labels.size(0)\n",
    "\t\t\t\tcorrect_test += (predicted == labels).sum().item()\n",
    "\t\t\t\tall_test_preds.extend(predicted.cpu().numpy())\n",
    "\t\t\t\tall_test_labels.extend(labels.cpu().numpy())\n",
    "\n",
    "\t\tepoch_test_loss = running_test_loss / total_test\n",
    "\t\tepoch_test_acc = 100 * correct_test / total_test\n",
    "\t\tepoch_test_balanced_acc = balanced_accuracy_score(all_test_labels, all_test_preds) * 100\n",
    "\n",
    "\t\ttest_losses.append(epoch_test_loss)\n",
    "\t\ttest_accuracies.append(epoch_test_acc)\n",
    "\t\ttest_balanced_accuracies.append(epoch_test_balanced_acc)\n",
    "\n",
    "\t\tepoch_end_time = time.time()\n",
    "\t\tepoch_duration = epoch_end_time - epoch_start_time\n",
    "\n",
    "\t\tprint(f\"Epoch [{epoch+1}/{num_epochs}] completed in {epoch_duration:.2f}s:\")\n",
    "\t\tprint(f\"  Training Loss: {epoch_loss:.4f}, Training Accuracy: {epoch_acc:.2f}%\")\n",
    "\t\tprint(f\"  Test Loss: {epoch_test_loss:.4f}, Test Accuracy: {epoch_test_acc:.2f}%, Test Balanced Accuracy: {epoch_test_balanced_acc:.2f}%\")\n",
    "\t\tif epoch_test_acc >= 75 and epoch_test_balanced_acc >= 75:\n",
    "\t\t\tprint(f\"  Performance target reached on main classes test set at epoch {epoch+1}!\")\n",
    "\n",
    "\n",
    "\tprint(\"\\nFinished Training.\")\n",
    "\n",
    "\tplt.figure(figsize=(18, 5))\n",
    "\n",
    "\tplt.subplot(1, 3, 1)\n",
    "\tplt.plot(train_losses, label=\"Training Loss\")\n",
    "\tplt.plot(test_losses, label=\"Test Loss (Main Classes)\")\n",
    "\tplt.title(\"Loss over epochs\")\n",
    "\tplt.xlabel(\"Epoch\")\n",
    "\tplt.ylabel(\"Loss\")\n",
    "\tplt.legend()\n",
    "\tplt.grid(True)\n",
    "\n",
    "\tplt.subplot(1, 3, 2)\n",
    "\tplt.plot(train_accuracies, label=\"Training Accuracy\")\n",
    "\tplt.plot(test_accuracies, label=\"Test Accuracy (Main Classes)\")\n",
    "\tplt.title(\"Accuracy over epochs\")\n",
    "\tplt.xlabel(\"Epoch\")\n",
    "\tplt.ylabel(\"Accuracy (%)\")\n",
    "\tplt.legend()\n",
    "\tplt.grid(True)\n",
    "\n",
    "\tplt.subplot(1, 3, 3)\n",
    "\tplt.plot(test_balanced_accuracies, label=\"Test Balanced Accuracy (Main Classes)\")\n",
    "\tplt.title(\"Balanced Accuracy (Test) over epochs\")\n",
    "\tplt.xlabel(\"Epoch\")\n",
    "\tplt.ylabel(\"Balanced Accuracy (%)\")\n",
    "\tplt.legend()\n",
    "\tplt.grid(True)\n",
    "\n",
    "\tplt.tight_layout()\n",
    "\tplt.show()\n",
    "\n",
    "\tos.makedirs(\"outputs/images\", exist_ok=True)\n",
    "\n",
    "\t# Save training plots as image\n",
    "\tplot_save_path = f\"outputs/images/training_curves_{timestamp}.png\"\n",
    "\tplt.savefig(plot_save_path)\n",
    "\n",
    "\ttimestamp = datetime.now().strftime(\"%Y%m%d_%H%M\")\n",
    "\ttorch.save(model.state_dict(), f\"outputs/models/resnetcnn2_task1_{timestamp}.pth\")\n",
    "\t# model_save_path = \"fashion_resnet_cnn2_task1_final.pth\"\n",
    "\t# torch.save(model.state_dict(), model_save_path)\n",
    "\t# print(f\"Model saved to {model_save_path}\")\n"
   ]
  },
  {
   "cell_type": "markdown",
   "metadata": {},
   "source": [
    "Saving dem models ez\n"
   ]
  },
  {
   "cell_type": "code",
   "execution_count": 26,
   "metadata": {},
   "outputs": [
    {
     "name": "stdout",
     "output_type": "stream",
     "text": [
      "Model saved to resnetcnn2_task1.pth\n"
     ]
    }
   ],
   "source": [
    "save_path = \"resnetcnn2_task1.pth\"\n",
    "torch.save(model.state_dict(), save_path)\n",
    "print(f\"Model saved to {save_path}\")"
   ]
  },
  {
   "cell_type": "code",
   "execution_count": null,
   "metadata": {},
   "outputs": [],
   "source": [
    "timestamp = datetime.now().strftime(\"%Y%m%d_%H%M\")\n",
    "torch.save(model.state_dict(), f\"resnetcnn2_task1_{timestamp}.pth\")"
   ]
  },
  {
   "cell_type": "code",
   "execution_count": null,
   "metadata": {},
   "outputs": [],
   "source": []
  },
  {
   "cell_type": "code",
   "execution_count": null,
   "metadata": {},
   "outputs": [],
   "source": []
  },
  {
   "cell_type": "markdown",
   "metadata": {},
   "source": [
    "## Task 2\n"
   ]
  },
  {
   "cell_type": "code",
   "execution_count": 28,
   "metadata": {},
   "outputs": [],
   "source": [
    "# your solution\n",
    "# train dataset: train_dataset\n",
    "# test and support dataset: see scenarios table"
   ]
  },
  {
   "cell_type": "code",
   "execution_count": 29,
   "metadata": {},
   "outputs": [],
   "source": [
    "triplet_loss = nn.TripletMarginLoss(margin=1.0, p=2)\n"
   ]
  },
  {
   "cell_type": "code",
   "execution_count": 30,
   "metadata": {},
   "outputs": [
    {
     "name": "stdout",
     "output_type": "stream",
     "text": [
      "Model loaded and ready for Task 2\n"
     ]
    }
   ],
   "source": [
    "model = ResNetCNN2(in_channels=3, num_classes=39)  # same as original\n",
    "model.load_state_dict(torch.load(\"resnetcnn2_task1.pth\", map_location=device))\n",
    "model = model.to(device)\n",
    "model.eval()\n",
    "print(\"Model loaded and ready for Task 2\")\n"
   ]
  },
  {
   "cell_type": "code",
   "execution_count": 31,
   "metadata": {},
   "outputs": [],
   "source": [
    "from torch.utils.data import DataLoader\n",
    "from sklearn.metrics import balanced_accuracy_score\n",
    "import torch\n",
    "import numpy as np\n",
    "import tqdm\n",
    "\n",
    "\n",
    "def extract_embeddings(model, dataloader, device):\n",
    "    model.eval()\n",
    "    embeddings, labels = [], []\n",
    "    with torch.no_grad():\n",
    "        for images, lbls in dataloader:\n",
    "            images = images.to(device)\n",
    "            emb = model.get_embeddings(images).cpu()\n",
    "            embeddings.append(emb)\n",
    "            labels.append(lbls)\n",
    "    return torch.cat(embeddings), torch.cat(labels)\n",
    "\n",
    "\n",
    "def classify_with_support(query_embeddings, support_embeddings, support_labels, k=1):\n",
    "    distances = torch.cdist(query_embeddings, support_embeddings)  # shape: [N_query, N_support]\n",
    "    topk_indices = distances.topk(k, largest=False).indices       # shape: [N_query, k]\n",
    "    topk_labels = support_labels[topk_indices]                    # shape: [N_query, k]\n",
    "    pred_labels = torch.mode(topk_labels, dim=1).values\n",
    "    return pred_labels\n",
    "\n",
    "\n",
    "def evaluate_with_support(model, support_dataset, test_dataset, device, batch_size=512, k=1):\n",
    "    support_loader = DataLoader(support_dataset, batch_size=batch_size, shuffle=False)\n",
    "    test_loader = DataLoader(test_dataset, batch_size=batch_size, shuffle=False)\n",
    "\n",
    "    support_embeddings, support_labels = extract_embeddings(model, support_loader, device)\n",
    "    test_embeddings, test_labels = extract_embeddings(model, test_loader, device)\n",
    "\n",
    "    pred_labels = classify_with_support(test_embeddings, support_embeddings, support_labels, k)\n",
    "\n",
    "    acc = (pred_labels == test_labels).float().mean().item() * 100\n",
    "    bal_acc = balanced_accuracy_score(test_labels.numpy(), pred_labels.numpy()) * 100\n",
    "    return acc, bal_acc\n"
   ]
  },
  {
   "cell_type": "code",
   "execution_count": 35,
   "metadata": {},
   "outputs": [
    {
     "name": "stdout",
     "output_type": "stream",
     "text": [
      "\n",
      "Evaluating Task 2 Scenarios...\n",
      "\n",
      "Scenario 1 (Train support → Main test):\n",
      "  Accuracy:         73.26%\n",
      "  Balanced Accuracy:68.66%\n",
      "\n",
      "Saved model to resnetcnn2_task2_scenario_1.pth\n",
      "\n",
      "Scenario 2 (Main support → Main test):\n",
      "  Accuracy:         74.61%\n",
      "  Balanced Accuracy:68.46%\n",
      "\n",
      "Saved model to resnetcnn2_task2_scenario_2.pth\n",
      "\n",
      "Scenario 3 (New support → New test):\n",
      "  Accuracy:         78.31%\n",
      "  Balanced Accuracy:78.42%\n",
      "\n",
      "Saved model to resnetcnn2_task2_scenario_3.pth\n",
      "\n",
      "Scenario 4 (Merged support → Merged test):\n",
      "  Accuracy:         69.51%\n",
      "  Balanced Accuracy:64.65%\n",
      "\n",
      "Saved model to resnetcnn2_task2_scenario_4.pth\n",
      "\n"
     ]
    }
   ],
   "source": [
    "print(\"\\nEvaluating Task 2 Scenarios...\\n\")\n",
    "\n",
    "scenarios = {\n",
    "    \"Scenario 1 (Train support → Main test)\": (train_dataset, main_test_dataset),\n",
    "    \"Scenario 2 (Main support → Main test)\": (main_support_dataset, main_test_dataset),\n",
    "    \"Scenario 3 (New support → New test)\": (new_support_dataset, new_test_dataset),\n",
    "    \"Scenario 4 (Merged support → Merged test)\": (merged_support_dataset, merged_test_dataset),\n",
    "}\n",
    "\n",
    "for name, (support_set, test_set) in scenarios.items():\n",
    "    acc, bal_acc = evaluate_with_support(model, support_set, test_set, device)\n",
    "    print(f\"{name}:\")\n",
    "    print(f\"  Accuracy:         {acc:.2f}%\")\n",
    "    print(f\"  Balanced Accuracy:{bal_acc:.2f}%\\n\")\n",
    "\n",
    "    scenario_id = name.split(\"(\")[0].strip().replace(\" \", \"_\").lower()\n",
    "    model_save_path = f\"resnetcnn2_task2_{scenario_id}.pth\"\n",
    "    \n",
    "    # Save model state dict\n",
    "    torch.save(model.state_dict(), model_save_path)\n",
    "    print(f\"Saved model to {model_save_path}\\n\")\n"
   ]
  },
  {
   "cell_type": "markdown",
   "metadata": {},
   "source": [
    "## Task 3\n"
   ]
  },
  {
   "cell_type": "code",
   "execution_count": 33,
   "metadata": {},
   "outputs": [],
   "source": [
    "# your solution\n",
    "# test dataset: merged_test_dataset\n",
    "# support/catalog dataset: support_test_dataset"
   ]
  },
  {
   "cell_type": "code",
   "execution_count": null,
   "metadata": {},
   "outputs": [],
   "source": []
  },
  {
   "cell_type": "code",
   "execution_count": null,
   "metadata": {},
   "outputs": [],
   "source": []
  },
  {
   "cell_type": "markdown",
   "metadata": {},
   "source": [
    "## Task 4\n"
   ]
  },
  {
   "cell_type": "code",
   "execution_count": 34,
   "metadata": {},
   "outputs": [],
   "source": [
    "# your solution\n",
    "# datasets: first 10 classes of train_dataset and main_test_dataset"
   ]
  },
  {
   "cell_type": "code",
   "execution_count": null,
   "metadata": {},
   "outputs": [],
   "source": []
  },
  {
   "cell_type": "code",
   "execution_count": null,
   "metadata": {},
   "outputs": [],
   "source": []
  }
 ],
 "metadata": {
  "kernelspec": {
   "display_name": "env_312_tue_ml",
   "language": "python",
   "name": "python3"
  },
  "language_info": {
   "codemirror_mode": {
    "name": "ipython",
    "version": 3
   },
   "file_extension": ".py",
   "mimetype": "text/x-python",
   "name": "python",
   "nbconvert_exporter": "python",
   "pygments_lexer": "ipython3",
   "version": "3.12.8"
  }
 },
 "nbformat": 4,
 "nbformat_minor": 2
}
